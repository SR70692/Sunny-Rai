{
 "cells": [
  {
   "cell_type": "markdown",
   "id": "50212415",
   "metadata": {},
   "source": [
    "## First Practical Exercise - Random Search\n",
    "This is going to be the starting point for your implementation as it is relatively straightforward to do and other components will also make us of the functions we develop.\n",
    "\n",
    "There are 3 things needed:\n",
    "- A function that generates a random string (to avoid over complicating things, it is permissible to restrict the string to the same length as the target, and limit the character set to printable characters)\n",
    "- A fitness function that scores the string based on how good a solution it is. This will also be your fitness function in the GA and used to determine the best neighbour in the hill climber. There are several options about how you do this, but a way to approach it is to think about how you would identify the better solution from two random strings.\n",
    "- A loop which generates and evaluates multiple random solutions and reports on the best one found and the total number of evaluations tried.\n"
   ]
  },
  {
   "cell_type": "markdown",
   "id": "93c23a8b",
   "metadata": {},
   "source": [
    "### Constants and Imports\n",
    "We will need various constants such as the target string along with imports for the packages we are going to make use of."
   ]
  },
  {
   "cell_type": "code",
   "execution_count": 3,
   "id": "17537f99",
   "metadata": {},
   "outputs": [],
   "source": [
    "import string\n",
    "import random\n",
    "random.seed(42) # initialse and make repeatable\n",
    "\n",
    "# The target string as we will be making reference to that.\n",
    "target = \"Welcome to CS547!\""
   ]
  },
  {
   "cell_type": "markdown",
   "id": "f9452f4f",
   "metadata": {},
   "source": [
    "### Generate a Random Solution\n",
    "Create a random string which is the same size as the target using characters from the printable character set."
   ]
  },
  {
   "cell_type": "code",
   "execution_count": 5,
   "id": "a495a494",
   "metadata": {},
   "outputs": [],
   "source": [
    "# Generate a random solution(individual) of the same size as the target\n",
    "# Input parameters: none\n",
    "# Returns: The randomly generated string\n",
    "def gen_random_string():\n",
    "    char_source = string.printable\n",
    "    random_string = ''\n",
    "    for i in range(len(target)):\n",
    "        index = random.randrange(len(char_source))\n",
    "        random_string += char_source[index]\n",
    "    return random_string\n",
    "\n",
    "# test... run this a few times to check the output is as expected\n",
    "# print(gen_random_string())"
   ]
  },
  {
   "cell_type": "markdown",
   "id": "e2dbac2a",
   "metadata": {},
   "source": [
    "### Fitness Function\n",
    "This defines how we score or evaluate a solution. You can make use of the target string at this point.\n",
    "The fitness function has an important role in guiding the search towards the solution (but not for the random search, obviously), so it is essential that we are able to identify when one solution is better than another.\n",
    "\n",
    "\n",
    "There are various alternatives but the more information you provide the quicker the search is likely to be."
   ]
  },
  {
   "cell_type": "code",
   "execution_count": 26,
   "id": "96d8cba4",
   "metadata": {},
   "outputs": [],
   "source": [
    "# Simple approach is to count the number of characters in the target that are in the correct place.\n",
    "# Could modify this to also include right characters wrong place.\n",
    "# Alternatively calculate the ascii distance.\n",
    "def fitness(solution):\n",
    "    # Simple option: count number of characters that are correct\n",
    "    fitness = 0\n",
    "    for i in range(len(solution)):\n",
    "        if solution[i] == target[i]:\n",
    "            fitness += 1\n",
    "    return fitness\n",
    "\n",
    "# test the above (precise results will depend on your function)\n",
    "# print(fitness(\"Welcome to CS547!\")) # output should be the highest score\n",
    "# print(fitness(\"wolcoNeXt!dCSe47$\")) # output should be a mid-range score\n",
    "# print(fitness(\"This is!miles off\")) # output should be the lowest score"
   ]
  },
  {
   "cell_type": "markdown",
   "id": "590caacf",
   "metadata": {},
   "source": [
    "### Function to generate, evaluate and report on multiple random solutions\n",
    "The number of possible soutions to explore is input as a parameter. Solutions are generated (by calling get_random_string()) and a note is kept of the best scoring one (using the fitness function)."
   ]
  },
  {
   "cell_type": "code",
   "execution_count": 25,
   "id": "1fd93b2f",
   "metadata": {},
   "outputs": [
    {
     "name": "stdout",
     "output_type": "stream",
     "text": [
      "('$Wl~TVUS8rN5~3\\\\W&', 1)\n",
      "('We`dHDPZokn*u@GZN', 2)\n",
      "(')blG[G1:i* o=5|-Y', 3)\n",
      "('*x^a6Jf t#]C35&h<', 4)\n",
      "(\"Wo`@H\\x0c'[to\\x0cC#Of1=\", 4)\n",
      "('Wx]c-,e+)x][Qj4\\nm', 4)\n"
     ]
    }
   ],
   "source": [
    "# Input parameters: An integer designating the number of solutions to be generated and evaluated\n",
    "# Returns: A tuple with the best solution generated and its fitness value\n",
    "def evaluate_random_solutions(target_number):\n",
    "    best_solution = \"\"\n",
    "    best_fitness = -1\n",
    "    for i in range(target_number):\n",
    "        random_solution = gen_random_string()\n",
    "        random_solution_fitness = fitness(random_solution)\n",
    "        if random_solution_fitness > best_fitness:\n",
    "            best_fitness = random_solution_fitness\n",
    "            best_solution = random_solution\n",
    "    return best_solution, best_fitness\n",
    "\n",
    "# tests \n",
    "# You would expect to see the scores (typically) improving slightly as you generate more solutions\n",
    "print(evaluate_random_solutions(10))\n",
    "print(evaluate_random_solutions(100))\n",
    "print(evaluate_random_solutions(1000))\n",
    "print(evaluate_random_solutions(10000))\n",
    "print(evaluate_random_solutions(100000))\n",
    "# This last one might take a few seconds to run\n",
    "print(evaluate_random_solutions(1000000))"
   ]
  },
  {
   "cell_type": "code",
   "execution_count": null,
   "id": "13ad1a1e-81e7-4ab1-bf8b-85068c908dc4",
   "metadata": {},
   "outputs": [],
   "source": []
  }
 ],
 "metadata": {
  "kernelspec": {
   "display_name": "Python 3 (ipykernel)",
   "language": "python",
   "name": "python3"
  },
  "language_info": {
   "codemirror_mode": {
    "name": "ipython",
    "version": 3
   },
   "file_extension": ".py",
   "mimetype": "text/x-python",
   "name": "python",
   "nbconvert_exporter": "python",
   "pygments_lexer": "ipython3",
   "version": "3.12.7"
  }
 },
 "nbformat": 4,
 "nbformat_minor": 5
}

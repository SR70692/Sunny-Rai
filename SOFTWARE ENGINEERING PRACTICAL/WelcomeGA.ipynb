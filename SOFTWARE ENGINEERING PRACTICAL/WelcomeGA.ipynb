{
 "cells": [
  {
   "cell_type": "markdown",
   "id": "e06179d0",
   "metadata": {},
   "source": [
    "## First Practical Exercise - the GA \n",
    "Goal of this exercise is to evolve the string, \"Welcome to CS547!\"\n",
    "Main aim is to demonstrate the principles of evolutionary algorithms."
   ]
  },
  {
   "cell_type": "markdown",
   "id": "7e020624",
   "metadata": {},
   "source": [
    "## Constants and Imports\n",
    "We will need various constants such as the target string, population size, mutation rate etc. along with imports for the packages we are going to make use of."
   ]
  },
  {
   "cell_type": "code",
   "execution_count": null,
   "id": "ecae80cc",
   "metadata": {},
   "outputs": [],
   "source": [
    "import string\n",
    "import random\n",
    "random.seed(42) # initialse and make repeatable\n",
    "from operator import itemgetter\n",
    "\n",
    "# The target string as we will be making reference to that.\n",
    "target = \"Welcome to CS547!\"\n",
    "#Population size\n",
    "pop_size=50\n",
    "crossover_rate = 0.75\n",
    "mutation_rate = 0.05"
   ]
  },
  {
   "cell_type": "markdown",
   "id": "19178519",
   "metadata": {},
   "source": [
    "### Representation\n",
    "Always the first thing to think about - how do we represent a solution to the problem (i.e. how should this be encoded and what data type (or types) should be used. It can often help to think about how you might manipulate this (to generate new solutions) and evaluate it. <br>\n",
    "Also think about how you are going to populate a solution. To make things easy we can limit ourselves to the set of printable characters (**Hint**: Python provides support for this but there are limitations with the string.printable set so it makes sense to restrict this further to the ASCII values 32 to 126).<br>\n",
    "We are also going to simplify things by basing the size of the solution on the size of the target - i.e. a total of 17 characters. This is something you could try relaxing later and letting the algorithm solve. "
   ]
  },
  {
   "cell_type": "code",
   "execution_count": null,
   "id": "841b8a13",
   "metadata": {},
   "outputs": [],
   "source": [
    "# Individual is just going to be a string.\n",
    "# We'll make it easy and also contrain the length to 17 characters (although we could relax this later).\n",
    "# We also need to think about the source charaacters for the string. \n",
    "# Python makes this very easy so we can just use the string module and draw from the printable character set\n",
    "# char_source = string.printable \n",
    "char_source = ''.join(chr(i) for i in range(32, 127))\n",
    "#print(char_source)"
   ]
  },
  {
   "cell_type": "markdown",
   "id": "1fc1b9e1",
   "metadata": {},
   "source": [
    "## Fitness Function\n",
    "This defines how we score or evaluate a solution. You can make use of the target string at this point.<br>\n",
    "The fitness function has an important role is guiding the search towards the solution, so it is essential that we are able to identify when one solution is better than another.<br>\n",
    "There are various alternatives but the more information you provide the quicker the search is likely to be."
   ]
  },
  {
   "cell_type": "code",
   "execution_count": null,
   "id": "cf58adf1",
   "metadata": {},
   "outputs": [],
   "source": [
    "# Simple approach is to count the number of characters in the target that are in the correct place.\n",
    "# Could modify this to also include right characters wrong place.\n",
    "# Alternatively calculate the ascii distance.\n",
    "def simple_fitness(solution):\n",
    "    # Simple option: count number of characters that are correct\n",
    "    fitness = 0\n",
    "    for i in range(len(solution)):\n",
    "        if solution[i] == target[i]:\n",
    "            fitness += 1\n",
    "    return fitness\n",
    "\n",
    "# test the above\n",
    "print(simple_fitness(\"Welcome to CS547!\")) # should be 17\n",
    "print(simple_fitness(\"wolcoNeXt!dCSe47$\")) # should be 9\n",
    "print(simple_fitness(\"This is!miles off\")) # should be 0"
   ]
  },
  {
   "cell_type": "code",
   "execution_count": null,
   "id": "e77074ac-8a36-4576-ada0-d6b4a0f5a92e",
   "metadata": {},
   "outputs": [],
   "source": [
    "# Alternative fitness function to calculate the ascii distance between a solution and the target.\n",
    "# In this case a lower value is better so we will negate the score\n",
    "# Input parameters: solution\n",
    "# Returns: The fitness of the solution\n",
    "def fitness(solution):\n",
    "    # Simple option: count number of characters that are correct\n",
    "    fitness = 0\n",
    "    for i in range(len(solution)):\n",
    "        fitness += abs(ord(solution[i])-ord(target[i]))\n",
    "    return -fitness\n",
    "\n",
    "# test the above (precise results will depend on your function)\n",
    "# print(fitness(\"Welcome to CS547!\")) # output should be the highest score\n",
    "# print(fitness(\"wolcoNeXt!dCSe47$\")) # output should be a mid-range score\n",
    "# print(fitness(\"This is!miles off\")) # output should be the lowest score"
   ]
  },
  {
   "cell_type": "markdown",
   "id": "c5a555b7",
   "metadata": {},
   "source": [
    "## The GA algorithm\n",
    "The main steps are:\n",
    "\n",
    "- Generate a random population\n",
    "- Evaluate the fitness of the population\n",
    "- While a solution has not been found\n",
    "    - Select and crossover individuals to create a new population\n",
    "    - Mutate some individuals of the new population\n",
    "    - Make the new population the current population\n",
    "    - Evaluate the fitness of the current population"
   ]
  },
  {
   "cell_type": "markdown",
   "id": "22db53c5",
   "metadata": {},
   "source": [
    "# Generate a random population\n",
    "Store the population as a list of tuples so that we can associate a fitness value with each element.\n",
    "\n",
    "We also need a function to generate a random string of characters from our char_source string."
   ]
  },
  {
   "cell_type": "markdown",
   "id": "623a4341",
   "metadata": {},
   "source": [
    "### Generate an Individual\n",
    "Create a random string from the printable character set which is the same size as the target"
   ]
  },
  {
   "cell_type": "code",
   "execution_count": 169,
   "id": "d32cdcc7",
   "metadata": {},
   "outputs": [],
   "source": [
    "# Generate a random solution(individual) of the same size as the target\n",
    "# Input parameters: none\n",
    "# Returns: a randomly generated individual\n",
    "def gen_individual():\n",
    "    individual = ''\n",
    "    for i in range(len(target)):\n",
    "        index = random.randrange(len(char_source))\n",
    "        individual += char_source[index]\n",
    "    return individual\n",
    "\n",
    "# test...\n",
    "#print(gen_individual())"
   ]
  },
  {
   "cell_type": "markdown",
   "id": "51ec59b7",
   "metadata": {},
   "source": [
    "### Create the population\n",
    "Using the genIndividual() function above, build a population from individuals which are represented as lists [string, fitness]. The fitness will be inially 0 as we have not calculated it yet. The population itself will be a list of these lists.\n",
    "\n",
    "i.e. population = [[\"individual1\", fitness1], [\"individual2\", fitness2], [\"individual3\", fitness3], ... etc.] "
   ]
  },
  {
   "cell_type": "code",
   "execution_count": 171,
   "id": "f00a937c",
   "metadata": {},
   "outputs": [
    {
     "name": "stdout",
     "output_type": "stream",
     "text": [
      "[[\"Fj|i!AsNx>'u/[G4S\", 0], ['w`zGx/qEOn<<1]3Zm', 0], ['OUyf\\\\du;?wl*cYczN', 0], [\")h.'f`9id35IbX.w:\", 0], [\"{j^+aY'Z0aUZh'g[v\", 0], ['G|\"R@ ;j)%VLy(e\\'(', 0], ['\\\\$DT71r}rUOPYPP*w', 0], ['te1sL/6dRc0}< \"F[', 0], ['v|eVdP=?ZL3C8|.$t', 0], ['Un\">:(,l$Ylvz&?~%', 0], [\"SX=e;'1`E=}iHilvI\", 0], [\">F2tb<TFC'gk~6pvV\", 0], ['g_&LruPcHyUT3FP7d', 0], [\"\\\\><Fz2['gTUgc1Q?@\", 0], [':Jr*YO+d|8&BPvmm%', 0], [')8k|ug;]:JF!;8~/]', 0], ['?ymz:R>fIDP[dsMGA', 0], ['Na_[,|\\\\H:OHT%h<~2', 0], ['\"Afjj|UE39J=Ph?_f', 0], ['swK@^|r~^Z5}M51|e', 0], [\"^7er'c$)u& T1p=(z\", 0], ['3!;`ZO\\'oqun]t^\" d', 0], ['fT!\"c|CdD\"`yvW6-,', 0], ['c3>8oc@MBR*OSZh?y', 0], [\"<Fw*ss$+SPPf\\\\'q!y\", 0], ['5*_WrJh,c%=;xh\\\\B%', 0], [')wCeht$6H\":k2{R)F', 0], ['4h>hQveJQ~1x|*`L&', 0], [',W=)KmnlRI#qBY^=M', 0], ['fPW7wjtP*oE?{)*B3', 0], ['P{q3~QHN-+ GXNB-0', 0], ['+7WYggaT-#+Mf+llI', 0], ['Q!ETQ*|g?ib5wP51B', 0], ['FB_2(5WCUF])N@?|p', 0], ['_ln9Z-1F RJoPJXJW', 0], ['sl1FImx9]H6RHE~xq', 0], ['^i?IPCRN.h9ke7wf#', 0], ['}[z:XEx(Tv_1qF>@t', 0], ['3{VP)Yl]jSd`xUe$N', 0], ['ydlq*-?tuM5rn%hrv', 0], ['rSJW-!,A<abgjxi<Y', 0], ['OR[vkx`3L#]-EU*.}', 0], ['2LGKZ:b]L\\\\,X|yYH(', 0], ['F%z.\"Kr-v5~?b6f4J', 0], ['gV[=Sp77qtWR#~n9Y', 0], ['kVQ z;:Cz(i-d7NI9', 0], ['Z.Au^cqHlQnRk.LMZ', 0], ['o6vzFnk*v1H/>G.7O', 0], ['x2aQUl1iQV7^qdxr6', 0], ['g5^D17HYo&M!^18Qg', 0]]\n"
     ]
    }
   ],
   "source": [
    "# Input parameters: none\n",
    "# Returns: A population of randomly generated individuals with associated fitness values (set to 0)\n",
    "def gen_population():\n",
    "    pop = []\n",
    "    for i in range(pop_size):\n",
    "        pop.append([gen_individual(), 0])\n",
    "    return pop\n",
    "\n",
    "# test \n",
    "# print(gen_population())"
   ]
  },
  {
   "cell_type": "markdown",
   "id": "c9bdcafd",
   "metadata": {},
   "source": [
    "### Evaluate the population\n",
    "Go through each element in the population, calculating its fitness and associating the fitness value with the individual in the tuple.\n",
    "\n",
    "We will also need a function that returns the best individual in the population and its associated fitness."
   ]
  },
  {
   "cell_type": "code",
   "execution_count": 2,
   "id": "23b224cb",
   "metadata": {},
   "outputs": [],
   "source": [
    "# Input parameters: A population of individuals (solutions)\n",
    "# Returns: The population modified with the computer fitness of each individual\n",
    "def evaluate_pop(pop):\n",
    "    score = 0\n",
    "    for individual in pop:\n",
    "        score = fitness(individual[0])\n",
    "        individual[1] = score\n",
    "    return pop\n",
    "\n",
    "# Test\n",
    "#newpop = gen_population()\n",
    "#print(evaluate_pop(newpop))"
   ]
  },
  {
   "cell_type": "code",
   "execution_count": 4,
   "id": "6de961ac-d068-4e5f-ba09-ca3eeab71aaf",
   "metadata": {},
   "outputs": [],
   "source": [
    "# Input parameters: A population of individuals (solutions)\n",
    "# Returns: The fittest individual (with its score)\n",
    "def fittest_individual(pop):\n",
    "    best_fitness = -1000\n",
    "    for i in range(len(pop)):\n",
    "        if fitness(pop[i][0]) > best_fitness:\n",
    "                best_fitness = fitness(pop[i][0])\n",
    "                best_solution = pop[i]\n",
    "    return best_solution\n",
    "\n",
    "#test\n",
    "#newpop = gen_population()\n",
    "#print(fittest_individual(newpop))"
   ]
  },
  {
   "cell_type": "markdown",
   "id": "e9bbfa3b",
   "metadata": {},
   "source": [
    "### Select Individuals and Crossover to create the next generation\n",
    "This step involves two sub-steps - the selection of parents and recombination to create offspring.\n",
    "\n",
    "The selection is going to be very simple - we are going to randomly select from the top 50% of solutions. Selection is with relacement so there is a chance that some individuals may be chosen more than once whereas others may never be selected as parents. We will break this down into two steps: \n",
    "- Define a function to return the top 50% of the population\n",
    "- The main selection loop which repeatedly (and randomly) selects parents from this subset from which new individuals (children) are generated to create the new population. This will also involve defining a function to perform the crossover operation."
   ]
  },
  {
   "cell_type": "code",
   "execution_count": 6,
   "id": "738b3b36",
   "metadata": {},
   "outputs": [],
   "source": [
    "# orders the list according to fitness and returns the top 50%\n",
    "\n",
    "# Input parameters: A population of individuals\n",
    "# Returns: The top 50% of the individuals (ranked by fitness)\n",
    "def find_top_50(pop):\n",
    "    sortedPop = sorted(pop, key=itemgetter(1), reverse = True)\n",
    "    return sortedPop[0:int(pop_size/2)]\n",
    "\n",
    "#test\n",
    "#newpop = genPopulation()\n",
    "#print(find_top_50(newpop))\n",
    "\n",
    "# Input parameters: Two parents (tuples of the form <individual, fitness>)\n",
    "# Returns: Two children after combining the two parents (tuples of the form <individual, 0>)\n",
    "def crossover(parent1, parent2):\n",
    "    crossover_point = random.randrange(len(parent1[0]))\n",
    "    child1 = [parent1[0][:crossover_point]+parent2[0][crossover_point:],0]\n",
    "    child2 = [parent2[0][:crossover_point]+parent1[0][crossover_point:],0]\n",
    "    return child1, child2\n",
    "\n",
    "# test \n",
    "# print(crossover((\"abcdefg\",12),(\"hijklmn\",34)))\n",
    "    \n",
    "# Input parameters: a population\n",
    "# Returns: The new population after selection and crossover have been applied\n",
    "def select_and_generate_new_population(pop):\n",
    "    parent_pool = find_top_50(pop)\n",
    "    new_generation = []\n",
    "    for i in range(len(parent_pool)):\n",
    "        parent1 = parent_pool[random.randrange(len(parent_pool))]\n",
    "        parent2 = parent_pool[random.randrange(len(parent_pool))]\n",
    "        if random.random() < crossover_rate:\n",
    "            child1, child2 = crossover(parent1, parent2)\n",
    "        else:\n",
    "            child1 = parent1\n",
    "            child2 = parent2\n",
    "        new_generation.append(child1)\n",
    "        new_generation.append(child2)\n",
    "    return new_generation\n",
    "\n",
    "# test\n",
    "#newpop = gen_population()\n",
    "#select_and_generate_new_population(newpop)"
   ]
  },
  {
   "cell_type": "markdown",
   "id": "409b7c34-2c51-49d3-a429-5bb61583fa85",
   "metadata": {},
   "source": [
    "### Mutate the new population\n",
    "Mutation is applied to the new population. The mutation rate is typically set quite low (e.g. 0.05). There are several mutation operations that may be applied in this case but change should be quite small."
   ]
  },
  {
   "cell_type": "code",
   "execution_count": 14,
   "id": "ee28be4b",
   "metadata": {},
   "outputs": [],
   "source": [
    "# Function to mutate individuals in the population according to the mutation rate\n",
    "# Input parameters: A population\n",
    "# Returns: A modified population\n",
    "def mutate(pop):\n",
    "    for i in range(len(pop)):\n",
    "        if random.random() < mutation_rate:\n",
    "            mutation_point = random.randrange(len(pop[i][0]))\n",
    "            # mutation is just a random character but could also move character +/- 1 \n",
    "            # to be more comparable with the hill climber\n",
    "            random_char = char_source[random.randrange(len(char_source))]\n",
    "            mutation = pop[i][0][:mutation_point]+random_char+pop[i][0][mutation_point+1:]\n",
    "            pop[i][0] = mutation\n",
    "            #pop[i] = [mutation,0]\n",
    "            #print(\"changed\")\n",
    "            #print(i)\n",
    "    return pop\n",
    "\n",
    "# test\n",
    "#apop = gen_population()\n",
    "#print(apop)\n",
    "#anotherpop = mutate(apop)\n",
    "#print(anotherpop)"
   ]
  },
  {
   "cell_type": "markdown",
   "id": "52e4bb39-bdea-443c-99a5-4412440cde84",
   "metadata": {},
   "source": [
    "### Main GA Loop"
   ]
  },
  {
   "cell_type": "code",
   "execution_count": 17,
   "id": "a5afb8f7",
   "metadata": {},
   "outputs": [
    {
     "ename": "NameError",
     "evalue": "name 'gen_population' is not defined",
     "output_type": "error",
     "traceback": [
      "\u001b[1;31m---------------------------------------------------------------------------\u001b[0m",
      "\u001b[1;31mNameError\u001b[0m                                 Traceback (most recent call last)",
      "Cell \u001b[1;32mIn[17], line 2\u001b[0m\n\u001b[0;32m      1\u001b[0m \u001b[38;5;66;03m# Main GA loop\u001b[39;00m\n\u001b[1;32m----> 2\u001b[0m pop \u001b[38;5;241m=\u001b[39m gen_population()\n\u001b[0;32m      3\u001b[0m scored_pop \u001b[38;5;241m=\u001b[39m evaluate_pop(pop)\n\u001b[0;32m      4\u001b[0m i \u001b[38;5;241m=\u001b[39m \u001b[38;5;241m0\u001b[39m\n",
      "\u001b[1;31mNameError\u001b[0m: name 'gen_population' is not defined"
     ]
    }
   ],
   "source": [
    "# Main GA loop\n",
    "pop = gen_population()\n",
    "scored_pop = evaluate_pop(pop)\n",
    "i = 0\n",
    "print(\"Generation\",i)\n",
    "print(fittest_individual(scored_pop))\n",
    "while fittest_individual(scored_pop)[1] <0:\n",
    "    i += 1\n",
    "    new_pop = []\n",
    "    new_pop = select_and_generate_new_population(scored_pop)\n",
    "    mutated_pop = mutate(new_pop)\n",
    "    pop = mutated_pop\n",
    "    scored_pop = evaluate_pop(pop)\n",
    "    print(\"Generation\",i)\n",
    "    print(fittest_individual(scored_pop))\n",
    "    "
   ]
  },
  {
   "cell_type": "code",
   "execution_count": null,
   "id": "90d3ca34-f0c6-4325-a278-3abf42e78278",
   "metadata": {},
   "outputs": [],
   "source": []
  }
 ],
 "metadata": {
  "kernelspec": {
   "display_name": "Python 3 (ipykernel)",
   "language": "python",
   "name": "python3"
  },
  "language_info": {
   "codemirror_mode": {
    "name": "ipython",
    "version": 3
   },
   "file_extension": ".py",
   "mimetype": "text/x-python",
   "name": "python",
   "nbconvert_exporter": "python",
   "pygments_lexer": "ipython3",
   "version": "3.12.7"
  }
 },
 "nbformat": 4,
 "nbformat_minor": 5
}

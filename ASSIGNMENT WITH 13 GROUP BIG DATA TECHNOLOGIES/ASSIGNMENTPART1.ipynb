{
 "cells": [
  {
   "cell_type": "code",
   "execution_count": 2,
   "id": "344b38df-b637-437a-9395-57dbfde239f8",
   "metadata": {},
   "outputs": [],
   "source": [
    "# IMPORT THE DIFFERENT LIBRARIES  INCLUDING DATA SET"
   ]
  },
  {
   "cell_type": "code",
   "execution_count": 3,
   "id": "a620c7d3-949e-4166-9cd3-df6192fdab0e",
   "metadata": {},
   "outputs": [],
   "source": [
    "import pandas as pd\n",
    "import numpy as np\n",
    "import seaborn as sns\n",
    "import matplotlib.pyplot as plt\n",
    "from sklearn import metrics\n",
    "from sklearn.cluster import KMeans\n",
    "from sklearn.metrics import silhouette_score\n",
    "cust=pd.read_csv(\"customer_shopping_data.csv\")"
   ]
  },
  {
   "cell_type": "code",
   "execution_count": 4,
   "id": "2437d916-5f3d-4c10-9356-1d624860d5ba",
   "metadata": {},
   "outputs": [],
   "source": [
    "# SHOWING TABLE FOR UN SUPERVISED "
   ]
  },
  {
   "cell_type": "code",
   "execution_count": 5,
   "id": "c258c25d-2a40-41ad-b4e1-d6a081e558b6",
   "metadata": {},
   "outputs": [
    {
     "data": {
      "text/html": [
       "<div>\n",
       "<style scoped>\n",
       "    .dataframe tbody tr th:only-of-type {\n",
       "        vertical-align: middle;\n",
       "    }\n",
       "\n",
       "    .dataframe tbody tr th {\n",
       "        vertical-align: top;\n",
       "    }\n",
       "\n",
       "    .dataframe thead th {\n",
       "        text-align: right;\n",
       "    }\n",
       "</style>\n",
       "<table border=\"1\" class=\"dataframe\">\n",
       "  <thead>\n",
       "    <tr style=\"text-align: right;\">\n",
       "      <th></th>\n",
       "      <th>invoice_no</th>\n",
       "      <th>customer_id</th>\n",
       "      <th>gender</th>\n",
       "      <th>age</th>\n",
       "      <th>category</th>\n",
       "      <th>quantity</th>\n",
       "      <th>price</th>\n",
       "      <th>payment_method</th>\n",
       "      <th>invoice_date</th>\n",
       "      <th>shopping_mall</th>\n",
       "    </tr>\n",
       "  </thead>\n",
       "  <tbody>\n",
       "    <tr>\n",
       "      <th>0</th>\n",
       "      <td>I138884</td>\n",
       "      <td>C241288</td>\n",
       "      <td>Female</td>\n",
       "      <td>28</td>\n",
       "      <td>Clothing</td>\n",
       "      <td>5</td>\n",
       "      <td>1500.40</td>\n",
       "      <td>Credit Card</td>\n",
       "      <td>5/8/2022</td>\n",
       "      <td>Kanyon</td>\n",
       "    </tr>\n",
       "    <tr>\n",
       "      <th>1</th>\n",
       "      <td>I317333</td>\n",
       "      <td>C111565</td>\n",
       "      <td>Male</td>\n",
       "      <td>21</td>\n",
       "      <td>Shoes</td>\n",
       "      <td>3</td>\n",
       "      <td>1800.51</td>\n",
       "      <td>Debit Card</td>\n",
       "      <td>12/12/2021</td>\n",
       "      <td>Forum Istanbul</td>\n",
       "    </tr>\n",
       "    <tr>\n",
       "      <th>2</th>\n",
       "      <td>I127801</td>\n",
       "      <td>C266599</td>\n",
       "      <td>Male</td>\n",
       "      <td>20</td>\n",
       "      <td>Clothing</td>\n",
       "      <td>1</td>\n",
       "      <td>300.08</td>\n",
       "      <td>Cash</td>\n",
       "      <td>9/11/2021</td>\n",
       "      <td>Metrocity</td>\n",
       "    </tr>\n",
       "    <tr>\n",
       "      <th>3</th>\n",
       "      <td>I173702</td>\n",
       "      <td>C988172</td>\n",
       "      <td>Female</td>\n",
       "      <td>66</td>\n",
       "      <td>Shoes</td>\n",
       "      <td>5</td>\n",
       "      <td>3000.85</td>\n",
       "      <td>Credit Card</td>\n",
       "      <td>16/05/2021</td>\n",
       "      <td>Metropol AVM</td>\n",
       "    </tr>\n",
       "    <tr>\n",
       "      <th>4</th>\n",
       "      <td>I337046</td>\n",
       "      <td>C189076</td>\n",
       "      <td>Female</td>\n",
       "      <td>53</td>\n",
       "      <td>Books</td>\n",
       "      <td>4</td>\n",
       "      <td>60.60</td>\n",
       "      <td>Cash</td>\n",
       "      <td>24/10/2021</td>\n",
       "      <td>Kanyon</td>\n",
       "    </tr>\n",
       "    <tr>\n",
       "      <th>...</th>\n",
       "      <td>...</td>\n",
       "      <td>...</td>\n",
       "      <td>...</td>\n",
       "      <td>...</td>\n",
       "      <td>...</td>\n",
       "      <td>...</td>\n",
       "      <td>...</td>\n",
       "      <td>...</td>\n",
       "      <td>...</td>\n",
       "      <td>...</td>\n",
       "    </tr>\n",
       "    <tr>\n",
       "      <th>99452</th>\n",
       "      <td>I219422</td>\n",
       "      <td>C441542</td>\n",
       "      <td>Female</td>\n",
       "      <td>45</td>\n",
       "      <td>Souvenir</td>\n",
       "      <td>5</td>\n",
       "      <td>58.65</td>\n",
       "      <td>Credit Card</td>\n",
       "      <td>21/09/2022</td>\n",
       "      <td>Kanyon</td>\n",
       "    </tr>\n",
       "    <tr>\n",
       "      <th>99453</th>\n",
       "      <td>I325143</td>\n",
       "      <td>C569580</td>\n",
       "      <td>Male</td>\n",
       "      <td>27</td>\n",
       "      <td>Food &amp; Beverage</td>\n",
       "      <td>2</td>\n",
       "      <td>10.46</td>\n",
       "      <td>Cash</td>\n",
       "      <td>22/09/2021</td>\n",
       "      <td>Forum Istanbul</td>\n",
       "    </tr>\n",
       "    <tr>\n",
       "      <th>99454</th>\n",
       "      <td>I824010</td>\n",
       "      <td>C103292</td>\n",
       "      <td>Male</td>\n",
       "      <td>63</td>\n",
       "      <td>Food &amp; Beverage</td>\n",
       "      <td>2</td>\n",
       "      <td>10.46</td>\n",
       "      <td>Debit Card</td>\n",
       "      <td>28/03/2021</td>\n",
       "      <td>Metrocity</td>\n",
       "    </tr>\n",
       "    <tr>\n",
       "      <th>99455</th>\n",
       "      <td>I702964</td>\n",
       "      <td>C800631</td>\n",
       "      <td>Male</td>\n",
       "      <td>56</td>\n",
       "      <td>Technology</td>\n",
       "      <td>4</td>\n",
       "      <td>4200.00</td>\n",
       "      <td>Cash</td>\n",
       "      <td>16/03/2021</td>\n",
       "      <td>Istinye Park</td>\n",
       "    </tr>\n",
       "    <tr>\n",
       "      <th>99456</th>\n",
       "      <td>I232867</td>\n",
       "      <td>C273973</td>\n",
       "      <td>Female</td>\n",
       "      <td>36</td>\n",
       "      <td>Souvenir</td>\n",
       "      <td>3</td>\n",
       "      <td>35.19</td>\n",
       "      <td>Credit Card</td>\n",
       "      <td>15/10/2022</td>\n",
       "      <td>Mall of Istanbul</td>\n",
       "    </tr>\n",
       "  </tbody>\n",
       "</table>\n",
       "<p>99457 rows × 10 columns</p>\n",
       "</div>"
      ],
      "text/plain": [
       "      invoice_no customer_id  gender  age         category  quantity    price  \\\n",
       "0        I138884     C241288  Female   28         Clothing         5  1500.40   \n",
       "1        I317333     C111565    Male   21            Shoes         3  1800.51   \n",
       "2        I127801     C266599    Male   20         Clothing         1   300.08   \n",
       "3        I173702     C988172  Female   66            Shoes         5  3000.85   \n",
       "4        I337046     C189076  Female   53            Books         4    60.60   \n",
       "...          ...         ...     ...  ...              ...       ...      ...   \n",
       "99452    I219422     C441542  Female   45         Souvenir         5    58.65   \n",
       "99453    I325143     C569580    Male   27  Food & Beverage         2    10.46   \n",
       "99454    I824010     C103292    Male   63  Food & Beverage         2    10.46   \n",
       "99455    I702964     C800631    Male   56       Technology         4  4200.00   \n",
       "99456    I232867     C273973  Female   36         Souvenir         3    35.19   \n",
       "\n",
       "      payment_method invoice_date     shopping_mall  \n",
       "0        Credit Card     5/8/2022            Kanyon  \n",
       "1         Debit Card   12/12/2021    Forum Istanbul  \n",
       "2               Cash    9/11/2021         Metrocity  \n",
       "3        Credit Card   16/05/2021      Metropol AVM  \n",
       "4               Cash   24/10/2021            Kanyon  \n",
       "...              ...          ...               ...  \n",
       "99452    Credit Card   21/09/2022            Kanyon  \n",
       "99453           Cash   22/09/2021    Forum Istanbul  \n",
       "99454     Debit Card   28/03/2021         Metrocity  \n",
       "99455           Cash   16/03/2021      Istinye Park  \n",
       "99456    Credit Card   15/10/2022  Mall of Istanbul  \n",
       "\n",
       "[99457 rows x 10 columns]"
      ]
     },
     "execution_count": 5,
     "metadata": {},
     "output_type": "execute_result"
    }
   ],
   "source": [
    "cust"
   ]
  },
  {
   "cell_type": "code",
   "execution_count": 6,
   "id": "36666e4d-7f20-4aeb-ab55-e359ec009c73",
   "metadata": {},
   "outputs": [],
   "source": [
    "# CHEKING THE DIFFERENT DATA IN ARRAY"
   ]
  },
  {
   "cell_type": "code",
   "execution_count": 7,
   "id": "b7e07694-6e76-4a79-8711-9c4615781c60",
   "metadata": {},
   "outputs": [
    {
     "data": {
      "text/plain": [
       "array([['I138884', 'C241288', 'Female', ..., 'Credit Card', '5/8/2022',\n",
       "        'Kanyon'],\n",
       "       ['I317333', 'C111565', 'Male', ..., 'Debit Card', '12/12/2021',\n",
       "        'Forum Istanbul'],\n",
       "       ['I127801', 'C266599', 'Male', ..., 'Cash', '9/11/2021',\n",
       "        'Metrocity'],\n",
       "       ...,\n",
       "       ['I824010', 'C103292', 'Male', ..., 'Debit Card', '28/03/2021',\n",
       "        'Metrocity'],\n",
       "       ['I702964', 'C800631', 'Male', ..., 'Cash', '16/03/2021',\n",
       "        'Istinye Park'],\n",
       "       ['I232867', 'C273973', 'Female', ..., 'Credit Card', '15/10/2022',\n",
       "        'Mall of Istanbul']], dtype=object)"
      ]
     },
     "execution_count": 7,
     "metadata": {},
     "output_type": "execute_result"
    }
   ],
   "source": [
    "cust.values\n"
   ]
  },
  {
   "cell_type": "code",
   "execution_count": 8,
   "id": "77f79346-683e-4787-ac5f-6592b1ea0f08",
   "metadata": {},
   "outputs": [],
   "source": [
    "# CONVERTING THE CATEGORY DATA AND GENDER DATA IN NUMERIC FOR BY USING ENCODER...."
   ]
  },
  {
   "cell_type": "code",
   "execution_count": 9,
   "id": "9ed6df5f-0a93-4914-98f3-01bcf8e4ca66",
   "metadata": {},
   "outputs": [
    {
     "name": "stdout",
     "output_type": "stream",
     "text": [
      "      invoice_no customer_id  gender  age         category  quantity    price  \\\n",
      "0        I138884     C241288  Female   28         Clothing         5  1500.40   \n",
      "1        I317333     C111565    Male   21            Shoes         3  1800.51   \n",
      "2        I127801     C266599    Male   20         Clothing         1   300.08   \n",
      "3        I173702     C988172  Female   66            Shoes         5  3000.85   \n",
      "4        I337046     C189076  Female   53            Books         4    60.60   \n",
      "...          ...         ...     ...  ...              ...       ...      ...   \n",
      "99452    I219422     C441542  Female   45         Souvenir         5    58.65   \n",
      "99453    I325143     C569580    Male   27  Food & Beverage         2    10.46   \n",
      "99454    I824010     C103292    Male   63  Food & Beverage         2    10.46   \n",
      "99455    I702964     C800631    Male   56       Technology         4  4200.00   \n",
      "99456    I232867     C273973  Female   36         Souvenir         3    35.19   \n",
      "\n",
      "      payment_method invoice_date     shopping_mall  category_Encoded  \\\n",
      "0        Credit Card     5/8/2022            Kanyon                 1   \n",
      "1         Debit Card   12/12/2021    Forum Istanbul                 4   \n",
      "2               Cash    9/11/2021         Metrocity                 1   \n",
      "3        Credit Card   16/05/2021      Metropol AVM                 4   \n",
      "4               Cash   24/10/2021            Kanyon                 0   \n",
      "...              ...          ...               ...               ...   \n",
      "99452    Credit Card   21/09/2022            Kanyon                 5   \n",
      "99453           Cash   22/09/2021    Forum Istanbul                 3   \n",
      "99454     Debit Card   28/03/2021         Metrocity                 3   \n",
      "99455           Cash   16/03/2021      Istinye Park                 6   \n",
      "99456    Credit Card   15/10/2022  Mall of Istanbul                 5   \n",
      "\n",
      "       gender_Encoded  \n",
      "0                   0  \n",
      "1                   1  \n",
      "2                   1  \n",
      "3                   0  \n",
      "4                   0  \n",
      "...               ...  \n",
      "99452               0  \n",
      "99453               1  \n",
      "99454               1  \n",
      "99455               1  \n",
      "99456               0  \n",
      "\n",
      "[99457 rows x 12 columns]\n"
     ]
    }
   ],
   "source": [
    "import pandas as pd\n",
    "from sklearn.preprocessing import LabelEncoder\n",
    "\n",
    "\n",
    "\n",
    "cust = pd.DataFrame(cust)\n",
    "\n",
    "# Initialize LabelEncoder\n",
    "label_encoder = LabelEncoder()\n",
    "\n",
    "# Apply Label Encoding\n",
    "cust['category_Encoded'] = label_encoder.fit_transform(cust['category'])\n",
    "\n",
    "cust['gender_Encoded'] = label_encoder.fit_transform(cust['gender'])\n",
    "print(cust)"
   ]
  },
  {
   "cell_type": "code",
   "execution_count": 10,
   "id": "d8fd592e-9b11-4a9a-be10-ae9396bc7350",
   "metadata": {},
   "outputs": [],
   "source": [
    "# EXPLAING THE DATA CONVERTED IN NUMERIC FORM"
   ]
  },
  {
   "cell_type": "code",
   "execution_count": 11,
   "id": "08ea6f94-cada-4f4a-9e07-fdace4666e40",
   "metadata": {},
   "outputs": [
    {
     "data": {
      "text/html": [
       "<div>\n",
       "<style scoped>\n",
       "    .dataframe tbody tr th:only-of-type {\n",
       "        vertical-align: middle;\n",
       "    }\n",
       "\n",
       "    .dataframe tbody tr th {\n",
       "        vertical-align: top;\n",
       "    }\n",
       "\n",
       "    .dataframe thead th {\n",
       "        text-align: right;\n",
       "    }\n",
       "</style>\n",
       "<table border=\"1\" class=\"dataframe\">\n",
       "  <thead>\n",
       "    <tr style=\"text-align: right;\">\n",
       "      <th></th>\n",
       "      <th>invoice_no</th>\n",
       "      <th>customer_id</th>\n",
       "      <th>gender</th>\n",
       "      <th>age</th>\n",
       "      <th>category</th>\n",
       "      <th>quantity</th>\n",
       "      <th>price</th>\n",
       "      <th>payment_method</th>\n",
       "      <th>invoice_date</th>\n",
       "      <th>shopping_mall</th>\n",
       "      <th>category_Encoded</th>\n",
       "      <th>gender_Encoded</th>\n",
       "    </tr>\n",
       "  </thead>\n",
       "  <tbody>\n",
       "    <tr>\n",
       "      <th>0</th>\n",
       "      <td>I138884</td>\n",
       "      <td>C241288</td>\n",
       "      <td>Female</td>\n",
       "      <td>28</td>\n",
       "      <td>Clothing</td>\n",
       "      <td>5</td>\n",
       "      <td>1500.40</td>\n",
       "      <td>Credit Card</td>\n",
       "      <td>5/8/2022</td>\n",
       "      <td>Kanyon</td>\n",
       "      <td>1</td>\n",
       "      <td>0</td>\n",
       "    </tr>\n",
       "    <tr>\n",
       "      <th>1</th>\n",
       "      <td>I317333</td>\n",
       "      <td>C111565</td>\n",
       "      <td>Male</td>\n",
       "      <td>21</td>\n",
       "      <td>Shoes</td>\n",
       "      <td>3</td>\n",
       "      <td>1800.51</td>\n",
       "      <td>Debit Card</td>\n",
       "      <td>12/12/2021</td>\n",
       "      <td>Forum Istanbul</td>\n",
       "      <td>4</td>\n",
       "      <td>1</td>\n",
       "    </tr>\n",
       "    <tr>\n",
       "      <th>2</th>\n",
       "      <td>I127801</td>\n",
       "      <td>C266599</td>\n",
       "      <td>Male</td>\n",
       "      <td>20</td>\n",
       "      <td>Clothing</td>\n",
       "      <td>1</td>\n",
       "      <td>300.08</td>\n",
       "      <td>Cash</td>\n",
       "      <td>9/11/2021</td>\n",
       "      <td>Metrocity</td>\n",
       "      <td>1</td>\n",
       "      <td>1</td>\n",
       "    </tr>\n",
       "    <tr>\n",
       "      <th>3</th>\n",
       "      <td>I173702</td>\n",
       "      <td>C988172</td>\n",
       "      <td>Female</td>\n",
       "      <td>66</td>\n",
       "      <td>Shoes</td>\n",
       "      <td>5</td>\n",
       "      <td>3000.85</td>\n",
       "      <td>Credit Card</td>\n",
       "      <td>16/05/2021</td>\n",
       "      <td>Metropol AVM</td>\n",
       "      <td>4</td>\n",
       "      <td>0</td>\n",
       "    </tr>\n",
       "    <tr>\n",
       "      <th>4</th>\n",
       "      <td>I337046</td>\n",
       "      <td>C189076</td>\n",
       "      <td>Female</td>\n",
       "      <td>53</td>\n",
       "      <td>Books</td>\n",
       "      <td>4</td>\n",
       "      <td>60.60</td>\n",
       "      <td>Cash</td>\n",
       "      <td>24/10/2021</td>\n",
       "      <td>Kanyon</td>\n",
       "      <td>0</td>\n",
       "      <td>0</td>\n",
       "    </tr>\n",
       "    <tr>\n",
       "      <th>...</th>\n",
       "      <td>...</td>\n",
       "      <td>...</td>\n",
       "      <td>...</td>\n",
       "      <td>...</td>\n",
       "      <td>...</td>\n",
       "      <td>...</td>\n",
       "      <td>...</td>\n",
       "      <td>...</td>\n",
       "      <td>...</td>\n",
       "      <td>...</td>\n",
       "      <td>...</td>\n",
       "      <td>...</td>\n",
       "    </tr>\n",
       "    <tr>\n",
       "      <th>99452</th>\n",
       "      <td>I219422</td>\n",
       "      <td>C441542</td>\n",
       "      <td>Female</td>\n",
       "      <td>45</td>\n",
       "      <td>Souvenir</td>\n",
       "      <td>5</td>\n",
       "      <td>58.65</td>\n",
       "      <td>Credit Card</td>\n",
       "      <td>21/09/2022</td>\n",
       "      <td>Kanyon</td>\n",
       "      <td>5</td>\n",
       "      <td>0</td>\n",
       "    </tr>\n",
       "    <tr>\n",
       "      <th>99453</th>\n",
       "      <td>I325143</td>\n",
       "      <td>C569580</td>\n",
       "      <td>Male</td>\n",
       "      <td>27</td>\n",
       "      <td>Food &amp; Beverage</td>\n",
       "      <td>2</td>\n",
       "      <td>10.46</td>\n",
       "      <td>Cash</td>\n",
       "      <td>22/09/2021</td>\n",
       "      <td>Forum Istanbul</td>\n",
       "      <td>3</td>\n",
       "      <td>1</td>\n",
       "    </tr>\n",
       "    <tr>\n",
       "      <th>99454</th>\n",
       "      <td>I824010</td>\n",
       "      <td>C103292</td>\n",
       "      <td>Male</td>\n",
       "      <td>63</td>\n",
       "      <td>Food &amp; Beverage</td>\n",
       "      <td>2</td>\n",
       "      <td>10.46</td>\n",
       "      <td>Debit Card</td>\n",
       "      <td>28/03/2021</td>\n",
       "      <td>Metrocity</td>\n",
       "      <td>3</td>\n",
       "      <td>1</td>\n",
       "    </tr>\n",
       "    <tr>\n",
       "      <th>99455</th>\n",
       "      <td>I702964</td>\n",
       "      <td>C800631</td>\n",
       "      <td>Male</td>\n",
       "      <td>56</td>\n",
       "      <td>Technology</td>\n",
       "      <td>4</td>\n",
       "      <td>4200.00</td>\n",
       "      <td>Cash</td>\n",
       "      <td>16/03/2021</td>\n",
       "      <td>Istinye Park</td>\n",
       "      <td>6</td>\n",
       "      <td>1</td>\n",
       "    </tr>\n",
       "    <tr>\n",
       "      <th>99456</th>\n",
       "      <td>I232867</td>\n",
       "      <td>C273973</td>\n",
       "      <td>Female</td>\n",
       "      <td>36</td>\n",
       "      <td>Souvenir</td>\n",
       "      <td>3</td>\n",
       "      <td>35.19</td>\n",
       "      <td>Credit Card</td>\n",
       "      <td>15/10/2022</td>\n",
       "      <td>Mall of Istanbul</td>\n",
       "      <td>5</td>\n",
       "      <td>0</td>\n",
       "    </tr>\n",
       "  </tbody>\n",
       "</table>\n",
       "<p>99457 rows × 12 columns</p>\n",
       "</div>"
      ],
      "text/plain": [
       "      invoice_no customer_id  gender  age         category  quantity    price  \\\n",
       "0        I138884     C241288  Female   28         Clothing         5  1500.40   \n",
       "1        I317333     C111565    Male   21            Shoes         3  1800.51   \n",
       "2        I127801     C266599    Male   20         Clothing         1   300.08   \n",
       "3        I173702     C988172  Female   66            Shoes         5  3000.85   \n",
       "4        I337046     C189076  Female   53            Books         4    60.60   \n",
       "...          ...         ...     ...  ...              ...       ...      ...   \n",
       "99452    I219422     C441542  Female   45         Souvenir         5    58.65   \n",
       "99453    I325143     C569580    Male   27  Food & Beverage         2    10.46   \n",
       "99454    I824010     C103292    Male   63  Food & Beverage         2    10.46   \n",
       "99455    I702964     C800631    Male   56       Technology         4  4200.00   \n",
       "99456    I232867     C273973  Female   36         Souvenir         3    35.19   \n",
       "\n",
       "      payment_method invoice_date     shopping_mall  category_Encoded  \\\n",
       "0        Credit Card     5/8/2022            Kanyon                 1   \n",
       "1         Debit Card   12/12/2021    Forum Istanbul                 4   \n",
       "2               Cash    9/11/2021         Metrocity                 1   \n",
       "3        Credit Card   16/05/2021      Metropol AVM                 4   \n",
       "4               Cash   24/10/2021            Kanyon                 0   \n",
       "...              ...          ...               ...               ...   \n",
       "99452    Credit Card   21/09/2022            Kanyon                 5   \n",
       "99453           Cash   22/09/2021    Forum Istanbul                 3   \n",
       "99454     Debit Card   28/03/2021         Metrocity                 3   \n",
       "99455           Cash   16/03/2021      Istinye Park                 6   \n",
       "99456    Credit Card   15/10/2022  Mall of Istanbul                 5   \n",
       "\n",
       "       gender_Encoded  \n",
       "0                   0  \n",
       "1                   1  \n",
       "2                   1  \n",
       "3                   0  \n",
       "4                   0  \n",
       "...               ...  \n",
       "99452               0  \n",
       "99453               1  \n",
       "99454               1  \n",
       "99455               1  \n",
       "99456               0  \n",
       "\n",
       "[99457 rows x 12 columns]"
      ]
     },
     "execution_count": 11,
     "metadata": {},
     "output_type": "execute_result"
    }
   ],
   "source": [
    "cust"
   ]
  },
  {
   "cell_type": "code",
   "execution_count": 12,
   "id": "e62b4008-c76b-4a40-989a-fc85bb7d070a",
   "metadata": {},
   "outputs": [],
   "source": [
    "#  REMOVING DATA WHICH CONTAIN STRING DATATYPE"
   ]
  },
  {
   "cell_type": "code",
   "execution_count": 13,
   "id": "5d14df94-e672-40df-8a56-0e7a797ba268",
   "metadata": {},
   "outputs": [
    {
     "data": {
      "text/html": [
       "<div>\n",
       "<style scoped>\n",
       "    .dataframe tbody tr th:only-of-type {\n",
       "        vertical-align: middle;\n",
       "    }\n",
       "\n",
       "    .dataframe tbody tr th {\n",
       "        vertical-align: top;\n",
       "    }\n",
       "\n",
       "    .dataframe thead th {\n",
       "        text-align: right;\n",
       "    }\n",
       "</style>\n",
       "<table border=\"1\" class=\"dataframe\">\n",
       "  <thead>\n",
       "    <tr style=\"text-align: right;\">\n",
       "      <th></th>\n",
       "      <th>age</th>\n",
       "      <th>quantity</th>\n",
       "      <th>price</th>\n",
       "      <th>category_Encoded</th>\n",
       "      <th>gender_Encoded</th>\n",
       "    </tr>\n",
       "  </thead>\n",
       "  <tbody>\n",
       "    <tr>\n",
       "      <th>0</th>\n",
       "      <td>28</td>\n",
       "      <td>5</td>\n",
       "      <td>1500.40</td>\n",
       "      <td>1</td>\n",
       "      <td>0</td>\n",
       "    </tr>\n",
       "    <tr>\n",
       "      <th>1</th>\n",
       "      <td>21</td>\n",
       "      <td>3</td>\n",
       "      <td>1800.51</td>\n",
       "      <td>4</td>\n",
       "      <td>1</td>\n",
       "    </tr>\n",
       "    <tr>\n",
       "      <th>2</th>\n",
       "      <td>20</td>\n",
       "      <td>1</td>\n",
       "      <td>300.08</td>\n",
       "      <td>1</td>\n",
       "      <td>1</td>\n",
       "    </tr>\n",
       "    <tr>\n",
       "      <th>3</th>\n",
       "      <td>66</td>\n",
       "      <td>5</td>\n",
       "      <td>3000.85</td>\n",
       "      <td>4</td>\n",
       "      <td>0</td>\n",
       "    </tr>\n",
       "    <tr>\n",
       "      <th>4</th>\n",
       "      <td>53</td>\n",
       "      <td>4</td>\n",
       "      <td>60.60</td>\n",
       "      <td>0</td>\n",
       "      <td>0</td>\n",
       "    </tr>\n",
       "    <tr>\n",
       "      <th>...</th>\n",
       "      <td>...</td>\n",
       "      <td>...</td>\n",
       "      <td>...</td>\n",
       "      <td>...</td>\n",
       "      <td>...</td>\n",
       "    </tr>\n",
       "    <tr>\n",
       "      <th>99452</th>\n",
       "      <td>45</td>\n",
       "      <td>5</td>\n",
       "      <td>58.65</td>\n",
       "      <td>5</td>\n",
       "      <td>0</td>\n",
       "    </tr>\n",
       "    <tr>\n",
       "      <th>99453</th>\n",
       "      <td>27</td>\n",
       "      <td>2</td>\n",
       "      <td>10.46</td>\n",
       "      <td>3</td>\n",
       "      <td>1</td>\n",
       "    </tr>\n",
       "    <tr>\n",
       "      <th>99454</th>\n",
       "      <td>63</td>\n",
       "      <td>2</td>\n",
       "      <td>10.46</td>\n",
       "      <td>3</td>\n",
       "      <td>1</td>\n",
       "    </tr>\n",
       "    <tr>\n",
       "      <th>99455</th>\n",
       "      <td>56</td>\n",
       "      <td>4</td>\n",
       "      <td>4200.00</td>\n",
       "      <td>6</td>\n",
       "      <td>1</td>\n",
       "    </tr>\n",
       "    <tr>\n",
       "      <th>99456</th>\n",
       "      <td>36</td>\n",
       "      <td>3</td>\n",
       "      <td>35.19</td>\n",
       "      <td>5</td>\n",
       "      <td>0</td>\n",
       "    </tr>\n",
       "  </tbody>\n",
       "</table>\n",
       "<p>99457 rows × 5 columns</p>\n",
       "</div>"
      ],
      "text/plain": [
       "       age  quantity    price  category_Encoded  gender_Encoded\n",
       "0       28         5  1500.40                 1               0\n",
       "1       21         3  1800.51                 4               1\n",
       "2       20         1   300.08                 1               1\n",
       "3       66         5  3000.85                 4               0\n",
       "4       53         4    60.60                 0               0\n",
       "...    ...       ...      ...               ...             ...\n",
       "99452   45         5    58.65                 5               0\n",
       "99453   27         2    10.46                 3               1\n",
       "99454   63         2    10.46                 3               1\n",
       "99455   56         4  4200.00                 6               1\n",
       "99456   36         3    35.19                 5               0\n",
       "\n",
       "[99457 rows x 5 columns]"
      ]
     },
     "execution_count": 13,
     "metadata": {},
     "output_type": "execute_result"
    }
   ],
   "source": [
    "cust = cust.drop(\"gender\", axis=1)\n",
    "cust = cust.drop(\"category\", axis=1)\n",
    "cust = cust.drop(\"invoice_no\", axis=1)\n",
    "cust = cust.drop(\"customer_id\", axis=1)\n",
    "cust = cust.drop(\"shopping_mall\", axis=1)\n",
    "cust = cust.drop(\"payment_method\", axis=1)\n",
    "cust = cust.drop(\"invoice_date\", axis=1)\n",
    "cust"
   ]
  },
  {
   "cell_type": "code",
   "execution_count": 14,
   "id": "552a3ad9-6137-4db1-933f-9a1623e02d85",
   "metadata": {},
   "outputs": [],
   "source": [
    "# DIVIDING THE DATA ON THE BASIS OF TWO DIFFERENT PART IN X AND Y FOR SEPERATING THE DATA IN TWO PART "
   ]
  },
  {
   "cell_type": "code",
   "execution_count": 15,
   "id": "14ed6d1d-c04c-4abb-8635-9c06fc7c11ba",
   "metadata": {},
   "outputs": [
    {
     "name": "stdout",
     "output_type": "stream",
     "text": [
      "[[28.  0.]\n",
      " [21.  1.]\n",
      " [20.  1.]\n",
      " ...\n",
      " [63.  1.]\n",
      " [56.  1.]\n",
      " [36.  0.]]\n",
      "---------------------------------\n",
      "[1. 4. 1. ... 3. 6. 5.]\n"
     ]
    }
   ],
   "source": [
    " X = cust.values[:, 0:5:4] \n",
    "Y = cust.values[:,3]\n",
    "print(X)\n",
    "print(\"---------------------------------\")\n",
    "print(Y)"
   ]
  },
  {
   "cell_type": "code",
   "execution_count": 16,
   "id": "b54f101a-df58-4db4-b890-b18ae226bfbc",
   "metadata": {},
   "outputs": [],
   "source": [
    "# ANALYSIS OF COLUMN NAME..."
   ]
  },
  {
   "cell_type": "code",
   "execution_count": 17,
   "id": "14d85ec4-ac99-4fa1-8c0e-24e7aae8560a",
   "metadata": {},
   "outputs": [
    {
     "data": {
      "text/plain": [
       "Index(['age', 'quantity', 'price', 'category_Encoded', 'gender_Encoded'], dtype='object')"
      ]
     },
     "execution_count": 17,
     "metadata": {},
     "output_type": "execute_result"
    }
   ],
   "source": [
    "cust.columns"
   ]
  },
  {
   "cell_type": "code",
   "execution_count": 18,
   "id": "5fb7fc21-3b15-4d77-b129-3c37d89e63a3",
   "metadata": {},
   "outputs": [],
   "source": [
    "#FORBALANCING THE DATA PERFORMING STANDARDIZE METHOD"
   ]
  },
  {
   "cell_type": "code",
   "execution_count": 19,
   "id": "6a9cf057-5de4-4c04-a897-c3835fbdef94",
   "metadata": {},
   "outputs": [
    {
     "name": "stdout",
     "output_type": "stream",
     "text": [
      "Standardized DataFrame:\n",
      "            age  quantity     price  category_Encoded  gender_Encoded\n",
      "0     -1.029160  1.412984  0.861837         -0.848867       -0.819788\n",
      "1     -1.496139 -0.002426  1.180703          0.596219        1.219828\n",
      "2     -1.562850 -1.417837 -0.413498         -0.848867        1.219828\n",
      "3      1.505867  1.412984  2.456060          0.596219       -0.819788\n",
      "4      0.638621  0.705279 -0.667945         -1.330562       -0.819788\n",
      "...         ...       ...       ...               ...             ...\n",
      "99452  0.104931  1.412984 -0.670017          1.077914       -0.819788\n",
      "99453 -1.095871 -0.710132 -0.721219          0.114523        1.219828\n",
      "99454  1.305733 -0.710132 -0.721219          0.114523        1.219828\n",
      "99455  0.838754  0.705279  3.730152          1.559609        1.219828\n",
      "99456 -0.495470 -0.002426 -0.694943          1.077914       -0.819788\n",
      "\n",
      "[99457 rows x 5 columns]\n"
     ]
    }
   ],
   "source": [
    "from sklearn.preprocessing import StandardScaler\n",
    "scaler = StandardScaler()\n",
    "\n",
    "scaled_data = scaler.fit_transform(cust)\n",
    "\n",
    "\n",
    "scaled_cust = pd.DataFrame(scaled_data, columns=cust.columns)\n",
    "\n",
    "print(\"Standardized DataFrame:\")\n",
    "print(scaled_cust)"
   ]
  },
  {
   "cell_type": "code",
   "execution_count": 20,
   "id": "e5ddecf2-f3e3-460f-80c8-7cf97943dbda",
   "metadata": {},
   "outputs": [],
   "source": [
    "# ANALYSIS OF DATA ON BOX PLOT FOR QUANTITY AND CATEGORY"
   ]
  },
  {
   "cell_type": "code",
   "execution_count": 21,
   "id": "7b18884f-8fd8-48f3-9f9c-977a8604a30d",
   "metadata": {},
   "outputs": [
    {
     "data": {
      "image/png": "[encoded data removed]",
      "text/plain": [
       "<Figure size 1000x600 with 1 Axes>"
      ]
     },
     "metadata": {},
     "output_type": "display_data"
    }
   ],
   "source": [
    "plt.figure(figsize=(10, 6))\n",
    "sns.boxplot(x='quantity', y='category_Encoded', data=cust)\n",
    "plt.title('Box Plot of Feature 1 by Cluster')\n",
    "plt.show()"
   ]
  },
  {
   "cell_type": "code",
   "execution_count": 22,
   "id": "4a77878d-4acd-4b1f-954c-34ed346ed5fd",
   "metadata": {},
   "outputs": [],
   "source": [
    "#CORRELATION OF DATA WHICH IS HIGHLY CORELATED "
   ]
  },
  {
   "cell_type": "code",
   "execution_count": 23,
   "id": "268cb997-d968-4977-8671-91e32f61bd89",
   "metadata": {},
   "outputs": [
    {
     "data": {
      "image/png": "[encoded data removed]",
      "text/plain": [
       "<Figure size 640x480 with 2 Axes>"
      ]
     },
     "metadata": {},
     "output_type": "display_data"
    }
   ],
   "source": [
    "corr = cust.corr(numeric_only = True)\n",
    "sns.heatmap(corr)\n",
    "plt.show()"
   ]
  },
  {
   "cell_type": "code",
   "execution_count": 24,
   "id": "61747b33-3ca8-4416-b90e-5e918043dc94",
   "metadata": {},
   "outputs": [],
   "source": [
    "#Box plot for visualize age.."
   ]
  },
  {
   "cell_type": "code",
   "execution_count": 25,
   "id": "875d1e44-d548-4b23-9f51-4a159cba94a7",
   "metadata": {},
   "outputs": [
    {
     "data": {
      "image/png": "[encoded data removed]",
      "text/plain": [
       "<Figure size 1000x600 with 1 Axes>"
      ]
     },
     "metadata": {},
     "output_type": "display_data"
    }
   ],
   "source": [
    "plt.figure(figsize=(10, 6))\n",
    "sns.boxplot(x='age', y='category_Encoded', data=cust)\n",
    "plt.title('Box Plot of Feature 1 by Cluster')\n",
    "plt.show()"
   ]
  },
  {
   "cell_type": "code",
   "execution_count": 26,
   "id": "c506fe58-ca41-4328-afe6-40a3b11f71c9",
   "metadata": {},
   "outputs": [],
   "source": [
    "# ANALYSIS OF DATA ON THE PERFORMING OF SCALING through Dendo gram"
   ]
  },
  {
   "cell_type": "code",
   "execution_count": 27,
   "id": "a6325608-52bb-4571-8b66-81cb74be365c",
   "metadata": {},
   "outputs": [
    {
     "data": {
      "image/png": "[encoded data removed]",
      "text/plain": [
       "<Figure size 1000x500 with 1 Axes>"
      ]
     },
     "metadata": {},
     "output_type": "display_data"
    }
   ],
   "source": [
    "# dendrogram\n",
    "from scipy.cluster import hierarchy\n",
    "import matplotlib.pyplot as plt\n",
    "Z = hierarchy.linkage(X[0:20], 'complete')\n",
    "plt.figure(figsize=(10,5))\n",
    "dn = hierarchy.dendrogram(Z)\n",
    "plt.show()"
   ]
  },
  {
   "cell_type": "code",
   "execution_count": 28,
   "id": "93a74227-5fd5-42e0-81e0-fa5e19970004",
   "metadata": {},
   "outputs": [],
   "source": [
    "# PERFORMING K CLUSTERING ALGORITHM by using silhouette score FOR ANALYSIS CLOSE CLUSTER.."
   ]
  },
  {
   "cell_type": "code",
   "execution_count": 88,
   "id": "4815c8b4-223d-4bb0-ba24-ac8c8efbefd8",
   "metadata": {},
   "outputs": [
    {
     "name": "stdout",
     "output_type": "stream",
     "text": [
      "For n_clusters=2, the average silhouette_score is: 0.6229083551367063\n",
      "For n_clusters=3, the average silhouette_score is: 0.586267114916924\n",
      "For n_clusters=4, the average silhouette_score is: 0.5659441037475057\n",
      "For n_clusters=5, the average silhouette_score is: 0.5525106709117147\n",
      "For n_clusters=6, the average silhouette_score is: 0.540921311449731\n",
      "For n_clusters=7, the average silhouette_score is: 0.5360102761513498\n",
      "For n_clusters=8, the average silhouette_score is: 0.5252053305881946\n",
      "For n_clusters=9, the average silhouette_score is: 0.516308817326046\n",
      "For n_clusters=10, the average silhouette_score is: 0.5132490952676\n"
     ]
    }
   ],
   "source": [
    "from sklearn.cluster import KMeans\n",
    "from sklearn.metrics import silhouette_score\n",
    "\n",
    "# Assuming you have your data in a\n",
    "X=cust.values[:, 0:5:4] \n",
    "X = cust.values[:, 0:5:4] \n",
    "for num_clusters in range(2, 11):\n",
    "    kmeans = KMeans(n_clusters=num_clusters, random_state=42)\n",
    "    kmeans.fit(X)\n",
    "    labels = kmeans.labels_\n",
    "    silhouette_avg = silhouette_score(X, labels)\n",
    "    print(f\"For n_clusters={num_clusters}, the average silhouette_score is: {silhouette_avg}\")\n",
    "# Choose the number of clusters with the highest Silhouette Score\n",
    "optimal_clusters = num_clusters  # Adjust based on the highest score\n",
    "\n",
    "# Fit the final K-Means model with the optimal number of clusters\n",
    "kmeans = KMeans(n_clusters=optimal_clusters, random_state=42)\n",
    "kmeans.fit(X)\n",
    "labels = kmeans.labels_\n",
    "\n"
   ]
  },
  {
   "cell_type": "code",
   "execution_count": null,
   "id": "0f9b13ed-3e05-4a83-a655-4e59580cb579",
   "metadata": {},
   "outputs": [],
   "source": [
    "# analysis or visualization"
   ]
  },
  {
   "cell_type": "code",
   "execution_count": 106,
   "id": "c074fe38-cbb1-47a8-bace-a178e10f0b25",
   "metadata": {},
   "outputs": [
    {
     "data": {
      "image/png": "[encoded data removed]",
      "text/plain": [
       "<Figure size 640x480 with 1 Axes>"
      ]
     },
     "metadata": {},
     "output_type": "display_data"
    }
   ],
   "source": [
    "plt.scatter(X[:, 0], X[:, 1], c=labels)\n",
    "plt.show()"
   ]
  },
  {
   "cell_type": "code",
   "execution_count": null,
   "id": "186d49a3-0f66-4a72-b73a-ef968e8df9a8",
   "metadata": {},
   "outputs": [],
   "source": [
    "#  IMPORTING LIBRARIES"
   ]
  },
  {
   "cell_type": "code",
   "execution_count": 110,
   "id": "80f56884-346c-4a74-ba1c-3e93d7ab2d2d",
   "metadata": {},
   "outputs": [],
   "source": [
    "import pandas as pd\n",
    "import numpy as np\n",
    "import seaborn as sns\n",
    "import matplotlib.pyplot as plt\n",
    "from sklearn import metrics\n",
    "from sklearn.preprocessing import OneHotEncoder\n",
    "from sklearn.preprocessing import OneHotEncoder\n",
    "customer=pd.read_csv(\"customer_shopping_data.csv\")"
   ]
  },
  {
   "cell_type": "code",
   "execution_count": 112,
   "id": "27a61a11-8984-496d-8dc8-2901a3cede24",
   "metadata": {},
   "outputs": [],
   "source": [
    "# SHOW DATA FROM DATA SET"
   ]
  },
  {
   "cell_type": "code",
   "execution_count": 114,
   "id": "90f30479-6138-4088-86b3-22a577aa0776",
   "metadata": {},
   "outputs": [
    {
     "name": "stdout",
     "output_type": "stream",
     "text": [
      "CUSTOMER SHOPPING  DATA\n"
     ]
    },
    {
     "data": {
      "text/html": [
       "<div>\n",
       "<style scoped>\n",
       "    .dataframe tbody tr th:only-of-type {\n",
       "        vertical-align: middle;\n",
       "    }\n",
       "\n",
       "    .dataframe tbody tr th {\n",
       "        vertical-align: top;\n",
       "    }\n",
       "\n",
       "    .dataframe thead th {\n",
       "        text-align: right;\n",
       "    }\n",
       "</style>\n",
       "<table border=\"1\" class=\"dataframe\">\n",
       "  <thead>\n",
       "    <tr style=\"text-align: right;\">\n",
       "      <th></th>\n",
       "      <th>invoice_no</th>\n",
       "      <th>customer_id</th>\n",
       "      <th>gender</th>\n",
       "      <th>age</th>\n",
       "      <th>category</th>\n",
       "      <th>quantity</th>\n",
       "      <th>price</th>\n",
       "      <th>payment_method</th>\n",
       "      <th>invoice_date</th>\n",
       "      <th>shopping_mall</th>\n",
       "    </tr>\n",
       "  </thead>\n",
       "  <tbody>\n",
       "    <tr>\n",
       "      <th>0</th>\n",
       "      <td>I138884</td>\n",
       "      <td>C241288</td>\n",
       "      <td>Female</td>\n",
       "      <td>28</td>\n",
       "      <td>Clothing</td>\n",
       "      <td>5</td>\n",
       "      <td>1500.40</td>\n",
       "      <td>Credit Card</td>\n",
       "      <td>5/8/2022</td>\n",
       "      <td>Kanyon</td>\n",
       "    </tr>\n",
       "    <tr>\n",
       "      <th>1</th>\n",
       "      <td>I317333</td>\n",
       "      <td>C111565</td>\n",
       "      <td>Male</td>\n",
       "      <td>21</td>\n",
       "      <td>Shoes</td>\n",
       "      <td>3</td>\n",
       "      <td>1800.51</td>\n",
       "      <td>Debit Card</td>\n",
       "      <td>12/12/2021</td>\n",
       "      <td>Forum Istanbul</td>\n",
       "    </tr>\n",
       "    <tr>\n",
       "      <th>2</th>\n",
       "      <td>I127801</td>\n",
       "      <td>C266599</td>\n",
       "      <td>Male</td>\n",
       "      <td>20</td>\n",
       "      <td>Clothing</td>\n",
       "      <td>1</td>\n",
       "      <td>300.08</td>\n",
       "      <td>Cash</td>\n",
       "      <td>9/11/2021</td>\n",
       "      <td>Metrocity</td>\n",
       "    </tr>\n",
       "    <tr>\n",
       "      <th>3</th>\n",
       "      <td>I173702</td>\n",
       "      <td>C988172</td>\n",
       "      <td>Female</td>\n",
       "      <td>66</td>\n",
       "      <td>Shoes</td>\n",
       "      <td>5</td>\n",
       "      <td>3000.85</td>\n",
       "      <td>Credit Card</td>\n",
       "      <td>16/05/2021</td>\n",
       "      <td>Metropol AVM</td>\n",
       "    </tr>\n",
       "    <tr>\n",
       "      <th>4</th>\n",
       "      <td>I337046</td>\n",
       "      <td>C189076</td>\n",
       "      <td>Female</td>\n",
       "      <td>53</td>\n",
       "      <td>Books</td>\n",
       "      <td>4</td>\n",
       "      <td>60.60</td>\n",
       "      <td>Cash</td>\n",
       "      <td>24/10/2021</td>\n",
       "      <td>Kanyon</td>\n",
       "    </tr>\n",
       "    <tr>\n",
       "      <th>...</th>\n",
       "      <td>...</td>\n",
       "      <td>...</td>\n",
       "      <td>...</td>\n",
       "      <td>...</td>\n",
       "      <td>...</td>\n",
       "      <td>...</td>\n",
       "      <td>...</td>\n",
       "      <td>...</td>\n",
       "      <td>...</td>\n",
       "      <td>...</td>\n",
       "    </tr>\n",
       "    <tr>\n",
       "      <th>99452</th>\n",
       "      <td>I219422</td>\n",
       "      <td>C441542</td>\n",
       "      <td>Female</td>\n",
       "      <td>45</td>\n",
       "      <td>Souvenir</td>\n",
       "      <td>5</td>\n",
       "      <td>58.65</td>\n",
       "      <td>Credit Card</td>\n",
       "      <td>21/09/2022</td>\n",
       "      <td>Kanyon</td>\n",
       "    </tr>\n",
       "    <tr>\n",
       "      <th>99453</th>\n",
       "      <td>I325143</td>\n",
       "      <td>C569580</td>\n",
       "      <td>Male</td>\n",
       "      <td>27</td>\n",
       "      <td>Food &amp; Beverage</td>\n",
       "      <td>2</td>\n",
       "      <td>10.46</td>\n",
       "      <td>Cash</td>\n",
       "      <td>22/09/2021</td>\n",
       "      <td>Forum Istanbul</td>\n",
       "    </tr>\n",
       "    <tr>\n",
       "      <th>99454</th>\n",
       "      <td>I824010</td>\n",
       "      <td>C103292</td>\n",
       "      <td>Male</td>\n",
       "      <td>63</td>\n",
       "      <td>Food &amp; Beverage</td>\n",
       "      <td>2</td>\n",
       "      <td>10.46</td>\n",
       "      <td>Debit Card</td>\n",
       "      <td>28/03/2021</td>\n",
       "      <td>Metrocity</td>\n",
       "    </tr>\n",
       "    <tr>\n",
       "      <th>99455</th>\n",
       "      <td>I702964</td>\n",
       "      <td>C800631</td>\n",
       "      <td>Male</td>\n",
       "      <td>56</td>\n",
       "      <td>Technology</td>\n",
       "      <td>4</td>\n",
       "      <td>4200.00</td>\n",
       "      <td>Cash</td>\n",
       "      <td>16/03/2021</td>\n",
       "      <td>Istinye Park</td>\n",
       "    </tr>\n",
       "    <tr>\n",
       "      <th>99456</th>\n",
       "      <td>I232867</td>\n",
       "      <td>C273973</td>\n",
       "      <td>Female</td>\n",
       "      <td>36</td>\n",
       "      <td>Souvenir</td>\n",
       "      <td>3</td>\n",
       "      <td>35.19</td>\n",
       "      <td>Credit Card</td>\n",
       "      <td>15/10/2022</td>\n",
       "      <td>Mall of Istanbul</td>\n",
       "    </tr>\n",
       "  </tbody>\n",
       "</table>\n",
       "<p>99457 rows × 10 columns</p>\n",
       "</div>"
      ],
      "text/plain": [
       "      invoice_no customer_id  gender  age         category  quantity    price  \\\n",
       "0        I138884     C241288  Female   28         Clothing         5  1500.40   \n",
       "1        I317333     C111565    Male   21            Shoes         3  1800.51   \n",
       "2        I127801     C266599    Male   20         Clothing         1   300.08   \n",
       "3        I173702     C988172  Female   66            Shoes         5  3000.85   \n",
       "4        I337046     C189076  Female   53            Books         4    60.60   \n",
       "...          ...         ...     ...  ...              ...       ...      ...   \n",
       "99452    I219422     C441542  Female   45         Souvenir         5    58.65   \n",
       "99453    I325143     C569580    Male   27  Food & Beverage         2    10.46   \n",
       "99454    I824010     C103292    Male   63  Food & Beverage         2    10.46   \n",
       "99455    I702964     C800631    Male   56       Technology         4  4200.00   \n",
       "99456    I232867     C273973  Female   36         Souvenir         3    35.19   \n",
       "\n",
       "      payment_method invoice_date     shopping_mall  \n",
       "0        Credit Card     5/8/2022            Kanyon  \n",
       "1         Debit Card   12/12/2021    Forum Istanbul  \n",
       "2               Cash    9/11/2021         Metrocity  \n",
       "3        Credit Card   16/05/2021      Metropol AVM  \n",
       "4               Cash   24/10/2021            Kanyon  \n",
       "...              ...          ...               ...  \n",
       "99452    Credit Card   21/09/2022            Kanyon  \n",
       "99453           Cash   22/09/2021    Forum Istanbul  \n",
       "99454     Debit Card   28/03/2021         Metrocity  \n",
       "99455           Cash   16/03/2021      Istinye Park  \n",
       "99456    Credit Card   15/10/2022  Mall of Istanbul  \n",
       "\n",
       "[99457 rows x 10 columns]"
      ]
     },
     "execution_count": 114,
     "metadata": {},
     "output_type": "execute_result"
    }
   ],
   "source": [
    "print(\"CUSTOMER SHOPPING  DATA\")\n",
    "customer.head(99457)"
   ]
  },
  {
   "cell_type": "code",
   "execution_count": 116,
   "id": "282adb06-a9b1-4d86-ad97-5dfc002fa7ae",
   "metadata": {},
   "outputs": [],
   "source": [
    "#SHOWING DIFFERENT ROWS AND COLUMNS CONTAIN IN DATA SET"
   ]
  },
  {
   "cell_type": "code",
   "execution_count": 118,
   "id": "bd4689d6-70b0-44df-947e-8e01b5f97de9",
   "metadata": {},
   "outputs": [
    {
     "name": "stdout",
     "output_type": "stream",
     "text": [
      "Number of Observation(Rows) 99457\n",
      "Number of Features(Column) 10\n"
     ]
    }
   ],
   "source": [
    "print(\"Number of Observation(Rows)\",customer.shape[0])\n",
    "print(\"Number of Features(Column)\",customer.shape[1])"
   ]
  },
  {
   "cell_type": "code",
   "execution_count": 120,
   "id": "9301be1c-0e8b-44fd-aa39-1d04ee08f76e",
   "metadata": {},
   "outputs": [
    {
     "data": {
      "text/plain": [
       "(99457, 10)"
      ]
     },
     "execution_count": 120,
     "metadata": {},
     "output_type": "execute_result"
    }
   ],
   "source": [
    "customer.shape"
   ]
  },
  {
   "cell_type": "code",
   "execution_count": 122,
   "id": "1f0fc5a2-469d-4c0b-a8a3-827b2952167d",
   "metadata": {},
   "outputs": [],
   "source": [
    "#SHOWING DIFFERENT NAME OF OBJECT CONTAIN IN DATA SET"
   ]
  },
  {
   "cell_type": "code",
   "execution_count": 124,
   "id": "0e122f25-dbc6-4cc6-ad45-c1df13b55a20",
   "metadata": {},
   "outputs": [
    {
     "name": "stdout",
     "output_type": "stream",
     "text": [
      "Number Names of all features(Column) Index(['invoice_no', 'customer_id', 'gender', 'age', 'category', 'quantity',\n",
      "       'price', 'payment_method', 'invoice_date', 'shopping_mall'],\n",
      "      dtype='object')\n"
     ]
    }
   ],
   "source": [
    "print(\"Number Names of all features(Column)\",customer.columns)"
   ]
  },
  {
   "cell_type": "code",
   "execution_count": 126,
   "id": "c600d9df-1acf-48a4-b3ec-472069fede5e",
   "metadata": {},
   "outputs": [],
   "source": [
    "#SORTING THE COLUMNS OF ACORDING TO AGE "
   ]
  },
  {
   "cell_type": "code",
   "execution_count": 128,
   "id": "3c3c455b-778e-4c17-8061-f7631c884651",
   "metadata": {},
   "outputs": [
    {
     "data": {
      "text/plain": [
       "69089    18\n",
       "95060    18\n",
       "78728    18\n",
       "55784    18\n",
       "2443     18\n",
       "         ..\n",
       "66267    69\n",
       "66279    69\n",
       "85428    69\n",
       "66133    69\n",
       "62421    69\n",
       "Name: age, Length: 99457, dtype: int64"
      ]
     },
     "execution_count": 128,
     "metadata": {},
     "output_type": "execute_result"
    }
   ],
   "source": [
    "customer.age.sort_values(ascending=True)    "
   ]
  },
  {
   "cell_type": "code",
   "execution_count": 130,
   "id": "e293409a-8a3d-4efe-91f3-a2999d463b5d",
   "metadata": {},
   "outputs": [],
   "source": [
    "# SHOWING THE AGE ACORDING TO ASCENDING ORDER FOR ANALYSIS OF AGE GROUP "
   ]
  },
  {
   "cell_type": "code",
   "execution_count": 132,
   "id": "85455a0a-82ca-4c6b-a283-9c4815934908",
   "metadata": {},
   "outputs": [
    {
     "data": {
      "text/html": [
       "<div>\n",
       "<style scoped>\n",
       "    .dataframe tbody tr th:only-of-type {\n",
       "        vertical-align: middle;\n",
       "    }\n",
       "\n",
       "    .dataframe tbody tr th {\n",
       "        vertical-align: top;\n",
       "    }\n",
       "\n",
       "    .dataframe thead th {\n",
       "        text-align: right;\n",
       "    }\n",
       "</style>\n",
       "<table border=\"1\" class=\"dataframe\">\n",
       "  <thead>\n",
       "    <tr style=\"text-align: right;\">\n",
       "      <th></th>\n",
       "      <th>invoice_no</th>\n",
       "      <th>customer_id</th>\n",
       "      <th>gender</th>\n",
       "      <th>age</th>\n",
       "      <th>category</th>\n",
       "      <th>quantity</th>\n",
       "      <th>price</th>\n",
       "      <th>payment_method</th>\n",
       "      <th>invoice_date</th>\n",
       "      <th>shopping_mall</th>\n",
       "    </tr>\n",
       "  </thead>\n",
       "  <tbody>\n",
       "    <tr>\n",
       "      <th>69089</th>\n",
       "      <td>I907811</td>\n",
       "      <td>C167489</td>\n",
       "      <td>Male</td>\n",
       "      <td>18</td>\n",
       "      <td>Shoes</td>\n",
       "      <td>3</td>\n",
       "      <td>1800.51</td>\n",
       "      <td>Debit Card</td>\n",
       "      <td>12/9/2022</td>\n",
       "      <td>Kanyon</td>\n",
       "    </tr>\n",
       "    <tr>\n",
       "      <th>95060</th>\n",
       "      <td>I128262</td>\n",
       "      <td>C687788</td>\n",
       "      <td>Male</td>\n",
       "      <td>18</td>\n",
       "      <td>Toys</td>\n",
       "      <td>4</td>\n",
       "      <td>143.36</td>\n",
       "      <td>Cash</td>\n",
       "      <td>2/5/2021</td>\n",
       "      <td>Mall of Istanbul</td>\n",
       "    </tr>\n",
       "    <tr>\n",
       "      <th>78728</th>\n",
       "      <td>I280590</td>\n",
       "      <td>C142284</td>\n",
       "      <td>Female</td>\n",
       "      <td>18</td>\n",
       "      <td>Clothing</td>\n",
       "      <td>2</td>\n",
       "      <td>600.16</td>\n",
       "      <td>Debit Card</td>\n",
       "      <td>26/10/2022</td>\n",
       "      <td>Forum Istanbul</td>\n",
       "    </tr>\n",
       "    <tr>\n",
       "      <th>55784</th>\n",
       "      <td>I210628</td>\n",
       "      <td>C525437</td>\n",
       "      <td>Female</td>\n",
       "      <td>18</td>\n",
       "      <td>Books</td>\n",
       "      <td>2</td>\n",
       "      <td>30.30</td>\n",
       "      <td>Cash</td>\n",
       "      <td>30/09/2022</td>\n",
       "      <td>Forum Istanbul</td>\n",
       "    </tr>\n",
       "    <tr>\n",
       "      <th>2443</th>\n",
       "      <td>I115916</td>\n",
       "      <td>C338582</td>\n",
       "      <td>Male</td>\n",
       "      <td>18</td>\n",
       "      <td>Shoes</td>\n",
       "      <td>5</td>\n",
       "      <td>3000.85</td>\n",
       "      <td>Debit Card</td>\n",
       "      <td>23/08/2022</td>\n",
       "      <td>Istinye Park</td>\n",
       "    </tr>\n",
       "    <tr>\n",
       "      <th>...</th>\n",
       "      <td>...</td>\n",
       "      <td>...</td>\n",
       "      <td>...</td>\n",
       "      <td>...</td>\n",
       "      <td>...</td>\n",
       "      <td>...</td>\n",
       "      <td>...</td>\n",
       "      <td>...</td>\n",
       "      <td>...</td>\n",
       "      <td>...</td>\n",
       "    </tr>\n",
       "    <tr>\n",
       "      <th>66267</th>\n",
       "      <td>I433176</td>\n",
       "      <td>C202678</td>\n",
       "      <td>Male</td>\n",
       "      <td>69</td>\n",
       "      <td>Toys</td>\n",
       "      <td>5</td>\n",
       "      <td>179.20</td>\n",
       "      <td>Credit Card</td>\n",
       "      <td>27/03/2021</td>\n",
       "      <td>Istinye Park</td>\n",
       "    </tr>\n",
       "    <tr>\n",
       "      <th>66279</th>\n",
       "      <td>I213234</td>\n",
       "      <td>C176169</td>\n",
       "      <td>Female</td>\n",
       "      <td>69</td>\n",
       "      <td>Shoes</td>\n",
       "      <td>2</td>\n",
       "      <td>1200.34</td>\n",
       "      <td>Credit Card</td>\n",
       "      <td>7/10/2021</td>\n",
       "      <td>Viaport Outlet</td>\n",
       "    </tr>\n",
       "    <tr>\n",
       "      <th>85428</th>\n",
       "      <td>I117055</td>\n",
       "      <td>C208685</td>\n",
       "      <td>Female</td>\n",
       "      <td>69</td>\n",
       "      <td>Souvenir</td>\n",
       "      <td>2</td>\n",
       "      <td>23.46</td>\n",
       "      <td>Cash</td>\n",
       "      <td>15/09/2022</td>\n",
       "      <td>Metrocity</td>\n",
       "    </tr>\n",
       "    <tr>\n",
       "      <th>66133</th>\n",
       "      <td>I288825</td>\n",
       "      <td>C345511</td>\n",
       "      <td>Female</td>\n",
       "      <td>69</td>\n",
       "      <td>Clothing</td>\n",
       "      <td>1</td>\n",
       "      <td>300.08</td>\n",
       "      <td>Credit Card</td>\n",
       "      <td>23/07/2021</td>\n",
       "      <td>Mall of Istanbul</td>\n",
       "    </tr>\n",
       "    <tr>\n",
       "      <th>62421</th>\n",
       "      <td>I366654</td>\n",
       "      <td>C302779</td>\n",
       "      <td>Female</td>\n",
       "      <td>69</td>\n",
       "      <td>Clothing</td>\n",
       "      <td>5</td>\n",
       "      <td>1500.40</td>\n",
       "      <td>Cash</td>\n",
       "      <td>28/06/2021</td>\n",
       "      <td>Metropol AVM</td>\n",
       "    </tr>\n",
       "  </tbody>\n",
       "</table>\n",
       "<p>99457 rows × 10 columns</p>\n",
       "</div>"
      ],
      "text/plain": [
       "      invoice_no customer_id  gender  age  category  quantity    price  \\\n",
       "69089    I907811     C167489    Male   18     Shoes         3  1800.51   \n",
       "95060    I128262     C687788    Male   18      Toys         4   143.36   \n",
       "78728    I280590     C142284  Female   18  Clothing         2   600.16   \n",
       "55784    I210628     C525437  Female   18     Books         2    30.30   \n",
       "2443     I115916     C338582    Male   18     Shoes         5  3000.85   \n",
       "...          ...         ...     ...  ...       ...       ...      ...   \n",
       "66267    I433176     C202678    Male   69      Toys         5   179.20   \n",
       "66279    I213234     C176169  Female   69     Shoes         2  1200.34   \n",
       "85428    I117055     C208685  Female   69  Souvenir         2    23.46   \n",
       "66133    I288825     C345511  Female   69  Clothing         1   300.08   \n",
       "62421    I366654     C302779  Female   69  Clothing         5  1500.40   \n",
       "\n",
       "      payment_method invoice_date     shopping_mall  \n",
       "69089     Debit Card    12/9/2022            Kanyon  \n",
       "95060           Cash     2/5/2021  Mall of Istanbul  \n",
       "78728     Debit Card   26/10/2022    Forum Istanbul  \n",
       "55784           Cash   30/09/2022    Forum Istanbul  \n",
       "2443      Debit Card   23/08/2022      Istinye Park  \n",
       "...              ...          ...               ...  \n",
       "66267    Credit Card   27/03/2021      Istinye Park  \n",
       "66279    Credit Card    7/10/2021    Viaport Outlet  \n",
       "85428           Cash   15/09/2022         Metrocity  \n",
       "66133    Credit Card   23/07/2021  Mall of Istanbul  \n",
       "62421           Cash   28/06/2021      Metropol AVM  \n",
       "\n",
       "[99457 rows x 10 columns]"
      ]
     },
     "execution_count": 132,
     "metadata": {},
     "output_type": "execute_result"
    }
   ],
   "source": [
    "customer.sort_values(['age'],ascending=True)"
   ]
  },
  {
   "cell_type": "code",
   "execution_count": 134,
   "id": "4ef666cb-98f3-4305-a73f-d68fefaa07b5",
   "metadata": {},
   "outputs": [],
   "source": [
    "#AFTER ANALYSING THE DATA ON THE BASIS OF OUR PROBLEM REDUCING UNNECESSARY DATA FROM DATA SET"
   ]
  },
  {
   "cell_type": "code",
   "execution_count": 136,
   "id": "bb766c12-0ab1-4b7c-a9f5-043a98bb3e32",
   "metadata": {
    "scrolled": true
   },
   "outputs": [
    {
     "data": {
      "text/html": [
       "<div>\n",
       "<style scoped>\n",
       "    .dataframe tbody tr th:only-of-type {\n",
       "        vertical-align: middle;\n",
       "    }\n",
       "\n",
       "    .dataframe tbody tr th {\n",
       "        vertical-align: top;\n",
       "    }\n",
       "\n",
       "    .dataframe thead th {\n",
       "        text-align: right;\n",
       "    }\n",
       "</style>\n",
       "<table border=\"1\" class=\"dataframe\">\n",
       "  <thead>\n",
       "    <tr style=\"text-align: right;\">\n",
       "      <th></th>\n",
       "      <th>customer_id</th>\n",
       "      <th>gender</th>\n",
       "      <th>age</th>\n",
       "      <th>category</th>\n",
       "      <th>quantity</th>\n",
       "      <th>price</th>\n",
       "      <th>invoice_date</th>\n",
       "    </tr>\n",
       "  </thead>\n",
       "  <tbody>\n",
       "    <tr>\n",
       "      <th>0</th>\n",
       "      <td>C241288</td>\n",
       "      <td>Female</td>\n",
       "      <td>28</td>\n",
       "      <td>Clothing</td>\n",
       "      <td>5</td>\n",
       "      <td>1500.40</td>\n",
       "      <td>5/8/2022</td>\n",
       "    </tr>\n",
       "    <tr>\n",
       "      <th>1</th>\n",
       "      <td>C111565</td>\n",
       "      <td>Male</td>\n",
       "      <td>21</td>\n",
       "      <td>Shoes</td>\n",
       "      <td>3</td>\n",
       "      <td>1800.51</td>\n",
       "      <td>12/12/2021</td>\n",
       "    </tr>\n",
       "    <tr>\n",
       "      <th>2</th>\n",
       "      <td>C266599</td>\n",
       "      <td>Male</td>\n",
       "      <td>20</td>\n",
       "      <td>Clothing</td>\n",
       "      <td>1</td>\n",
       "      <td>300.08</td>\n",
       "      <td>9/11/2021</td>\n",
       "    </tr>\n",
       "    <tr>\n",
       "      <th>3</th>\n",
       "      <td>C988172</td>\n",
       "      <td>Female</td>\n",
       "      <td>66</td>\n",
       "      <td>Shoes</td>\n",
       "      <td>5</td>\n",
       "      <td>3000.85</td>\n",
       "      <td>16/05/2021</td>\n",
       "    </tr>\n",
       "    <tr>\n",
       "      <th>4</th>\n",
       "      <td>C189076</td>\n",
       "      <td>Female</td>\n",
       "      <td>53</td>\n",
       "      <td>Books</td>\n",
       "      <td>4</td>\n",
       "      <td>60.60</td>\n",
       "      <td>24/10/2021</td>\n",
       "    </tr>\n",
       "    <tr>\n",
       "      <th>...</th>\n",
       "      <td>...</td>\n",
       "      <td>...</td>\n",
       "      <td>...</td>\n",
       "      <td>...</td>\n",
       "      <td>...</td>\n",
       "      <td>...</td>\n",
       "      <td>...</td>\n",
       "    </tr>\n",
       "    <tr>\n",
       "      <th>99452</th>\n",
       "      <td>C441542</td>\n",
       "      <td>Female</td>\n",
       "      <td>45</td>\n",
       "      <td>Souvenir</td>\n",
       "      <td>5</td>\n",
       "      <td>58.65</td>\n",
       "      <td>21/09/2022</td>\n",
       "    </tr>\n",
       "    <tr>\n",
       "      <th>99453</th>\n",
       "      <td>C569580</td>\n",
       "      <td>Male</td>\n",
       "      <td>27</td>\n",
       "      <td>Food &amp; Beverage</td>\n",
       "      <td>2</td>\n",
       "      <td>10.46</td>\n",
       "      <td>22/09/2021</td>\n",
       "    </tr>\n",
       "    <tr>\n",
       "      <th>99454</th>\n",
       "      <td>C103292</td>\n",
       "      <td>Male</td>\n",
       "      <td>63</td>\n",
       "      <td>Food &amp; Beverage</td>\n",
       "      <td>2</td>\n",
       "      <td>10.46</td>\n",
       "      <td>28/03/2021</td>\n",
       "    </tr>\n",
       "    <tr>\n",
       "      <th>99455</th>\n",
       "      <td>C800631</td>\n",
       "      <td>Male</td>\n",
       "      <td>56</td>\n",
       "      <td>Technology</td>\n",
       "      <td>4</td>\n",
       "      <td>4200.00</td>\n",
       "      <td>16/03/2021</td>\n",
       "    </tr>\n",
       "    <tr>\n",
       "      <th>99456</th>\n",
       "      <td>C273973</td>\n",
       "      <td>Female</td>\n",
       "      <td>36</td>\n",
       "      <td>Souvenir</td>\n",
       "      <td>3</td>\n",
       "      <td>35.19</td>\n",
       "      <td>15/10/2022</td>\n",
       "    </tr>\n",
       "  </tbody>\n",
       "</table>\n",
       "<p>99457 rows × 7 columns</p>\n",
       "</div>"
      ],
      "text/plain": [
       "      customer_id  gender  age         category  quantity    price  \\\n",
       "0         C241288  Female   28         Clothing         5  1500.40   \n",
       "1         C111565    Male   21            Shoes         3  1800.51   \n",
       "2         C266599    Male   20         Clothing         1   300.08   \n",
       "3         C988172  Female   66            Shoes         5  3000.85   \n",
       "4         C189076  Female   53            Books         4    60.60   \n",
       "...           ...     ...  ...              ...       ...      ...   \n",
       "99452     C441542  Female   45         Souvenir         5    58.65   \n",
       "99453     C569580    Male   27  Food & Beverage         2    10.46   \n",
       "99454     C103292    Male   63  Food & Beverage         2    10.46   \n",
       "99455     C800631    Male   56       Technology         4  4200.00   \n",
       "99456     C273973  Female   36         Souvenir         3    35.19   \n",
       "\n",
       "      invoice_date  \n",
       "0         5/8/2022  \n",
       "1       12/12/2021  \n",
       "2        9/11/2021  \n",
       "3       16/05/2021  \n",
       "4       24/10/2021  \n",
       "...            ...  \n",
       "99452   21/09/2022  \n",
       "99453   22/09/2021  \n",
       "99454   28/03/2021  \n",
       "99455   16/03/2021  \n",
       "99456   15/10/2022  \n",
       "\n",
       "[99457 rows x 7 columns]"
      ]
     },
     "execution_count": 136,
     "metadata": {},
     "output_type": "execute_result"
    }
   ],
   "source": [
    "customer=customer.drop(\"payment_method\",axis=1)\n",
    "customer=customer.drop(\"invoice_no\",axis=1)\n",
    "customer=customer.drop(\"shopping_mall\",axis=1)\n",
    "customer"
   ]
  },
  {
   "cell_type": "code",
   "execution_count": 138,
   "id": "af08366a-ce06-4a9f-ba94-ea2df8b98353",
   "metadata": {},
   "outputs": [],
   "source": [
    "#SHOWING DATA TYPES PRESENT IN DATA SET "
   ]
  },
  {
   "cell_type": "code",
   "execution_count": 140,
   "id": "e91e6078-7bf3-4bac-b68b-18740df24090",
   "metadata": {},
   "outputs": [
    {
     "name": "stdout",
     "output_type": "stream",
     "text": [
      "<class 'pandas.core.frame.DataFrame'>\n",
      "RangeIndex: 99457 entries, 0 to 99456\n",
      "Data columns (total 7 columns):\n",
      " #   Column        Non-Null Count  Dtype  \n",
      "---  ------        --------------  -----  \n",
      " 0   customer_id   99457 non-null  object \n",
      " 1   gender        99457 non-null  object \n",
      " 2   age           99457 non-null  int64  \n",
      " 3   category      99457 non-null  object \n",
      " 4   quantity      99457 non-null  int64  \n",
      " 5   price         99457 non-null  float64\n",
      " 6   invoice_date  99457 non-null  object \n",
      "dtypes: float64(1), int64(2), object(4)\n",
      "memory usage: 5.3+ MB\n"
     ]
    }
   ],
   "source": [
    "customer.info()"
   ]
  },
  {
   "cell_type": "code",
   "execution_count": 142,
   "id": "be0263b3-38c5-4701-9d71-f3e2efe845c6",
   "metadata": {},
   "outputs": [],
   "source": [
    "#EXPLAINING ABOUT ANALYSIS OF DESCRIPTIVE STATISTICS "
   ]
  },
  {
   "cell_type": "code",
   "execution_count": 144,
   "id": "d66bd5e5-d825-4755-b5b3-b3ec0fa1a459",
   "metadata": {},
   "outputs": [
    {
     "data": {
      "text/html": [
       "<div>\n",
       "<style scoped>\n",
       "    .dataframe tbody tr th:only-of-type {\n",
       "        vertical-align: middle;\n",
       "    }\n",
       "\n",
       "    .dataframe tbody tr th {\n",
       "        vertical-align: top;\n",
       "    }\n",
       "\n",
       "    .dataframe thead th {\n",
       "        text-align: right;\n",
       "    }\n",
       "</style>\n",
       "<table border=\"1\" class=\"dataframe\">\n",
       "  <thead>\n",
       "    <tr style=\"text-align: right;\">\n",
       "      <th></th>\n",
       "      <th>age</th>\n",
       "      <th>quantity</th>\n",
       "      <th>price</th>\n",
       "    </tr>\n",
       "  </thead>\n",
       "  <tbody>\n",
       "    <tr>\n",
       "      <th>count</th>\n",
       "      <td>99457.000000</td>\n",
       "      <td>99457.000000</td>\n",
       "      <td>99457.000000</td>\n",
       "    </tr>\n",
       "    <tr>\n",
       "      <th>mean</th>\n",
       "      <td>43.427089</td>\n",
       "      <td>3.003429</td>\n",
       "      <td>689.256321</td>\n",
       "    </tr>\n",
       "    <tr>\n",
       "      <th>std</th>\n",
       "      <td>14.990054</td>\n",
       "      <td>1.413025</td>\n",
       "      <td>941.184567</td>\n",
       "    </tr>\n",
       "    <tr>\n",
       "      <th>min</th>\n",
       "      <td>18.000000</td>\n",
       "      <td>1.000000</td>\n",
       "      <td>5.230000</td>\n",
       "    </tr>\n",
       "    <tr>\n",
       "      <th>25%</th>\n",
       "      <td>30.000000</td>\n",
       "      <td>2.000000</td>\n",
       "      <td>45.450000</td>\n",
       "    </tr>\n",
       "    <tr>\n",
       "      <th>50%</th>\n",
       "      <td>43.000000</td>\n",
       "      <td>3.000000</td>\n",
       "      <td>203.300000</td>\n",
       "    </tr>\n",
       "    <tr>\n",
       "      <th>75%</th>\n",
       "      <td>56.000000</td>\n",
       "      <td>4.000000</td>\n",
       "      <td>1200.320000</td>\n",
       "    </tr>\n",
       "    <tr>\n",
       "      <th>max</th>\n",
       "      <td>69.000000</td>\n",
       "      <td>5.000000</td>\n",
       "      <td>5250.000000</td>\n",
       "    </tr>\n",
       "  </tbody>\n",
       "</table>\n",
       "</div>"
      ],
      "text/plain": [
       "                age      quantity         price\n",
       "count  99457.000000  99457.000000  99457.000000\n",
       "mean      43.427089      3.003429    689.256321\n",
       "std       14.990054      1.413025    941.184567\n",
       "min       18.000000      1.000000      5.230000\n",
       "25%       30.000000      2.000000     45.450000\n",
       "50%       43.000000      3.000000    203.300000\n",
       "75%       56.000000      4.000000   1200.320000\n",
       "max       69.000000      5.000000   5250.000000"
      ]
     },
     "execution_count": 144,
     "metadata": {},
     "output_type": "execute_result"
    }
   ],
   "source": [
    "customer.describe()"
   ]
  },
  {
   "cell_type": "code",
   "execution_count": 146,
   "id": "f573ae28-80a2-439b-be0c-ce7d6329611f",
   "metadata": {},
   "outputs": [],
   "source": [
    "# EXPLAINING THE MEAN MIN MAXIMUM AND MEDIAN ON THE BASIS OF QUANTITY "
   ]
  },
  {
   "cell_type": "code",
   "execution_count": 148,
   "id": "ca86e2d8-ce23-4e1a-ac66-1e45a92337dd",
   "metadata": {},
   "outputs": [
    {
     "data": {
      "text/html": [
       "<div>\n",
       "<style scoped>\n",
       "    .dataframe tbody tr th:only-of-type {\n",
       "        vertical-align: middle;\n",
       "    }\n",
       "\n",
       "    .dataframe tbody tr th {\n",
       "        vertical-align: top;\n",
       "    }\n",
       "\n",
       "    .dataframe thead th {\n",
       "        text-align: right;\n",
       "    }\n",
       "</style>\n",
       "<table border=\"1\" class=\"dataframe\">\n",
       "  <thead>\n",
       "    <tr style=\"text-align: right;\">\n",
       "      <th></th>\n",
       "      <th>mean</th>\n",
       "      <th>min</th>\n",
       "      <th>max</th>\n",
       "      <th>median</th>\n",
       "    </tr>\n",
       "    <tr>\n",
       "      <th>quantity</th>\n",
       "      <th></th>\n",
       "      <th></th>\n",
       "      <th></th>\n",
       "      <th></th>\n",
       "    </tr>\n",
       "  </thead>\n",
       "  <tbody>\n",
       "    <tr>\n",
       "      <th>1</th>\n",
       "      <td>1.0</td>\n",
       "      <td>1</td>\n",
       "      <td>1</td>\n",
       "      <td>1.0</td>\n",
       "    </tr>\n",
       "    <tr>\n",
       "      <th>2</th>\n",
       "      <td>2.0</td>\n",
       "      <td>2</td>\n",
       "      <td>2</td>\n",
       "      <td>2.0</td>\n",
       "    </tr>\n",
       "    <tr>\n",
       "      <th>3</th>\n",
       "      <td>3.0</td>\n",
       "      <td>3</td>\n",
       "      <td>3</td>\n",
       "      <td>3.0</td>\n",
       "    </tr>\n",
       "    <tr>\n",
       "      <th>4</th>\n",
       "      <td>4.0</td>\n",
       "      <td>4</td>\n",
       "      <td>4</td>\n",
       "      <td>4.0</td>\n",
       "    </tr>\n",
       "    <tr>\n",
       "      <th>5</th>\n",
       "      <td>5.0</td>\n",
       "      <td>5</td>\n",
       "      <td>5</td>\n",
       "      <td>5.0</td>\n",
       "    </tr>\n",
       "  </tbody>\n",
       "</table>\n",
       "</div>"
      ],
      "text/plain": [
       "          mean  min  max  median\n",
       "quantity                        \n",
       "1          1.0    1    1     1.0\n",
       "2          2.0    2    2     2.0\n",
       "3          3.0    3    3     3.0\n",
       "4          4.0    4    4     4.0\n",
       "5          5.0    5    5     5.0"
      ]
     },
     "execution_count": 148,
     "metadata": {},
     "output_type": "execute_result"
    }
   ],
   "source": [
    "customer.groupby('quantity').quantity.agg([\"mean\", \"min\", \"max\", \"median\"])"
   ]
  },
  {
   "cell_type": "code",
   "execution_count": 150,
   "id": "bd44b1ce-807f-45d1-bf09-e64aebf7fe45",
   "metadata": {},
   "outputs": [],
   "source": [
    "#ANALYSING IS THERE ANY NULL VALUE IN DATA SET"
   ]
  },
  {
   "cell_type": "code",
   "execution_count": 152,
   "id": "c8ba3c0d-64a0-4df9-97b7-d51b3aee5f31",
   "metadata": {},
   "outputs": [
    {
     "data": {
      "text/plain": [
       "False"
      ]
     },
     "execution_count": 152,
     "metadata": {},
     "output_type": "execute_result"
    }
   ],
   "source": [
    "customer.isnull().any().any()"
   ]
  },
  {
   "cell_type": "code",
   "execution_count": 154,
   "id": "b2a943ab-3c9c-4c8e-b5ef-67c5dcd6d142",
   "metadata": {},
   "outputs": [],
   "source": [
    "#AFTER THAT CHEKING COLUMN PRESENT IN DATA SET"
   ]
  },
  {
   "cell_type": "code",
   "execution_count": 156,
   "id": "aa3dcb77-89fb-4484-819c-f9363fab1f45",
   "metadata": {},
   "outputs": [
    {
     "data": {
      "text/plain": [
       "Index(['customer_id', 'gender', 'age', 'category', 'quantity', 'price',\n",
       "       'invoice_date'],\n",
       "      dtype='object')"
      ]
     },
     "execution_count": 156,
     "metadata": {},
     "output_type": "execute_result"
    }
   ],
   "source": [
    "customer.columns"
   ]
  },
  {
   "cell_type": "code",
   "execution_count": 158,
   "id": "bfb226fe-5408-434e-9f4e-4d167c1ee2a3",
   "metadata": {},
   "outputs": [],
   "source": [
    "#BREAKING THE DATE IN DIFFERENT MONTH AND YEAR FOR THE PURPOSE OF UNDERS"
   ]
  },
  {
   "cell_type": "code",
   "execution_count": 160,
   "id": "0891bbfc-8147-410e-b956-4d1ccafb330c",
   "metadata": {},
   "outputs": [],
   "source": [
    "customer['invoice_date'] = pd.to_datetime(customer['invoice_date'], format='%d/%m/%Y')"
   ]
  },
  {
   "cell_type": "code",
   "execution_count": 162,
   "id": "d1dfbbd7-3944-4847-8b83-86c17f15fff1",
   "metadata": {},
   "outputs": [],
   "source": [
    "customer['year'] = customer['invoice_date'].dt.year\n",
    "customer['month'] = customer['invoice_date'].dt.month"
   ]
  },
  {
   "cell_type": "code",
   "execution_count": 164,
   "id": "79d15637-8b25-4efe-b93b-b5aaf0669d4e",
   "metadata": {},
   "outputs": [],
   "source": [
    "# ANALYSIS ON THE BASIS OF DISTRIBUTION BY QUANTITY"
   ]
  },
  {
   "cell_type": "code",
   "execution_count": 166,
   "id": "39b906fe-3e96-43bb-8513-83d306d39262",
   "metadata": {},
   "outputs": [
    {
     "data": {
      "text/html": [
       "<div>\n",
       "<style scoped>\n",
       "    .dataframe tbody tr th:only-of-type {\n",
       "        vertical-align: middle;\n",
       "    }\n",
       "\n",
       "    .dataframe tbody tr th {\n",
       "        vertical-align: top;\n",
       "    }\n",
       "\n",
       "    .dataframe thead th {\n",
       "        text-align: right;\n",
       "    }\n",
       "</style>\n",
       "<table border=\"1\" class=\"dataframe\">\n",
       "  <thead>\n",
       "    <tr style=\"text-align: right;\">\n",
       "      <th></th>\n",
       "      <th>customer_id</th>\n",
       "      <th>gender</th>\n",
       "      <th>age</th>\n",
       "      <th>category</th>\n",
       "      <th>quantity</th>\n",
       "      <th>price</th>\n",
       "      <th>invoice_date</th>\n",
       "      <th>year</th>\n",
       "      <th>month</th>\n",
       "    </tr>\n",
       "  </thead>\n",
       "  <tbody>\n",
       "    <tr>\n",
       "      <th>0</th>\n",
       "      <td>C241288</td>\n",
       "      <td>Female</td>\n",
       "      <td>28</td>\n",
       "      <td>Clothing</td>\n",
       "      <td>5</td>\n",
       "      <td>1500.40</td>\n",
       "      <td>2022-08-05</td>\n",
       "      <td>2022</td>\n",
       "      <td>8</td>\n",
       "    </tr>\n",
       "    <tr>\n",
       "      <th>1</th>\n",
       "      <td>C111565</td>\n",
       "      <td>Male</td>\n",
       "      <td>21</td>\n",
       "      <td>Shoes</td>\n",
       "      <td>3</td>\n",
       "      <td>1800.51</td>\n",
       "      <td>2021-12-12</td>\n",
       "      <td>2021</td>\n",
       "      <td>12</td>\n",
       "    </tr>\n",
       "    <tr>\n",
       "      <th>2</th>\n",
       "      <td>C266599</td>\n",
       "      <td>Male</td>\n",
       "      <td>20</td>\n",
       "      <td>Clothing</td>\n",
       "      <td>1</td>\n",
       "      <td>300.08</td>\n",
       "      <td>2021-11-09</td>\n",
       "      <td>2021</td>\n",
       "      <td>11</td>\n",
       "    </tr>\n",
       "    <tr>\n",
       "      <th>3</th>\n",
       "      <td>C988172</td>\n",
       "      <td>Female</td>\n",
       "      <td>66</td>\n",
       "      <td>Shoes</td>\n",
       "      <td>5</td>\n",
       "      <td>3000.85</td>\n",
       "      <td>2021-05-16</td>\n",
       "      <td>2021</td>\n",
       "      <td>5</td>\n",
       "    </tr>\n",
       "    <tr>\n",
       "      <th>4</th>\n",
       "      <td>C189076</td>\n",
       "      <td>Female</td>\n",
       "      <td>53</td>\n",
       "      <td>Books</td>\n",
       "      <td>4</td>\n",
       "      <td>60.60</td>\n",
       "      <td>2021-10-24</td>\n",
       "      <td>2021</td>\n",
       "      <td>10</td>\n",
       "    </tr>\n",
       "  </tbody>\n",
       "</table>\n",
       "</div>"
      ],
      "text/plain": [
       "  customer_id  gender  age  category  quantity    price invoice_date  year  \\\n",
       "0     C241288  Female   28  Clothing         5  1500.40   2022-08-05  2022   \n",
       "1     C111565    Male   21     Shoes         3  1800.51   2021-12-12  2021   \n",
       "2     C266599    Male   20  Clothing         1   300.08   2021-11-09  2021   \n",
       "3     C988172  Female   66     Shoes         5  3000.85   2021-05-16  2021   \n",
       "4     C189076  Female   53     Books         4    60.60   2021-10-24  2021   \n",
       "\n",
       "   month  \n",
       "0      8  \n",
       "1     12  \n",
       "2     11  \n",
       "3      5  \n",
       "4     10  "
      ]
     },
     "execution_count": 166,
     "metadata": {},
     "output_type": "execute_result"
    }
   ],
   "source": [
    "customer.head()"
   ]
  },
  {
   "cell_type": "code",
   "execution_count": 168,
   "id": "c7f543ca-1eef-4fdb-9570-f450d92aa1ff",
   "metadata": {},
   "outputs": [],
   "source": [
    "#  \n",
    "# ANALYSIS ON THE BASIS of CUSTOMER AGE ACORDING TO GENDER BASED "
   ]
  },
  {
   "cell_type": "code",
   "execution_count": 170,
   "id": "fbd0d20d-69e4-43c4-a21f-cc80a30d8bb5",
   "metadata": {},
   "outputs": [
    {
     "data": {
      "image/png": "[encoded data removed]",
      "text/plain": [
       "<Figure size 640x480 with 1 Axes>"
      ]
     },
     "metadata": {},
     "output_type": "display_data"
    }
   ],
   "source": [
    "customer['category'].value_counts().plot(kind='bar', title=\"Distribution of Category by quantity\")\n",
    "plt.xlabel('Category', fontsize=14, color='red')\n",
    "plt.ylabel('Quantity of category', fontsize=12, fontweight='bold')\n",
    "plt.xticks(rotation=60)\n",
    "plt.show()"
   ]
  },
  {
   "cell_type": "code",
   "execution_count": 172,
   "id": "49a91a76-464c-41a8-b0d0-9647999afca5",
   "metadata": {},
   "outputs": [],
   "source": [
    "#Analyzing the Stacked Bar Chart: Product Quantity Distribution"
   ]
  },
  {
   "cell_type": "code",
   "execution_count": 174,
   "id": "b1190e28-0d6f-4931-a9d2-cba52898cfc2",
   "metadata": {
    "scrolled": true
   },
   "outputs": [
    {
     "data": {
      "image/png": "[encoded data removed]",
      "text/plain": [
       "<Figure size 1000x500 with 1 Axes>"
      ]
     },
     "metadata": {},
     "output_type": "display_data"
    }
   ],
   "source": [
    "testChart = customer.groupby(['category','quantity']).size().unstack().plot(kind='bar', stacked=True, figsize=(10, 5), title=\"NNUMBER OF PEOPLE PURCHASING # QUANTITY\")\n",
    "plt.xlabel('Category', fontsize=14, color='red')\n",
    "plt.xlabel('', fontsize=14, color='red')\n",
    "\n",
    "for rect in testChart.patches:\n",
    "    # Find where everything is located\n",
    "    height = rect.get_height()\n",
    "    width = rect.get_width()\n",
    "    x = rect.get_x()\n",
    "    y = rect.get_y()\n",
    "    \n",
    "    label_text = height\n",
    "    \n",
    "    # ax.text(x, y, text)\n",
    "    label_x = x + width / 2\n",
    "    label_y = y + height / 2\n",
    "    testChart.text(label_x, label_y, label_text, ha='center', va='center')\n",
    "plt.show()"
   ]
  },
  {
   "cell_type": "code",
   "execution_count": 176,
   "id": "46539761-0dac-469b-88b9-28ba2c553ce2",
   "metadata": {},
   "outputs": [],
   "source": [
    "# ANALYSIS OF OUTLIER ON  THE QUANTITY BASIS OF BOX PLOT"
   ]
  },
  {
   "cell_type": "code",
   "execution_count": 178,
   "id": "1971b02d-ef8d-4e51-b058-0bf9dff67a9a",
   "metadata": {},
   "outputs": [
    {
     "data": {
      "image/png": "[encoded data removed]",
      "text/plain": [
       "<Figure size 640x480 with 1 Axes>"
      ]
     },
     "metadata": {},
     "output_type": "display_data"
    }
   ],
   "source": [
    "customer.quantity.plot(kind='box',grid='True')\n",
    "plt.show()"
   ]
  },
  {
   "cell_type": "code",
   "execution_count": 180,
   "id": "7b1b3976-65bc-41d4-9b43-bf1c36bee1fc",
   "metadata": {},
   "outputs": [],
   "source": [
    "# ANALYSIS OF OUTLIER ON AGE  THE BASIS OF BOX PLOT"
   ]
  },
  {
   "cell_type": "code",
   "execution_count": 182,
   "id": "ae2e2cd1-48e5-4874-bd32-144442123764",
   "metadata": {},
   "outputs": [
    {
     "data": {
      "image/png": "[encoded data removed]",
      "text/plain": [
       "<Figure size 640x480 with 1 Axes>"
      ]
     },
     "metadata": {},
     "output_type": "display_data"
    }
   ],
   "source": [
    "customer.age.plot(kind='box', grid='True')\n",
    "plt.show()"
   ]
  },
  {
   "cell_type": "code",
   "execution_count": 184,
   "id": "66f8dda7-7247-4528-80e8-c0b5f49991b2",
   "metadata": {},
   "outputs": [
    {
     "data": {
      "image/png": "[encoded data removed]",
      "text/plain": [
       "<Figure size 640x480 with 1 Axes>"
      ]
     },
     "metadata": {},
     "output_type": "display_data"
    }
   ],
   "source": [
    "customer.price.plot(kind='box', grid='True')\n",
    "plt.show()"
   ]
  },
  {
   "cell_type": "code",
   "execution_count": 186,
   "id": "79e385cc-f477-4cab-b204-d7957f21c18d",
   "metadata": {},
   "outputs": [],
   "source": [
    "#ANALYSIS OF DIFFERENT CORRELATION BETWEEN DIFFERENT OBSERVER"
   ]
  },
  {
   "cell_type": "code",
   "execution_count": 188,
   "id": "c1d641c4-f8c8-4e4c-a309-f6311410d6bf",
   "metadata": {},
   "outputs": [
    {
     "data": {
      "image/png": "[encoded data removed]",
      "text/plain": [
       "<Figure size 640x480 with 2 Axes>"
      ]
     },
     "metadata": {},
     "output_type": "display_data"
    }
   ],
   "source": [
    "corr = customer.corr(numeric_only = True)\n",
    "sns.heatmap(corr)\n",
    "plt.show()"
   ]
  },
  {
   "cell_type": "code",
   "execution_count": 190,
   "id": "fbe866f3-2350-4c63-981a-2f9b9fd6d384",
   "metadata": {},
   "outputs": [
    {
     "data": {
      "text/html": [
       "<div>\n",
       "<style scoped>\n",
       "    .dataframe tbody tr th:only-of-type {\n",
       "        vertical-align: middle;\n",
       "    }\n",
       "\n",
       "    .dataframe tbody tr th {\n",
       "        vertical-align: top;\n",
       "    }\n",
       "\n",
       "    .dataframe thead th {\n",
       "        text-align: right;\n",
       "    }\n",
       "</style>\n",
       "<table border=\"1\" class=\"dataframe\">\n",
       "  <thead>\n",
       "    <tr style=\"text-align: right;\">\n",
       "      <th></th>\n",
       "      <th>customer_id</th>\n",
       "      <th>gender</th>\n",
       "      <th>age</th>\n",
       "      <th>category</th>\n",
       "      <th>quantity</th>\n",
       "      <th>price</th>\n",
       "      <th>invoice_date</th>\n",
       "      <th>year</th>\n",
       "      <th>month</th>\n",
       "    </tr>\n",
       "  </thead>\n",
       "  <tbody>\n",
       "    <tr>\n",
       "      <th>0</th>\n",
       "      <td>C241288</td>\n",
       "      <td>Female</td>\n",
       "      <td>28</td>\n",
       "      <td>Clothing</td>\n",
       "      <td>5</td>\n",
       "      <td>1500.40</td>\n",
       "      <td>2022-08-05</td>\n",
       "      <td>2022</td>\n",
       "      <td>8</td>\n",
       "    </tr>\n",
       "    <tr>\n",
       "      <th>1</th>\n",
       "      <td>C111565</td>\n",
       "      <td>Male</td>\n",
       "      <td>21</td>\n",
       "      <td>Shoes</td>\n",
       "      <td>3</td>\n",
       "      <td>1800.51</td>\n",
       "      <td>2021-12-12</td>\n",
       "      <td>2021</td>\n",
       "      <td>12</td>\n",
       "    </tr>\n",
       "    <tr>\n",
       "      <th>2</th>\n",
       "      <td>C266599</td>\n",
       "      <td>Male</td>\n",
       "      <td>20</td>\n",
       "      <td>Clothing</td>\n",
       "      <td>1</td>\n",
       "      <td>300.08</td>\n",
       "      <td>2021-11-09</td>\n",
       "      <td>2021</td>\n",
       "      <td>11</td>\n",
       "    </tr>\n",
       "    <tr>\n",
       "      <th>3</th>\n",
       "      <td>C988172</td>\n",
       "      <td>Female</td>\n",
       "      <td>66</td>\n",
       "      <td>Shoes</td>\n",
       "      <td>5</td>\n",
       "      <td>3000.85</td>\n",
       "      <td>2021-05-16</td>\n",
       "      <td>2021</td>\n",
       "      <td>5</td>\n",
       "    </tr>\n",
       "    <tr>\n",
       "      <th>4</th>\n",
       "      <td>C189076</td>\n",
       "      <td>Female</td>\n",
       "      <td>53</td>\n",
       "      <td>Books</td>\n",
       "      <td>4</td>\n",
       "      <td>60.60</td>\n",
       "      <td>2021-10-24</td>\n",
       "      <td>2021</td>\n",
       "      <td>10</td>\n",
       "    </tr>\n",
       "  </tbody>\n",
       "</table>\n",
       "</div>"
      ],
      "text/plain": [
       "  customer_id  gender  age  category  quantity    price invoice_date  year  \\\n",
       "0     C241288  Female   28  Clothing         5  1500.40   2022-08-05  2022   \n",
       "1     C111565    Male   21     Shoes         3  1800.51   2021-12-12  2021   \n",
       "2     C266599    Male   20  Clothing         1   300.08   2021-11-09  2021   \n",
       "3     C988172  Female   66     Shoes         5  3000.85   2021-05-16  2021   \n",
       "4     C189076  Female   53     Books         4    60.60   2021-10-24  2021   \n",
       "\n",
       "   month  \n",
       "0      8  \n",
       "1     12  \n",
       "2     11  \n",
       "3      5  \n",
       "4     10  "
      ]
     },
     "execution_count": 190,
     "metadata": {},
     "output_type": "execute_result"
    }
   ],
   "source": [
    "customer.head()"
   ]
  },
  {
   "cell_type": "code",
   "execution_count": 192,
   "id": "41903e41-8a9f-4706-b692-f0550939f191",
   "metadata": {},
   "outputs": [
    {
     "data": {
      "text/html": [
       "<div>\n",
       "<style scoped>\n",
       "    .dataframe tbody tr th:only-of-type {\n",
       "        vertical-align: middle;\n",
       "    }\n",
       "\n",
       "    .dataframe tbody tr th {\n",
       "        vertical-align: top;\n",
       "    }\n",
       "\n",
       "    .dataframe thead th {\n",
       "        text-align: right;\n",
       "    }\n",
       "</style>\n",
       "<table border=\"1\" class=\"dataframe\">\n",
       "  <thead>\n",
       "    <tr style=\"text-align: right;\">\n",
       "      <th></th>\n",
       "      <th>customer_id</th>\n",
       "      <th>gender</th>\n",
       "      <th>age</th>\n",
       "      <th>category</th>\n",
       "      <th>quantity</th>\n",
       "      <th>price</th>\n",
       "      <th>invoice_date</th>\n",
       "      <th>year</th>\n",
       "      <th>month</th>\n",
       "    </tr>\n",
       "  </thead>\n",
       "  <tbody>\n",
       "    <tr>\n",
       "      <th>0</th>\n",
       "      <td>C241288</td>\n",
       "      <td>Female</td>\n",
       "      <td>28</td>\n",
       "      <td>Clothing</td>\n",
       "      <td>5</td>\n",
       "      <td>1500.40</td>\n",
       "      <td>2022-08-05</td>\n",
       "      <td>2022</td>\n",
       "      <td>8</td>\n",
       "    </tr>\n",
       "    <tr>\n",
       "      <th>1</th>\n",
       "      <td>C111565</td>\n",
       "      <td>Male</td>\n",
       "      <td>21</td>\n",
       "      <td>Shoes</td>\n",
       "      <td>3</td>\n",
       "      <td>1800.51</td>\n",
       "      <td>2021-12-12</td>\n",
       "      <td>2021</td>\n",
       "      <td>12</td>\n",
       "    </tr>\n",
       "    <tr>\n",
       "      <th>2</th>\n",
       "      <td>C266599</td>\n",
       "      <td>Male</td>\n",
       "      <td>20</td>\n",
       "      <td>Clothing</td>\n",
       "      <td>1</td>\n",
       "      <td>300.08</td>\n",
       "      <td>2021-11-09</td>\n",
       "      <td>2021</td>\n",
       "      <td>11</td>\n",
       "    </tr>\n",
       "    <tr>\n",
       "      <th>3</th>\n",
       "      <td>C988172</td>\n",
       "      <td>Female</td>\n",
       "      <td>66</td>\n",
       "      <td>Shoes</td>\n",
       "      <td>5</td>\n",
       "      <td>3000.85</td>\n",
       "      <td>2021-05-16</td>\n",
       "      <td>2021</td>\n",
       "      <td>5</td>\n",
       "    </tr>\n",
       "    <tr>\n",
       "      <th>4</th>\n",
       "      <td>C189076</td>\n",
       "      <td>Female</td>\n",
       "      <td>53</td>\n",
       "      <td>Books</td>\n",
       "      <td>4</td>\n",
       "      <td>60.60</td>\n",
       "      <td>2021-10-24</td>\n",
       "      <td>2021</td>\n",
       "      <td>10</td>\n",
       "    </tr>\n",
       "    <tr>\n",
       "      <th>...</th>\n",
       "      <td>...</td>\n",
       "      <td>...</td>\n",
       "      <td>...</td>\n",
       "      <td>...</td>\n",
       "      <td>...</td>\n",
       "      <td>...</td>\n",
       "      <td>...</td>\n",
       "      <td>...</td>\n",
       "      <td>...</td>\n",
       "    </tr>\n",
       "    <tr>\n",
       "      <th>99452</th>\n",
       "      <td>C441542</td>\n",
       "      <td>Female</td>\n",
       "      <td>45</td>\n",
       "      <td>Souvenir</td>\n",
       "      <td>5</td>\n",
       "      <td>58.65</td>\n",
       "      <td>2022-09-21</td>\n",
       "      <td>2022</td>\n",
       "      <td>9</td>\n",
       "    </tr>\n",
       "    <tr>\n",
       "      <th>99453</th>\n",
       "      <td>C569580</td>\n",
       "      <td>Male</td>\n",
       "      <td>27</td>\n",
       "      <td>Food &amp; Beverage</td>\n",
       "      <td>2</td>\n",
       "      <td>10.46</td>\n",
       "      <td>2021-09-22</td>\n",
       "      <td>2021</td>\n",
       "      <td>9</td>\n",
       "    </tr>\n",
       "    <tr>\n",
       "      <th>99454</th>\n",
       "      <td>C103292</td>\n",
       "      <td>Male</td>\n",
       "      <td>63</td>\n",
       "      <td>Food &amp; Beverage</td>\n",
       "      <td>2</td>\n",
       "      <td>10.46</td>\n",
       "      <td>2021-03-28</td>\n",
       "      <td>2021</td>\n",
       "      <td>3</td>\n",
       "    </tr>\n",
       "    <tr>\n",
       "      <th>99455</th>\n",
       "      <td>C800631</td>\n",
       "      <td>Male</td>\n",
       "      <td>56</td>\n",
       "      <td>Technology</td>\n",
       "      <td>4</td>\n",
       "      <td>4200.00</td>\n",
       "      <td>2021-03-16</td>\n",
       "      <td>2021</td>\n",
       "      <td>3</td>\n",
       "    </tr>\n",
       "    <tr>\n",
       "      <th>99456</th>\n",
       "      <td>C273973</td>\n",
       "      <td>Female</td>\n",
       "      <td>36</td>\n",
       "      <td>Souvenir</td>\n",
       "      <td>3</td>\n",
       "      <td>35.19</td>\n",
       "      <td>2022-10-15</td>\n",
       "      <td>2022</td>\n",
       "      <td>10</td>\n",
       "    </tr>\n",
       "  </tbody>\n",
       "</table>\n",
       "<p>99457 rows × 9 columns</p>\n",
       "</div>"
      ],
      "text/plain": [
       "      customer_id  gender  age         category  quantity    price  \\\n",
       "0         C241288  Female   28         Clothing         5  1500.40   \n",
       "1         C111565    Male   21            Shoes         3  1800.51   \n",
       "2         C266599    Male   20         Clothing         1   300.08   \n",
       "3         C988172  Female   66            Shoes         5  3000.85   \n",
       "4         C189076  Female   53            Books         4    60.60   \n",
       "...           ...     ...  ...              ...       ...      ...   \n",
       "99452     C441542  Female   45         Souvenir         5    58.65   \n",
       "99453     C569580    Male   27  Food & Beverage         2    10.46   \n",
       "99454     C103292    Male   63  Food & Beverage         2    10.46   \n",
       "99455     C800631    Male   56       Technology         4  4200.00   \n",
       "99456     C273973  Female   36         Souvenir         3    35.19   \n",
       "\n",
       "      invoice_date  year  month  \n",
       "0       2022-08-05  2022      8  \n",
       "1       2021-12-12  2021     12  \n",
       "2       2021-11-09  2021     11  \n",
       "3       2021-05-16  2021      5  \n",
       "4       2021-10-24  2021     10  \n",
       "...            ...   ...    ...  \n",
       "99452   2022-09-21  2022      9  \n",
       "99453   2021-09-22  2021      9  \n",
       "99454   2021-03-28  2021      3  \n",
       "99455   2021-03-16  2021      3  \n",
       "99456   2022-10-15  2022     10  \n",
       "\n",
       "[99457 rows x 9 columns]"
      ]
     },
     "execution_count": 192,
     "metadata": {},
     "output_type": "execute_result"
    }
   ],
   "source": [
    "customer"
   ]
  },
  {
   "cell_type": "code",
   "execution_count": 194,
   "id": "02590f09-bb72-4ff3-922a-3fff8ff45aa5",
   "metadata": {},
   "outputs": [],
   "source": [
    "# DIVIDING DATA SET IN TWO PARTS TARINING AND TESTING"
   ]
  },
  {
   "cell_type": "code",
   "execution_count": 196,
   "id": "32f147af-b0cf-409a-9d1d-151149d69614",
   "metadata": {},
   "outputs": [],
   "source": [
    "X = customer[['age','quantity','price']]\n",
    "y = customer['category']"
   ]
  },
  {
   "cell_type": "code",
   "execution_count": 204,
   "id": "7d5af300-f3d4-4eab-ac8a-678e3efde003",
   "metadata": {},
   "outputs": [],
   "source": [
    "from sklearn import model_selection\n",
    "X_train, X_test, Y_train, Y_test = model_selection.train_test_split(X, y, test_size = 0.3)"
   ]
  },
  {
   "cell_type": "code",
   "execution_count": 206,
   "id": "29d101a6-333d-44b4-a32f-da4d04da4786",
   "metadata": {},
   "outputs": [
    {
     "name": "stdout",
     "output_type": "stream",
     "text": [
      "       age  quantity    price\n",
      "6961    57         2   600.16\n",
      "4755    52         1   300.08\n",
      "78317   29         5   179.20\n",
      "17      42         3    15.69\n",
      "79431   20         1    40.66\n",
      "...    ...       ...      ...\n",
      "39571   47         5    75.75\n",
      "28783   58         1    40.66\n",
      "76901   18         5  1500.40\n",
      "5340    27         3    15.69\n",
      "12419   32         3  3150.00\n",
      "\n",
      "[69619 rows x 3 columns]\n",
      "6961            Clothing\n",
      "4755            Clothing\n",
      "78317               Toys\n",
      "17       Food & Beverage\n",
      "79431          Cosmetics\n",
      "              ...       \n",
      "39571              Books\n",
      "28783          Cosmetics\n",
      "76901           Clothing\n",
      "5340     Food & Beverage\n",
      "12419         Technology\n",
      "Name: category, Length: 69619, dtype: object\n"
     ]
    }
   ],
   "source": [
    "# X_train, X_test, Y_train, Y_test\n",
    "print(X_train)\n",
    "#print(X_test)\n",
    "print(Y_train)\n",
    "#print(Y_test)"
   ]
  },
  {
   "cell_type": "code",
   "execution_count": 208,
   "id": "8633a10b-d649-4c08-bca0-947cb27d6a3a",
   "metadata": {},
   "outputs": [],
   "source": [
    "# PERFORMING SUPERVISED-- DECISION TRE MODEL (ALGRITHM) ON CLASSICAL DATA FOR UNDERSTAND THE RELATION OF CATEGORY ON AGE QUANTITY PRICE"
   ]
  },
  {
   "cell_type": "code",
   "execution_count": 210,
   "id": "ad2b5c09-b492-4f5c-9192-a9f7ecbb12d1",
   "metadata": {},
   "outputs": [
    {
     "name": "stdout",
     "output_type": "stream",
     "text": [
      "Decision Tree\n",
      "DecisionTreeClassifier()\n",
      "                 precision    recall  f1-score   support\n",
      "\n",
      "          Books       1.00      1.00      1.00      1523\n",
      "       Clothing       1.00      1.00      1.00     10411\n",
      "      Cosmetics       1.00      1.00      1.00      4532\n",
      "Food & Beverage       1.00      1.00      1.00      4418\n",
      "          Shoes       1.00      1.00      1.00      3006\n",
      "       Souvenir       1.00      1.00      1.00      1430\n",
      "     Technology       1.00      1.00      1.00      1545\n",
      "           Toys       1.00      1.00      1.00      2973\n",
      "\n",
      "       accuracy                           1.00     29838\n",
      "      macro avg       1.00      1.00      1.00     29838\n",
      "   weighted avg       1.00      1.00      1.00     29838\n",
      "\n",
      "[[ 1523     0     0     0     0     0     0     0]\n",
      " [    0 10411     0     0     0     0     0     0]\n",
      " [    0     0  4532     0     0     0     0     0]\n",
      " [    0     0     0  4418     0     0     0     0]\n",
      " [    0     0     0     0  3006     0     0     0]\n",
      " [    0     0     0     0     0  1430     0     0]\n",
      " [    0     0     0     0     0     0  1545     0]\n",
      " [    0     0     0     0     0     0     0  2973]]\n"
     ]
    }
   ],
   "source": [
    "print(\"Decision Tree\")\n",
    "from sklearn.tree import DecisionTreeClassifier\n",
    "model = DecisionTreeClassifier()\n",
    "#model = DecisionTreeClassifier(criterion='entropy')\n",
    "model.fit(X_train, Y_train)\n",
    "print(model)\n",
    "predicted = model.predict(X_test)\n",
    "print(metrics.classification_report(Y_test, predicted))\n",
    "print(metrics.confusion_matrix(Y_test, predicted))"
   ]
  },
  {
   "cell_type": "code",
   "execution_count": 211,
   "id": "47d505f3-242f-46c8-9596-611f44b1913f",
   "metadata": {},
   "outputs": [],
   "source": [
    "#  CHEKING THE TAINING DATA  "
   ]
  },
  {
   "cell_type": "code",
   "execution_count": 214,
   "id": "09ac012c-99c5-4880-b440-ff5a46286f16",
   "metadata": {},
   "outputs": [
    {
     "name": "stdout",
     "output_type": "stream",
     "text": [
      "['Shoes' 'Clothing']\n"
     ]
    },
    {
     "name": "stderr",
     "output_type": "stream",
     "text": [
      "C:\\Users\\User\\anaconda3\\Lib\\site-packages\\sklearn\\base.py:493: UserWarning: X does not have valid feature names, but DecisionTreeClassifier was fitted with feature names\n",
      "  warnings.warn(\n"
     ]
    }
   ],
   "source": [
    "newCases = [[28,1,1400],[18,5,1400]]\n",
    "predictedNewCases = model.predict(newCases)\n",
    "print(predictedNewCases)"
   ]
  },
  {
   "cell_type": "code",
   "execution_count": 216,
   "id": "85ffe925-145c-4e0f-bd73-dedb4c48fefe",
   "metadata": {},
   "outputs": [],
   "source": [
    "#TESTING  THE MODEL ON THE BASIS OF NEW CASES"
   ]
  },
  {
   "cell_type": "code",
   "execution_count": 221,
   "id": "2a879190-b6d9-45bd-80da-312db9facc2b",
   "metadata": {
    "scrolled": true
   },
   "outputs": [
    {
     "name": "stdout",
     "output_type": "stream",
     "text": [
      "              precision    recall  f1-score   support\n",
      "\n",
      "    Clothing       1.00      1.00      1.00         1\n",
      "       Shoes       1.00      1.00      1.00         1\n",
      "\n",
      "    accuracy                           1.00         2\n",
      "   macro avg       1.00      1.00      1.00         2\n",
      "weighted avg       1.00      1.00      1.00         2\n",
      "\n",
      "[[1 0]\n",
      " [0 1]]\n"
     ]
    },
    {
     "name": "stderr",
     "output_type": "stream",
     "text": [
      "C:\\Users\\User\\anaconda3\\Lib\\site-packages\\sklearn\\base.py:493: UserWarning: X does not have valid feature names, but DecisionTreeClassifier was fitted with feature names\n",
      "  warnings.warn(\n"
     ]
    }
   ],
   "source": [
    "newCases = [[29,1,1400],[12,5,1400]]\n",
    "Y_newCases =['Shoes' ,'Clothing']\n",
    "predictedNewCases = model.predict(newCases)\n",
    "print(metrics.classification_report(Y_newCases, predictedNewCases))\n",
    "print(metrics.confusion_matrix(Y_newCases, predictedNewCases))"
   ]
  },
  {
   "cell_type": "code",
   "execution_count": null,
   "id": "f2f816c1-1dac-4c0d-8a07-30dd3e5d38bf",
   "metadata": {},
   "outputs": [],
   "source": []
  },
  {
   "cell_type": "code",
   "execution_count": null,
   "id": "9190b728-f5c7-4b20-afb6-e3f2aa2b237f",
   "metadata": {},
   "outputs": [],
   "source": []
  }
 ],
 "metadata": {
  "kernelspec": {
   "display_name": "Python 3 (ipykernel)",
   "language": "python",
   "name": "python3"
  },
  "language_info": {
   "codemirror_mode": {
    "name": "ipython",
    "version": 3
   },
   "file_extension": ".py",
   "mimetype": "text/x-python",
   "name": "python",
   "nbconvert_exporter": "python",
   "pygments_lexer": "ipython3",
   "version": "3.12.7"
  }
 },
 "nbformat": 4,
 "nbformat_minor": 5
}

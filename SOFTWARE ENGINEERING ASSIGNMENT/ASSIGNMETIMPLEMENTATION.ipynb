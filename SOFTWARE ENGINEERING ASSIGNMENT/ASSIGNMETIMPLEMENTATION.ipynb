{
 "cells": [
  {
   "cell_type": "code",
   "execution_count": 1,
   "id": "e58b3065-016e-4fb8-b600-a25f220a9cf0",
   "metadata": {},
   "outputs": [],
   "source": [
    "# Implimentation  HILL CLIMBING ALGORITHM FOR small-faultmatrix ...\n",
    "\n",
    "# Uploading newsmallfaultmatrix.txt\n",
    "\n"
   ]
  },
  {
   "cell_type": "code",
   "execution_count": 2,
   "id": "dabba92f-c754-47ea-9317-d145c3051ebf",
   "metadata": {},
   "outputs": [],
   "source": [
    "import numpy as np\n",
    "import random\n",
    "fault_matrix = np.loadtxt('newsmallfaultmatrix.txt', delimiter=',')\n",
    "def calculate_fitness(solution, fault_matrix):\n",
    "    num_tests, num_faults = fault_matrix.shape\n",
    "    coverage = np.zeros(num_faults)\n",
    "\n",
    "    for index in solution:\n",
    "        coverage += fault_matrix[index]"
   ]
  },
  {
   "cell_type": "code",
   "execution_count": 3,
   "id": "7d313299-f326-4244-8900-28eb928c4d78",
   "metadata": {},
   "outputs": [],
   "source": [
    "# Calculating hill climbing fitness function\n",
    "\n"
   ]
  },
  {
   "cell_type": "code",
   "execution_count": 4,
   "id": "156a1e01-d4c1-410e-ab4c-6988baf8c3f7",
   "metadata": {},
   "outputs": [],
   "source": [
    "fault_matrix = np.loadtxt('newsmallfaultmatrix.txt', delimiter=',')\n",
    "def calculate_fitness(solution, fault_matrix):\n",
    "    num_tests, num_faults = fault_matrix.shape\n",
    "    coverage = np.zeros(num_faults)\n",
    "\n",
    "    for index in solution:\n",
    "        coverage += fault_matrix[index]\n",
    "    unique_faults_covered = np.sum(coverage > 0)\n",
    "\n",
    "    suite_length_penalty = len(solution) / num_tests\n",
    "\n",
    "    fitness = unique_faults_covered - suite_length_penalty\n",
    "\n",
    "    return fitness"
   ]
  },
  {
   "cell_type": "code",
   "execution_count": 5,
   "id": "030aace9-9cd4-4a72-bcd5-c92ed8f48ac3",
   "metadata": {},
   "outputs": [],
   "source": [
    "#Generataing  neighbour &\n",
    "# Implimentation of hill climbing \n",
    "\n"
   ]
  },
  {
   "cell_type": "code",
   "execution_count": 6,
   "id": "425ade79-c770-4979-a430-fea6837b2e4a",
   "metadata": {},
   "outputs": [
    {
     "name": "stdout",
     "output_type": "stream",
     "text": [
      "Best Solution: [28 72 65 25 34 39 16 61  9 26 59 15 52 89 81 13 27 35 17  2 62 86 29 67\n",
      " 54 47 64  7 44 56  3  1 49 78 77 33 41 68 87 38 85  5 30 48 37 46 21 74\n",
      " 43 11 18 55 70 20 80 66 24 32 45 69 19 42 75 51 22 79 83 53  4 60 76 58\n",
      " 73 40  8 63 10 88 36 50 31  0 57 84 82 12 23 14 71  6]\n",
      "Best Fitness: 9.0\n"
     ]
    }
   ],
   "source": [
    "def generate_neighbor(solution):\n",
    "    neighbor = solution.copy()\n",
    "    i, j = random.sample(range(len(solution)), 2)\n",
    "    neighbor[i], neighbor[j] = neighbor[j], neighbor[i]\n",
    "    return neighbor\n",
    "\n",
    "\n",
    "def hill_climbing(fault_matrix, max_iterations):\n",
    "    num_tests = len(fault_matrix)\n",
    "    current_solution = np.random.permutation(num_tests)\n",
    "    current_fitness = calculate_fitness(current_solution, fault_matrix)\n",
    "\n",
    "    for _ in range(max_iterations):\n",
    "        neighbor = generate_neighbor(current_solution)\n",
    "        neighbor_fitness = calculate_fitness(neighbor, fault_matrix)\n",
    "\n",
    "        if neighbor_fitness > current_fitness:\n",
    "            current_solution = neighbor\n",
    "            current_fitness = neighbor_fitness\n",
    "\n",
    "    return current_solution, current_fitness\n",
    "max_iterations = 10\n",
    "best_solution, best_fitness = hill_climbing(fault_matrix, max_iterations)\n",
    "\n",
    "print(\"Best Solution:\", best_solution)\n",
    "print(\"Best Fitness:\", best_fitness)"
   ]
  },
  {
   "cell_type": "code",
   "execution_count": 7,
   "id": "b16b8632-a65d-427d-a328-f39db01ac6db",
   "metadata": {},
   "outputs": [],
   "source": [
    "# Implimentation  HILL CLIMBING ALGORITHM FOR BIG-faultmatrix ...\n",
    "\n",
    "# Uploading newBIGfaultmatrix.txt\n"
   ]
  },
  {
   "cell_type": "code",
   "execution_count": 8,
   "id": "7c4181aa-1fc3-4673-894e-f2dcf003fdf2",
   "metadata": {},
   "outputs": [],
   "source": [
    "fault_matrix = np.loadtxt('newbigfaultmatrix.txt', delimiter=',')\n",
    "def calculate_fitness(solution, fault_matrix):\n",
    "    num_tests, num_faults = fault_matrix.shape\n",
    "    coverage = np.zeros(num_faults)\n",
    "\n",
    "    for index in solution:\n",
    "        coverage += fault_matrix[index]\n",
    "    unique_faults_covered = np.sum(coverage > 2)\n",
    "    suite_length_penalty = len(solution) / num_tests\n",
    "    fitness = unique_faults_covered - suite_length_penalty\n",
    "\n",
    "    return fitness"
   ]
  },
  {
   "cell_type": "code",
   "execution_count": 9,
   "id": "8eb4bfd5-79fe-417a-891b-df02ab3121ad",
   "metadata": {},
   "outputs": [],
   "source": [
    "#Generataing  neighbour &\n",
    "# Implimentation of hill climbing \n"
   ]
  },
  {
   "cell_type": "code",
   "execution_count": 10,
   "id": "3f391486-593e-4965-bcb5-c98182f6322b",
   "metadata": {},
   "outputs": [
    {
     "name": "stdout",
     "output_type": "stream",
     "text": [
      "Best Solution: [197 304 303 358  43 302 330 147 355 332 231 308   7 294 221  34 156 119\n",
      " 189 339  94 334 204 315  17 123 267  38 269  56 198 133  52  87 292 229\n",
      " 268 224  42   6 246 354  13 215 372 160 340 253  91 243  29  71 190 344\n",
      "  60 126 348 238 107 275  78 220 318 166   3 125  47 132 305 255 142 219\n",
      " 257 100  89  72  67 178 114 279  76 194 307  14 251 139  33  48 341 233\n",
      " 337 248 171 283  79 164 195 144 199 237 296 368  28   8 320 301  12 322\n",
      " 277 170 278 158 367 108 227 377 210 370 274 128  58 179 234  24 185  57\n",
      " 342  59 202 226 155  85 222 260 297  84 363 230 270 120 374 361 285 287\n",
      " 240 351 104 225 349  88  53  18 212  69   4 112  21 288 203 314  93 353\n",
      " 281 105 276 347 265 356 324 262 127  10  54  64 323 140 350 217 338 131\n",
      " 343  83 282 172  27 200 117 266  75 191 258   0 213  25 148 357 256 359\n",
      " 331 113 235  32  74 165 298  68 205 376 175 327  61 109  95 201  86 168\n",
      " 146 295  50 360 309 209 149 181  35 106  41 245  92 145 122 143 162 110\n",
      "  81 242 161 286 329 293 153 321 378 129 180 136  49 336  45 300 284 335\n",
      " 218 345 207 101 241 102 196 247 138 373 254 290 111 375  26 328 289  20\n",
      " 252  99  97  55 135  30 223 326 116 369 317  98 259 310  65 186  36 313\n",
      " 214 115  82   1  63 263 316   2 236 182 159 167 366  70 232 228 364  40\n",
      " 103 174 163 272 211 325  22 280 333 273 299 261 124 208 291 141 137 183\n",
      " 352 121  51 193 187 192  31  37 176 239 130 371  62 188  77  11  39  23\n",
      " 365 118 154 206 150 216 306 169  15 346 362  46  66  73  16 151 319 177\n",
      "   5 271  19  96 311 249  90  44   9 312 157 152 184 250 264  80 173 244\n",
      " 134]\n",
      "Best Fitness: 35.0\n"
     ]
    }
   ],
   "source": [
    "def generate_neighbor(solution):\n",
    "    neighbor = solution.copy()\n",
    "    i, j = random.sample(range(len(solution)), 2)\n",
    "    neighbor[i], neighbor[j] = neighbor[j], neighbor[i]\n",
    "    return neighbor\n",
    "\n",
    "\n",
    "def hill_climbing(fault_matrix, max_iterations):\n",
    "    num_tests = len(fault_matrix)\n",
    "    current_solution = np.random.permutation(num_tests)\n",
    "    current_fitness = calculate_fitness(current_solution, fault_matrix)\n",
    "\n",
    "    for _ in range(max_iterations):\n",
    "        neighbor = generate_neighbor(current_solution)\n",
    "        neighbor_fitness = calculate_fitness(neighbor, fault_matrix)\n",
    "\n",
    "        if neighbor_fitness > current_fitness:\n",
    "            current_solution = neighbor\n",
    "            current_fitness = neighbor_fitness\n",
    "\n",
    "    return current_solution, current_fitness\n",
    "max_iterations = 10\n",
    "best_solution, best_fitness = hill_climbing(fault_matrix, max_iterations)\n",
    "\n",
    "print(\"Best Solution:\", best_solution)\n",
    "print(\"Best Fitness:\", best_fitness)"
   ]
  },
  {
   "cell_type": "code",
   "execution_count": 11,
   "id": "d77768d9-869d-4763-9810-f84daf577095",
   "metadata": {},
   "outputs": [],
   "source": [
    "# Implimentation  GENETIC  ALGORITHM FOR small-faultmatrix ...\n",
    "# READING FILE FROM NEWSMALLFAULT MATRIX\n"
   ]
  },
  {
   "cell_type": "code",
   "execution_count": 12,
   "id": "85f8eb8a-9e84-47ff-aed7-67895998635e",
   "metadata": {},
   "outputs": [],
   "source": [
    "def read_fault_matrix(newsmallfaultmatrix):\n",
    "    with open(newsmallfaultmatrix, 'r') as f:\n",
    "        lines = f.readlines()\n",
    "        fault_matrix = []\n",
    "        for line in lines:\n",
    "            row = [int(x) for x in line.strip().split(\",\")]\n",
    "            fault_matrix.append(row)\n",
    "    return fault_matrix"
   ]
  },
  {
   "cell_type": "code",
   "execution_count": 13,
   "id": "0d0c6025-0389-4ee8-919e-e747677088c5",
   "metadata": {},
   "outputs": [],
   "source": [
    "# CALCULATING FITNESS FUNCTION..."
   ]
  },
  {
   "cell_type": "code",
   "execution_count": 14,
   "id": "a89b6f1d-d51c-4116-91b7-a1c898fa48e8",
   "metadata": {},
   "outputs": [],
   "source": [
    "def calculate_fitness(fault_matrix, test_order):\n",
    "    if isinstance(fault_matrix, np.ndarray):\n",
    "        num_faults = fault_matrix.shape[1]\n",
    "    else:\n",
    "        num_faults = len(fault_matrix[0])\n",
    "\n",
    "    fault_detected = [False] * num_faults\n",
    "    fitness = 0\n",
    "\n",
    "    for test_index in test_order:\n",
    "        for fault_index in range(num_faults):\n",
    "            if fault_matrix[test_index][fault_index] and not fault_detected[fault_index]:\n",
    "                fitness += 1\n",
    "                fault_detected[fault_index] = True\n",
    "\n",
    "    return fitness"
   ]
  },
  {
   "cell_type": "code",
   "execution_count": 15,
   "id": "9d6e28b2-b61f-4a0e-979e-19806d4d7a98",
   "metadata": {},
   "outputs": [],
   "source": [
    "#  CREATING  INITIAL POPULATION "
   ]
  },
  {
   "cell_type": "code",
   "execution_count": 16,
   "id": "ec030406-057e-4c78-9fa8-aa54f67ea786",
   "metadata": {},
   "outputs": [],
   "source": [
    "def create_initial_population(population_size, num_tests):\n",
    "    population = []\n",
    "    for _ in range(population_size):\n",
    "        individual = list(range(num_tests))\n",
    "        random.shuffle(individual)\n",
    "        population.append(individual)\n",
    "    return population"
   ]
  },
  {
   "cell_type": "code",
   "execution_count": 17,
   "id": "943aef4b-1fb0-498b-9aa0-abd72430ac96",
   "metadata": {},
   "outputs": [],
   "source": [
    "# SELECTION OF POPULATION ON THE BASIS OF FITNESS SCORE AND TOURNAMENT SELECTION"
   ]
  },
  {
   "cell_type": "code",
   "execution_count": 18,
   "id": "a25f2e73-78b7-4b9c-b1cc-b7f608cbcc50",
   "metadata": {},
   "outputs": [],
   "source": [
    "def selection(population, fitness_scores, tournament_size=5):\n",
    "    selected_parents = []\n",
    "    for _ in range(len(population)):\n",
    "        tournament_participants = random.sample(range(len(population)), tournament_size)\n",
    "        tournament_fitness = [fitness_scores[i] for i in tournament_participants]\n",
    "        best_index = tournament_fitness.index(max(tournament_fitness))\n",
    "        selected_parents.append(population[tournament_participants[best_index]])\n",
    "    return selected_parents"
   ]
  },
  {
   "cell_type": "code",
   "execution_count": 19,
   "id": "559c0b2e-d135-40d0-9fa1-8d6c09f01f52",
   "metadata": {},
   "outputs": [],
   "source": [
    "# IMPLEMENTATION OF CROSSOVER"
   ]
  },
  {
   "cell_type": "code",
   "execution_count": 20,
   "id": "d88315ef-f578-4ec9-88ba-9d8600b033f8",
   "metadata": {},
   "outputs": [],
   "source": [
    "def crossover(parent1, parent2, crossover_rate=0.8):\n",
    "    if random.random() < crossover_rate:\n",
    "        crossover_point = random.randint(1, len(parent1) - 1)\n",
    "        child1 = parent1[:crossover_point] + parent2[crossover_point:]\n",
    "        child2 = parent2[:crossover_point] + parent1[crossover_point:]\n",
    "    else:\n",
    "        child1 = parent1.copy()\n",
    "        child2 = parent2.copy()\n",
    "    return child1, child2"
   ]
  },
  {
   "cell_type": "code",
   "execution_count": 21,
   "id": "eb1aed5a-7e6f-41e5-a2b1-973f2a60e775",
   "metadata": {},
   "outputs": [],
   "source": [
    "#IMPLEMENTATION OF MUTATION "
   ]
  },
  {
   "cell_type": "code",
   "execution_count": 22,
   "id": "d0fed662-5102-45af-aa26-e6786246f778",
   "metadata": {},
   "outputs": [],
   "source": [
    "def mutation(individual, mutation_rate=0.01):\n",
    "    if random.random() < mutation_rate:\n",
    "        i, j = random.sample(range(len(individual)), 2)\n",
    "        individual[i], individual[j] = individual[j], individual[i]\n",
    "    return individual"
   ]
  },
  {
   "cell_type": "code",
   "execution_count": 23,
   "id": "7e7222a5-20ef-422d-86a7-4165ac16260f",
   "metadata": {},
   "outputs": [],
   "source": [
    "#IMPLEMENTATION OF GENETIC ALGORITHM "
   ]
  },
  {
   "cell_type": "code",
   "execution_count": 24,
   "id": "3417c79a-9a37-430b-a9fd-5792cbe8f95d",
   "metadata": {},
   "outputs": [
    {
     "name": "stdout",
     "output_type": "stream",
     "text": [
      "Best order: [33, 59, 21, 65, 7, 67, 6, 54, 88, 58, 45, 51, 74, 25, 27, 14, 4, 49, 50, 3, 81, 2, 61, 64, 78, 75, 40, 46, 53, 48, 18, 69, 12, 1, 32, 39, 86, 83, 16, 42, 68, 35, 5, 89, 85, 26, 11, 87, 9, 41, 24, 84, 73, 71, 43, 66, 82, 10, 30, 56, 34, 38, 62, 0, 31, 13, 80, 77, 63, 52, 44, 15, 28, 47, 57, 20, 79, 76, 37, 29, 23, 19, 22, 8, 70, 36, 55, 72, 17, 60]\n",
      "Best fitness: 10\n"
     ]
    }
   ],
   "source": [
    "def genetic_algorithm(fault_matrix, population_size, max_generations, mutation_rate):\n",
    "    population = create_initial_population(population_size, len(fault_matrix))\n",
    "\n",
    "    for generation in range(max_generations):\n",
    "        fitness_scores = [calculate_fitness(fault_matrix, individual) for individual in population]\n",
    "        selected_parents = selection(population, fitness_scores)\n",
    "\n",
    "        offspring = []\n",
    "        for _ in range(population_size // 2):\n",
    "            parent1, parent2 = random.sample(selected_parents, 2)\n",
    "            child1, child2 = crossover(parent1, parent2, mutation_rate)\n",
    "            offspring.extend([mutation(child1, mutation_rate), mutation(child2, mutation_rate)])\n",
    "\n",
    "        population = offspring\n",
    "\n",
    "    best_individual = max(population, key=lambda x: calculate_fitness(fault_matrix, x))\n",
    "    best_fitness = calculate_fitness(fault_matrix, best_individual)\n",
    "    print(\"Best order:\", best_individual)\n",
    "    print(\"Best fitness:\", best_fitness)\n",
    "    return best_individual, best_fitness\n",
    "\n",
    "# Example usage:\n",
    "fault_matrix = read_fault_matrix(\"newsmallfaultmatrix.txt\")\n",
    "population_size = 10\n",
    "max_generations = 1\n",
    "mutation_rate =0.08\n",
    "best_order, best_fitness = genetic_algorithm(fault_matrix, population_size, max_generations, mutation_rate)\n"
   ]
  },
  {
   "cell_type": "code",
   "execution_count": 25,
   "id": "ababb475-430e-4824-932d-2056c1c2e957",
   "metadata": {},
   "outputs": [],
   "source": [
    "# Implimentation  GENETIC  ALGORITHM FOR BIG-faultmatrix ...\n",
    "# READING FILE FROM NEWSMALLFAULT MATRIX"
   ]
  },
  {
   "cell_type": "code",
   "execution_count": 26,
   "id": "c37fd4eb-7812-4705-bb93-5908e025be6b",
   "metadata": {},
   "outputs": [],
   "source": [
    "def read_fault_matrix(newbigfaultmatrix):\n",
    "    with open(newbigfaultmatrix, 'r') as f:\n",
    "        lines = f.readlines()\n",
    "        fault_matrix = []\n",
    "        for line in lines:\n",
    "            row = [int(x) for x in line.strip().split(\",\")]\n",
    "            fault_matrix.append(row)\n",
    "    return fault_matrix\n"
   ]
  },
  {
   "cell_type": "code",
   "execution_count": 27,
   "id": "68d3a03a-8939-4026-8dbe-567a883bdc68",
   "metadata": {},
   "outputs": [],
   "source": [
    "# CALCULATING FITNESS FUNCTION..."
   ]
  },
  {
   "cell_type": "code",
   "execution_count": 28,
   "id": "d5748e26-17c0-4a67-9131-6691a5814550",
   "metadata": {},
   "outputs": [],
   "source": [
    "def calculate_fitness(fault_matrix, test_order):\n",
    "    if isinstance(fault_matrix, np.ndarray):\n",
    "        num_faults = fault_matrix.shape[1]\n",
    "    else:\n",
    "        num_faults = len(fault_matrix[0])\n",
    "\n",
    "    fault_detected = [False] * num_faults\n",
    "    fitness = 0\n",
    "\n",
    "    for test_index in test_order:\n",
    "        for fault_index in range(num_faults):\n",
    "            if fault_matrix[test_index][fault_index] and not fault_detected[fault_index]:\n",
    "                fitness += 1\n",
    "                fault_detected[fault_index] = True\n",
    "\n",
    "    return fitness"
   ]
  },
  {
   "cell_type": "code",
   "execution_count": 29,
   "id": "645e99db-a02f-4ad3-b182-65b102af8abd",
   "metadata": {},
   "outputs": [],
   "source": [
    "#  CREATING  INITIAL POPULATION "
   ]
  },
  {
   "cell_type": "code",
   "execution_count": 30,
   "id": "83673bca-1825-47a0-a18b-6607d57f6aa9",
   "metadata": {},
   "outputs": [],
   "source": [
    "def create_initial_population(population_size, num_tests):\n",
    "    population = []\n",
    "    for _ in range(population_size):\n",
    "        individual = list(range(num_tests))\n",
    "        random.shuffle(individual)\n",
    "        population.append(individual)\n",
    "    return population\n"
   ]
  },
  {
   "cell_type": "code",
   "execution_count": 31,
   "id": "9df4680c-16f8-4ad7-821c-5824aa4e1dc0",
   "metadata": {},
   "outputs": [],
   "source": [
    "# SELECTION OF POPULATION ON THE BASIS OF FITNESS SCORE AND TOURNAMENT SELECTION"
   ]
  },
  {
   "cell_type": "code",
   "execution_count": 32,
   "id": "59e8e3d7-3608-46ca-b0a5-f4eadb9124b4",
   "metadata": {},
   "outputs": [],
   "source": [
    "def selection(population, fitness_scores, tournament_size=9):\n",
    "    selected_parents = []\n",
    "    for _ in range(len(population)):\n",
    "        tournament_participants = random.sample(range(len(population)), tournament_size)\n",
    "        tournament_fitness = [fitness_scores[i] for i in tournament_participants]\n",
    "        best_index = tournament_fitness.index(max(tournament_fitness))\n",
    "        selected_parents.append(population[tournament_participants[best_index]])\n",
    "    return selected_parents"
   ]
  },
  {
   "cell_type": "code",
   "execution_count": 33,
   "id": "6c5c5e17-3630-41ce-b2eb-ae507e00479a",
   "metadata": {},
   "outputs": [],
   "source": [
    "# IMPLEMENTATION OF CROSSOVER"
   ]
  },
  {
   "cell_type": "code",
   "execution_count": 34,
   "id": "ccd8e765-3aea-40bc-8384-3e77bdce27b7",
   "metadata": {},
   "outputs": [],
   "source": [
    "def crossover(parent1, parent2, crossover_rate=0.8):\n",
    "    if random.random() < crossover_rate:\n",
    "        crossover_point = random.randint(1, len(parent1) - 1)\n",
    "        child1 = parent1[:crossover_point] + parent2[crossover_point:]\n",
    "        child2 = parent2[:crossover_point] + parent1[crossover_point:]\n",
    "    else:\n",
    "        child1 = parent1.copy()\n",
    "        child2 = parent2.copy()\n",
    "    return child1, child2"
   ]
  },
  {
   "cell_type": "code",
   "execution_count": 35,
   "id": "93532cc4-dd33-494e-8685-84b72d3bd40b",
   "metadata": {},
   "outputs": [],
   "source": [
    "#IMPLEMENTATION OF MUTATION "
   ]
  },
  {
   "cell_type": "code",
   "execution_count": 36,
   "id": "c4b43d4c-b0af-4f80-b8fc-f7d9ad04eaaa",
   "metadata": {},
   "outputs": [],
   "source": [
    "def mutation(individual, mutation_rate=0.01):\n",
    "    if random.random() < mutation_rate:\n",
    "        i, j = random.sample(range(len(individual)), 2)\n",
    "        individual[i], individual[j] = individual[j], individual[i]\n",
    "    return individual"
   ]
  },
  {
   "cell_type": "code",
   "execution_count": 37,
   "id": "b48766cb-2c53-43f8-bbcd-88633c83cae6",
   "metadata": {},
   "outputs": [],
   "source": [
    "#IMPLEMENTATION OF GENETIC ALGORITHM"
   ]
  },
  {
   "cell_type": "code",
   "execution_count": 38,
   "id": "97d2dc25-8cb5-4b1f-97b8-61bbe0b24e19",
   "metadata": {},
   "outputs": [
    {
     "name": "stdout",
     "output_type": "stream",
     "text": [
      "Best order: [180, 64, 107, 279, 301, 221, 47, 251, 115, 3, 320, 123, 256, 34, 204, 170, 231, 60, 335, 128, 295, 125, 285, 71, 253, 358, 179, 62, 244, 176, 86, 58, 37, 302, 19, 70, 342, 63, 316, 13, 236, 174, 177, 214, 220, 147, 343, 263, 258, 89, 61, 245, 307, 161, 213, 347, 366, 149, 293, 206, 30, 357, 232, 311, 318, 325, 327, 120, 308, 25, 212, 223, 276, 94, 154, 148, 158, 41, 122, 51, 119, 273, 126, 346, 337, 137, 289, 254, 124, 181, 184, 292, 229, 297, 163, 2, 356, 7, 145, 321, 219, 33, 373, 38, 266, 72, 52, 341, 339, 26, 74, 156, 146, 250, 298, 35, 84, 243, 27, 365, 56, 286, 328, 306, 160, 91, 73, 190, 282, 372, 121, 355, 185, 106, 143, 76, 332, 165, 20, 260, 45, 164, 104, 291, 239, 12, 269, 224, 133, 88, 310, 248, 334, 326, 215, 344, 5, 16, 175, 205, 139, 272, 48, 57, 40, 17, 129, 95, 109, 265, 363, 90, 98, 118, 24, 290, 367, 228, 281, 182, 202, 275, 280, 261, 4, 349, 278, 92, 68, 54, 338, 1, 284, 21, 80, 36, 201, 169, 353, 103, 114, 43, 210, 14, 59, 274, 136, 294, 140, 108, 376, 304, 87, 369, 10, 194, 230, 255, 330, 351, 132, 138, 361, 130, 277, 173, 233, 171, 317, 242, 199, 162, 296, 134, 186, 141, 195, 305, 85, 0, 340, 368, 209, 150, 225, 6, 226, 79, 207, 227, 15, 183, 300, 259, 28, 319, 336, 249, 287, 348, 371, 127, 352, 208, 135, 157, 188, 131, 235, 105, 257, 252, 312, 216, 65, 46, 313, 264, 364, 323, 78, 55, 360, 200, 314, 309, 237, 238, 299, 117, 303, 75, 116, 50, 192, 11, 39, 49, 111, 218, 324, 42, 345, 240, 329, 322, 44, 370, 172, 187, 23, 83, 350, 375, 77, 53, 9, 32, 101, 191, 270, 315, 159, 67, 113, 374, 112, 152, 377, 100, 222, 196, 267, 18, 283, 142, 211, 167, 31, 247, 333, 217, 198, 151, 153, 268, 203, 193, 178, 189, 97, 144, 93, 378, 241, 288, 81, 331, 66, 99, 29, 354, 8, 102, 262, 166, 155, 246, 96, 22, 359, 82, 234, 362, 110, 69, 168, 197, 271]\n",
      "Best fitness: 38\n"
     ]
    }
   ],
   "source": [
    "def genetic_algorithm(fault_matrix, population_size, max_generations, mutation_rate):\n",
    "    population = create_initial_population(population_size, len(fault_matrix))\n",
    "\n",
    "    for generation in range(max_generations):\n",
    "        fitness_scores = [calculate_fitness(fault_matrix, individual) for individual in population]\n",
    "        selected_parents = selection(population, fitness_scores)\n",
    "\n",
    "        offspring = []\n",
    "        for _ in range(population_size // 2):\n",
    "            parent1, parent2 = random.sample(selected_parents, 2)\n",
    "            child1, child2 = crossover(parent1, parent2, mutation_rate)\n",
    "            offspring.extend([mutation(child1, mutation_rate), mutation(child2, mutation_rate)])\n",
    "\n",
    "        population = offspring\n",
    "\n",
    "    best_individual = max(population, key=lambda x: calculate_fitness(fault_matrix, x))\n",
    "    best_fitness = calculate_fitness(fault_matrix, best_individual)\n",
    "    print(\"Best order:\", best_individual)\n",
    "    print(\"Best fitness:\", best_fitness)\n",
    "    return best_individual, best_fitness\n",
    "fault_matrix = read_fault_matrix(\"newbigfaultmatrix.txt\")\n",
    "population_size =  1000\n",
    "max_generations = 5\n",
    "mutation_rate =0.07\n",
    "best_order, best_fitness = genetic_algorithm(fault_matrix, population_size, max_generations, mutation_rate)\n"
   ]
  },
  {
   "cell_type": "code",
   "execution_count": null,
   "id": "83431cb8-6d2c-4b6c-b89a-fb3c21700054",
   "metadata": {},
   "outputs": [],
   "source": []
  }
 ],
 "metadata": {
  "kernelspec": {
   "display_name": "Python 3 (ipykernel)",
   "language": "python",
   "name": "python3"
  },
  "language_info": {
   "codemirror_mode": {
    "name": "ipython",
    "version": 3
   },
   "file_extension": ".py",
   "mimetype": "text/x-python",
   "name": "python",
   "nbconvert_exporter": "python",
   "pygments_lexer": "ipython3",
   "version": "3.12.7"
  }
 },
 "nbformat": 4,
 "nbformat_minor": 5
}

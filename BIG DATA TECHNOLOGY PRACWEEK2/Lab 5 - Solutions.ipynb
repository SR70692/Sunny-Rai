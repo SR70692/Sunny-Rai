{
 "cells": [
  {
   "cell_type": "code",
   "execution_count": 24,
   "metadata": {},
   "outputs": [],
   "source": [
    "# Import the necessary libraries (numpy, pandas, scikit-learn packages metrics and clustering)\n",
    "import numpy as np\n",
    "import pandas as pd\n",
    "from sklearn import cluster\n",
    "from sklearn import metrics"
   ]
  },
  {
   "cell_type": "code",
   "execution_count": 26,
   "metadata": {},
   "outputs": [],
   "source": [
    "# Import the Balance Scale dataset available at http://archive.ics.uci.edu/ml/datasets/balance+scale \n",
    "data = pd.read_csv(\"balance-scale.data\") #in the folder folder as the python .ipynb "
   ]
  },
  {
   "cell_type": "code",
   "execution_count": 28,
   "metadata": {},
   "outputs": [
    {
     "data": {
      "text/html": [
       "<div>\n",
       "<style scoped>\n",
       "    .dataframe tbody tr th:only-of-type {\n",
       "        vertical-align: middle;\n",
       "    }\n",
       "\n",
       "    .dataframe tbody tr th {\n",
       "        vertical-align: top;\n",
       "    }\n",
       "\n",
       "    .dataframe thead th {\n",
       "        text-align: right;\n",
       "    }\n",
       "</style>\n",
       "<table border=\"1\" class=\"dataframe\">\n",
       "  <thead>\n",
       "    <tr style=\"text-align: right;\">\n",
       "      <th></th>\n",
       "      <th>B</th>\n",
       "      <th>1</th>\n",
       "      <th>1.1</th>\n",
       "      <th>1.2</th>\n",
       "      <th>1.3</th>\n",
       "    </tr>\n",
       "  </thead>\n",
       "  <tbody>\n",
       "    <tr>\n",
       "      <th>0</th>\n",
       "      <td>R</td>\n",
       "      <td>1</td>\n",
       "      <td>1</td>\n",
       "      <td>1</td>\n",
       "      <td>2</td>\n",
       "    </tr>\n",
       "    <tr>\n",
       "      <th>1</th>\n",
       "      <td>R</td>\n",
       "      <td>1</td>\n",
       "      <td>1</td>\n",
       "      <td>1</td>\n",
       "      <td>3</td>\n",
       "    </tr>\n",
       "    <tr>\n",
       "      <th>2</th>\n",
       "      <td>R</td>\n",
       "      <td>1</td>\n",
       "      <td>1</td>\n",
       "      <td>1</td>\n",
       "      <td>4</td>\n",
       "    </tr>\n",
       "    <tr>\n",
       "      <th>3</th>\n",
       "      <td>R</td>\n",
       "      <td>1</td>\n",
       "      <td>1</td>\n",
       "      <td>1</td>\n",
       "      <td>5</td>\n",
       "    </tr>\n",
       "    <tr>\n",
       "      <th>4</th>\n",
       "      <td>R</td>\n",
       "      <td>1</td>\n",
       "      <td>1</td>\n",
       "      <td>2</td>\n",
       "      <td>1</td>\n",
       "    </tr>\n",
       "    <tr>\n",
       "      <th>...</th>\n",
       "      <td>...</td>\n",
       "      <td>...</td>\n",
       "      <td>...</td>\n",
       "      <td>...</td>\n",
       "      <td>...</td>\n",
       "    </tr>\n",
       "    <tr>\n",
       "      <th>619</th>\n",
       "      <td>L</td>\n",
       "      <td>5</td>\n",
       "      <td>5</td>\n",
       "      <td>5</td>\n",
       "      <td>1</td>\n",
       "    </tr>\n",
       "    <tr>\n",
       "      <th>620</th>\n",
       "      <td>L</td>\n",
       "      <td>5</td>\n",
       "      <td>5</td>\n",
       "      <td>5</td>\n",
       "      <td>2</td>\n",
       "    </tr>\n",
       "    <tr>\n",
       "      <th>621</th>\n",
       "      <td>L</td>\n",
       "      <td>5</td>\n",
       "      <td>5</td>\n",
       "      <td>5</td>\n",
       "      <td>3</td>\n",
       "    </tr>\n",
       "    <tr>\n",
       "      <th>622</th>\n",
       "      <td>L</td>\n",
       "      <td>5</td>\n",
       "      <td>5</td>\n",
       "      <td>5</td>\n",
       "      <td>4</td>\n",
       "    </tr>\n",
       "    <tr>\n",
       "      <th>623</th>\n",
       "      <td>B</td>\n",
       "      <td>5</td>\n",
       "      <td>5</td>\n",
       "      <td>5</td>\n",
       "      <td>5</td>\n",
       "    </tr>\n",
       "  </tbody>\n",
       "</table>\n",
       "<p>624 rows × 5 columns</p>\n",
       "</div>"
      ],
      "text/plain": [
       "     B  1  1.1  1.2  1.3\n",
       "0    R  1    1    1    2\n",
       "1    R  1    1    1    3\n",
       "2    R  1    1    1    4\n",
       "3    R  1    1    1    5\n",
       "4    R  1    1    2    1\n",
       "..  .. ..  ...  ...  ...\n",
       "619  L  5    5    5    1\n",
       "620  L  5    5    5    2\n",
       "621  L  5    5    5    3\n",
       "622  L  5    5    5    4\n",
       "623  B  5    5    5    5\n",
       "\n",
       "[624 rows x 5 columns]"
      ]
     },
     "execution_count": 28,
     "metadata": {},
     "output_type": "execute_result"
    }
   ],
   "source": [
    "#let's take a look at the dataset\n",
    "data #this is the dataset"
   ]
  },
  {
   "cell_type": "code",
   "execution_count": 30,
   "metadata": {},
   "outputs": [
    {
     "data": {
      "text/plain": [
       "array([['R', 1, 1, 1, 2],\n",
       "       ['R', 1, 1, 1, 3],\n",
       "       ['R', 1, 1, 1, 4],\n",
       "       ...,\n",
       "       ['L', 5, 5, 5, 3],\n",
       "       ['L', 5, 5, 5, 4],\n",
       "       ['B', 5, 5, 5, 5]], dtype=object)"
      ]
     },
     "execution_count": 30,
     "metadata": {},
     "output_type": "execute_result"
    }
   ],
   "source": [
    "data.values #dataset converted to 2D-array"
   ]
  },
  {
   "cell_type": "code",
   "execution_count": 32,
   "metadata": {},
   "outputs": [],
   "source": [
    "# 3 This data set was generated to model psychological experimental results. \n",
    "# Each example is classified as having the balance scale tip to the right, tip to the left, or be balanced. \n",
    "# The attributes are the left weight, the left distance, the right weight, and the right distance. \n",
    "# The correct way to find the class is the greater of (left-distance * left-weight) and (right-distance * right-weight). \n",
    "# If they are equal, it is balanced. \n",
    "# Segment the outcome (first column) and remaining data (attributes) so we can use the attributes for clustering\n",
    "X = data.values[:, 1:5] \n",
    "Y = data.values[:,0] #0 is for the index of the first column"
   ]
  },
  {
   "cell_type": "code",
   "execution_count": 34,
   "metadata": {},
   "outputs": [
    {
     "name": "stdout",
     "output_type": "stream",
     "text": [
      "[[1 1 1 2]\n",
      " [1 1 1 3]\n",
      " [1 1 1 4]\n",
      " ...\n",
      " [5 5 5 3]\n",
      " [5 5 5 4]\n",
      " [5 5 5 5]]\n",
      "---------------------------------\n",
      "['R' 'R' 'R' 'R' 'R' 'R' 'R' 'R' 'R' 'R' 'R' 'R' 'R' 'R' 'R' 'R' 'R' 'R'\n",
      " 'R' 'R' 'R' 'R' 'R' 'R' 'L' 'B' 'R' 'R' 'R' 'B' 'R' 'R' 'R' 'R' 'R' 'R'\n",
      " 'R' 'R' 'R' 'R' 'R' 'R' 'R' 'R' 'R' 'R' 'R' 'R' 'R' 'L' 'L' 'B' 'R' 'R'\n",
      " 'L' 'R' 'R' 'R' 'R' 'B' 'R' 'R' 'R' 'R' 'R' 'R' 'R' 'R' 'R' 'R' 'R' 'R'\n",
      " 'R' 'R' 'L' 'L' 'L' 'B' 'R' 'L' 'B' 'R' 'R' 'R' 'L' 'R' 'R' 'R' 'R' 'B'\n",
      " 'R' 'R' 'R' 'R' 'R' 'R' 'R' 'R' 'R' 'L' 'L' 'L' 'L' 'B' 'L' 'L' 'R' 'R'\n",
      " 'R' 'L' 'R' 'R' 'R' 'R' 'L' 'R' 'R' 'R' 'R' 'B' 'R' 'R' 'R' 'R' 'L' 'B'\n",
      " 'R' 'R' 'R' 'B' 'R' 'R' 'R' 'R' 'R' 'R' 'R' 'R' 'R' 'R' 'R' 'R' 'R' 'R'\n",
      " 'R' 'R' 'R' 'R' 'R' 'L' 'L' 'L' 'B' 'R' 'L' 'B' 'R' 'R' 'R' 'L' 'R' 'R'\n",
      " 'R' 'R' 'B' 'R' 'R' 'R' 'R' 'R' 'R' 'R' 'R' 'R' 'L' 'L' 'L' 'L' 'L' 'L'\n",
      " 'L' 'B' 'R' 'R' 'L' 'B' 'R' 'R' 'R' 'L' 'R' 'R' 'R' 'R' 'L' 'R' 'R' 'R'\n",
      " 'R' 'L' 'L' 'L' 'L' 'L' 'L' 'L' 'L' 'B' 'R' 'L' 'L' 'R' 'R' 'R' 'L' 'B'\n",
      " 'R' 'R' 'R' 'L' 'R' 'R' 'R' 'R' 'L' 'L' 'L' 'L' 'L' 'L' 'L' 'L' 'L' 'B'\n",
      " 'L' 'L' 'L' 'R' 'R' 'L' 'L' 'R' 'R' 'R' 'L' 'B' 'R' 'R' 'R' 'L' 'L' 'B'\n",
      " 'R' 'R' 'L' 'R' 'R' 'R' 'R' 'B' 'R' 'R' 'R' 'R' 'R' 'R' 'R' 'R' 'R' 'R'\n",
      " 'R' 'R' 'R' 'R' 'L' 'L' 'L' 'L' 'L' 'L' 'L' 'B' 'R' 'R' 'L' 'B' 'R' 'R'\n",
      " 'R' 'L' 'R' 'R' 'R' 'R' 'L' 'R' 'R' 'R' 'R' 'L' 'L' 'L' 'L' 'L' 'L' 'L'\n",
      " 'L' 'L' 'R' 'L' 'L' 'B' 'R' 'R' 'L' 'L' 'R' 'R' 'R' 'L' 'R' 'R' 'R' 'R'\n",
      " 'L' 'L' 'L' 'L' 'L' 'L' 'L' 'L' 'L' 'L' 'L' 'L' 'L' 'B' 'R' 'L' 'L' 'B'\n",
      " 'R' 'R' 'L' 'L' 'R' 'R' 'R' 'L' 'L' 'L' 'L' 'L' 'L' 'L' 'L' 'L' 'L' 'L'\n",
      " 'L' 'L' 'L' 'B' 'L' 'L' 'L' 'R' 'R' 'L' 'L' 'B' 'R' 'R' 'L' 'L' 'L' 'B'\n",
      " 'R' 'L' 'B' 'R' 'R' 'R' 'L' 'R' 'R' 'R' 'R' 'B' 'R' 'R' 'R' 'R' 'R' 'R'\n",
      " 'R' 'R' 'R' 'L' 'L' 'L' 'L' 'L' 'L' 'L' 'L' 'B' 'R' 'L' 'L' 'R' 'R' 'R'\n",
      " 'L' 'B' 'R' 'R' 'R' 'L' 'R' 'R' 'R' 'R' 'L' 'L' 'L' 'L' 'L' 'L' 'L' 'L'\n",
      " 'L' 'L' 'L' 'L' 'L' 'B' 'R' 'L' 'L' 'B' 'R' 'R' 'L' 'L' 'R' 'R' 'R' 'L'\n",
      " 'L' 'L' 'L' 'L' 'L' 'L' 'L' 'L' 'L' 'L' 'L' 'L' 'L' 'L' 'L' 'L' 'L' 'B'\n",
      " 'R' 'L' 'L' 'L' 'R' 'R' 'L' 'L' 'L' 'L' 'L' 'L' 'L' 'L' 'L' 'L' 'L' 'L'\n",
      " 'L' 'L' 'L' 'L' 'L' 'L' 'L' 'B' 'L' 'L' 'L' 'B' 'R' 'L' 'L' 'L' 'L' 'B'\n",
      " 'L' 'L' 'R' 'R' 'R' 'L' 'R' 'R' 'R' 'R' 'L' 'R' 'R' 'R' 'R' 'B' 'R' 'R'\n",
      " 'R' 'R' 'L' 'L' 'L' 'L' 'L' 'L' 'L' 'L' 'L' 'B' 'L' 'L' 'L' 'R' 'R' 'L'\n",
      " 'L' 'R' 'R' 'R' 'L' 'B' 'R' 'R' 'R' 'L' 'L' 'L' 'L' 'L' 'L' 'L' 'L' 'L'\n",
      " 'L' 'L' 'L' 'L' 'L' 'B' 'L' 'L' 'L' 'R' 'R' 'L' 'L' 'B' 'R' 'R' 'L' 'L'\n",
      " 'L' 'L' 'L' 'L' 'L' 'L' 'L' 'L' 'L' 'L' 'L' 'L' 'L' 'L' 'L' 'L' 'L' 'B'\n",
      " 'L' 'L' 'L' 'B' 'R' 'L' 'L' 'L' 'L' 'L' 'L' 'L' 'L' 'L' 'L' 'L' 'L' 'L'\n",
      " 'L' 'L' 'L' 'L' 'L' 'L' 'L' 'L' 'L' 'L' 'L' 'B']\n"
     ]
    }
   ],
   "source": [
    "print(X)\n",
    "print(\"---------------------------------\")\n",
    "print(Y)"
   ]
  },
  {
   "cell_type": "code",
   "execution_count": 36,
   "metadata": {},
   "outputs": [
    {
     "name": "stdout",
     "output_type": "stream",
     "text": [
      "['B' 'L' 'R']\n"
     ]
    }
   ],
   "source": [
    "print(np.unique(Y))"
   ]
  },
  {
   "cell_type": "code",
   "execution_count": 38,
   "metadata": {},
   "outputs": [],
   "source": [
    "# Scale the data that we are going to use for clustering\n",
    "from sklearn.preprocessing import scale"
   ]
  },
  {
   "cell_type": "code",
   "execution_count": 40,
   "metadata": {},
   "outputs": [
    {
     "name": "stdout",
     "output_type": "stream",
     "text": [
      "[[  1  55 120]\n",
      " [  4   2 334]\n",
      " [  2  20 300]\n",
      " [  1  26 923]\n",
      " [  3  43 876]\n",
      " [  1  53  55]]\n",
      "------------------------\n",
      "Before scaling, mean: [  2.          33.16666667 434.66666667]\n",
      "Before scaling, std: [  1.15470054  18.98610603 342.70379176]\n"
     ]
    }
   ],
   "source": [
    "# an example, not related to this dataset, but to better understand how scaling the dataset works\n",
    "arr1=np.array([[1,55,120],[4,2,334],[2,20,300],[1,26,923],[3,43,876],[1,53,55]])\n",
    "print(arr1, end=\"\\n------------------------\\n\")\n",
    "print(\"Before scaling, mean:\",arr1.mean(axis=0))\n",
    "print(\"Before scaling, std:\",arr1.std(axis=0))"
   ]
  },
  {
   "cell_type": "code",
   "execution_count": 42,
   "metadata": {},
   "outputs": [
    {
     "name": "stdout",
     "output_type": "stream",
     "text": [
      "[[-0.8660254   1.14996373 -0.91818846]\n",
      " [ 1.73205081 -1.64155128 -0.29374249]\n",
      " [ 0.         -0.69348958 -0.39295354]\n",
      " [-0.8660254  -0.37746901  1.4249429 ]\n",
      " [ 0.8660254   0.5179226   1.28779822]\n",
      " [-0.8660254   1.04462354 -1.10785663]]\n",
      "------------------------\n",
      "After scaling, mean: [ 0.00000000e+00  1.11022302e-16 -3.70074342e-17]\n",
      "After scaling, std: [1. 1. 1.]\n"
     ]
    }
   ],
   "source": [
    "scaled_arr1 = scale(arr1)\n",
    "print(scaled_arr1, end=\"\\n------------------------\\n\")\n",
    "print(\"After scaling, mean:\",scaled_arr1.mean(axis=0))\n",
    "print(\"After scaling, std:\",scaled_arr1.std(axis=0))"
   ]
  },
  {
   "cell_type": "code",
   "execution_count": 44,
   "metadata": {},
   "outputs": [
    {
     "name": "stdout",
     "output_type": "stream",
     "text": [
      "Before scaling, mean: [  2.          33.16666667 434.66666667]\n",
      "After scaling, mean: [ 0.00000000e+00  1.11022302e-16 -3.70074342e-17]\n",
      "Before scaling, std: [  1.15470054  18.98610603 342.70379176]\n",
      "After scaling, std: [1. 1. 1.]\n"
     ]
    }
   ],
   "source": [
    "print(\"Before scaling, mean:\",arr1.mean(axis=0))\n",
    "print(\"After scaling, mean:\",scaled_arr1.mean(axis=0))\n",
    "print(\"Before scaling, std:\",arr1.std(axis=0))\n",
    "print(\"After scaling, std:\",scaled_arr1.std(axis=0))"
   ]
  },
  {
   "cell_type": "code",
   "execution_count": 46,
   "metadata": {},
   "outputs": [
    {
     "data": {
      "text/plain": [
       "array([[-1.41761994, -1.41761994, -1.41761994, -0.70994407],\n",
       "       [-1.41761994, -1.41761994, -1.41761994, -0.00226819],\n",
       "       [-1.41761994, -1.41761994, -1.41761994,  0.70540768],\n",
       "       ...,\n",
       "       [ 1.41308356,  1.41308356,  1.41308356, -0.00226819],\n",
       "       [ 1.41308356,  1.41308356,  1.41308356,  0.70540768],\n",
       "       [ 1.41308356,  1.41308356,  1.41308356,  1.41308356]])"
      ]
     },
     "execution_count": 46,
     "metadata": {},
     "output_type": "execute_result"
    }
   ],
   "source": [
    "# now back to our dataset\n",
    "# Scale the data that we are going to use for clustering\n",
    "scaled_data = scale(X)\n",
    "scaled_data"
   ]
  },
  {
   "cell_type": "code",
   "execution_count": 48,
   "metadata": {},
   "outputs": [
    {
     "name": "stdout",
     "output_type": "stream",
     "text": [
      "scaled_data\n",
      "mean= [ 9.10952225e-17 -6.83214169e-17 -5.69345141e-18 -2.52646906e-17]\n",
      "std= [1. 1. 1. 1.]\n",
      "min= [-1.41761994 -1.41761994 -1.41761994 -1.41761994]\n",
      "max= [1.41308356 1.41308356 1.41308356 1.41308356]\n",
      "Not scaled_data\n",
      "mean= [3.00320513 3.00320513 3.00320513 3.00320513]\n",
      "std= [1.41307629 1.41307629 1.41307629 1.41307629]\n",
      "min= [1. 1. 1. 1.]\n",
      "max= [5. 5. 5. 5.]\n"
     ]
    }
   ],
   "source": [
    "# data vs. scaled_data\n",
    "X = np.array(X,dtype=np.float64)\n",
    "print(\"scaled_data\")\n",
    "print(\"mean=\",scaled_data.mean(axis=0))\n",
    "print(\"std=\",scaled_data.std(axis=0))\n",
    "print(\"min=\",scaled_data.min(axis=0))\n",
    "print(\"max=\",scaled_data.max(axis=0))\n",
    "print(\"Not scaled_data\")\n",
    "print(\"mean=\",X.mean(axis=0))\n",
    "print(\"std=\",X.std(axis=0))\n",
    "print(\"min=\",X.min(axis=0))\n",
    "print(\"max=\",X.max(axis=0))"
   ]
  },
  {
   "cell_type": "code",
   "execution_count": 50,
   "metadata": {},
   "outputs": [
    {
     "ename": "TypeError",
     "evalue": "AgglomerativeClustering.__init__() got an unexpected keyword argument 'affinity'",
     "output_type": "error",
     "traceback": [
      "\u001b[1;31m---------------------------------------------------------------------------\u001b[0m",
      "\u001b[1;31mTypeError\u001b[0m                                 Traceback (most recent call last)",
      "Cell \u001b[1;32mIn[50], line 13\u001b[0m\n\u001b[0;32m     10\u001b[0m n_samples, n_features \u001b[38;5;241m=\u001b[39m scaled_data\u001b[38;5;241m.\u001b[39mshape\n\u001b[0;32m     11\u001b[0m n_digits \u001b[38;5;241m=\u001b[39m \u001b[38;5;28mlen\u001b[39m(np\u001b[38;5;241m.\u001b[39munique(Y))\n\u001b[1;32m---> 13\u001b[0m model \u001b[38;5;241m=\u001b[39m cluster\u001b[38;5;241m.\u001b[39mAgglomerativeClustering(n_clusters\u001b[38;5;241m=\u001b[39mn_digits, linkage\u001b[38;5;241m=\u001b[39m\u001b[38;5;124m\"\u001b[39m\u001b[38;5;124maverage\u001b[39m\u001b[38;5;124m\"\u001b[39m, affinity\u001b[38;5;241m=\u001b[39m\u001b[38;5;124m\"\u001b[39m\u001b[38;5;124mcosine\u001b[39m\u001b[38;5;124m\"\u001b[39m)\n\u001b[0;32m     14\u001b[0m model\u001b[38;5;241m.\u001b[39mfit(scaled_data)\n\u001b[0;32m     16\u001b[0m \u001b[38;5;66;03m#Silhouette refers to a method of interpretation and validation of consistency within clusters of data\u001b[39;00m\n",
      "\u001b[1;31mTypeError\u001b[0m: AgglomerativeClustering.__init__() got an unexpected keyword argument 'affinity'"
     ]
    }
   ],
   "source": [
    "# We know that there are 3 possible categories for the data. \n",
    "# Create 3 data clusters using Agglomerative Hierarchical Clustering. \n",
    "# What are the silhouette score, homogeneity and completeness for these clusters? \n",
    "# (Helping hand, if you need to convert labels from strings to something else look at sklearn.preprocessing.LabelEncoder())\n",
    "\n",
    "#from sklearn import cluster\n",
    "from sklearn.preprocessing import LabelEncoder\n",
    "Y2 = LabelEncoder().fit_transform(Y)\n",
    "\n",
    "n_samples, n_features = scaled_data.shape\n",
    "n_digits = len(np.unique(Y))\n",
    "\n",
    "model = cluster.AgglomerativeClustering(n_clusters=n_digits, linkage=\"average\", affinity=\"cosine\")\n",
    "model.fit(scaled_data)\n",
    "\n",
    "#Silhouette refers to a method of interpretation and validation of consistency within clusters of data\n",
    "print(\"silhouette_score = \", metrics.silhouette_score(scaled_data, model.labels_))\n",
    "\n",
    "#all of the data points that we have of the same class are elements of the same cluster\n",
    "print(\"completeness_score = \", metrics.completeness_score(Y2, model.labels_))\n",
    "# all of the clusters contain only data points, which are members of a single class\n",
    "print(\"homogeneity_score = \", metrics.homogeneity_score(Y2, model.labels_))"
   ]
  },
  {
   "cell_type": "code",
   "execution_count": 52,
   "metadata": {},
   "outputs": [
    {
     "name": "stdout",
     "output_type": "stream",
     "text": [
      "['R' 'R' 'R' 'R' 'R' 'R' 'R' 'R' 'R' 'R' 'R' 'R' 'R' 'R' 'R' 'R' 'R' 'R'\n",
      " 'R' 'R' 'R' 'R' 'R' 'R' 'L' 'B' 'R' 'R' 'R' 'B' 'R' 'R' 'R' 'R' 'R' 'R'\n",
      " 'R' 'R' 'R' 'R' 'R' 'R' 'R' 'R' 'R' 'R' 'R' 'R' 'R' 'L' 'L' 'B' 'R' 'R'\n",
      " 'L' 'R' 'R' 'R' 'R' 'B' 'R' 'R' 'R' 'R' 'R' 'R' 'R' 'R' 'R' 'R' 'R' 'R'\n",
      " 'R' 'R' 'L' 'L' 'L' 'B' 'R' 'L' 'B' 'R' 'R' 'R' 'L' 'R' 'R' 'R' 'R' 'B'\n",
      " 'R' 'R' 'R' 'R' 'R' 'R' 'R' 'R' 'R' 'L' 'L' 'L' 'L' 'B' 'L' 'L' 'R' 'R'\n",
      " 'R' 'L' 'R' 'R' 'R' 'R' 'L' 'R' 'R' 'R' 'R' 'B' 'R' 'R' 'R' 'R' 'L' 'B'\n",
      " 'R' 'R' 'R' 'B' 'R' 'R' 'R' 'R' 'R' 'R' 'R' 'R' 'R' 'R' 'R' 'R' 'R' 'R'\n",
      " 'R' 'R' 'R' 'R' 'R' 'L' 'L' 'L' 'B' 'R' 'L' 'B' 'R' 'R' 'R' 'L' 'R' 'R'\n",
      " 'R' 'R' 'B' 'R' 'R' 'R' 'R' 'R' 'R' 'R' 'R' 'R' 'L' 'L' 'L' 'L' 'L' 'L'\n",
      " 'L' 'B' 'R' 'R' 'L' 'B' 'R' 'R' 'R' 'L' 'R' 'R' 'R' 'R' 'L' 'R' 'R' 'R'\n",
      " 'R' 'L' 'L' 'L' 'L' 'L' 'L' 'L' 'L' 'B' 'R' 'L' 'L' 'R' 'R' 'R' 'L' 'B'\n",
      " 'R' 'R' 'R' 'L' 'R' 'R' 'R' 'R' 'L' 'L' 'L' 'L' 'L' 'L' 'L' 'L' 'L' 'B'\n",
      " 'L' 'L' 'L' 'R' 'R' 'L' 'L' 'R' 'R' 'R' 'L' 'B' 'R' 'R' 'R' 'L' 'L' 'B'\n",
      " 'R' 'R' 'L' 'R' 'R' 'R' 'R' 'B' 'R' 'R' 'R' 'R' 'R' 'R' 'R' 'R' 'R' 'R'\n",
      " 'R' 'R' 'R' 'R' 'L' 'L' 'L' 'L' 'L' 'L' 'L' 'B' 'R' 'R' 'L' 'B' 'R' 'R'\n",
      " 'R' 'L' 'R' 'R' 'R' 'R' 'L' 'R' 'R' 'R' 'R' 'L' 'L' 'L' 'L' 'L' 'L' 'L'\n",
      " 'L' 'L' 'R' 'L' 'L' 'B' 'R' 'R' 'L' 'L' 'R' 'R' 'R' 'L' 'R' 'R' 'R' 'R'\n",
      " 'L' 'L' 'L' 'L' 'L' 'L' 'L' 'L' 'L' 'L' 'L' 'L' 'L' 'B' 'R' 'L' 'L' 'B'\n",
      " 'R' 'R' 'L' 'L' 'R' 'R' 'R' 'L' 'L' 'L' 'L' 'L' 'L' 'L' 'L' 'L' 'L' 'L'\n",
      " 'L' 'L' 'L' 'B' 'L' 'L' 'L' 'R' 'R' 'L' 'L' 'B' 'R' 'R' 'L' 'L' 'L' 'B'\n",
      " 'R' 'L' 'B' 'R' 'R' 'R' 'L' 'R' 'R' 'R' 'R' 'B' 'R' 'R' 'R' 'R' 'R' 'R'\n",
      " 'R' 'R' 'R' 'L' 'L' 'L' 'L' 'L' 'L' 'L' 'L' 'B' 'R' 'L' 'L' 'R' 'R' 'R'\n",
      " 'L' 'B' 'R' 'R' 'R' 'L' 'R' 'R' 'R' 'R' 'L' 'L' 'L' 'L' 'L' 'L' 'L' 'L'\n",
      " 'L' 'L' 'L' 'L' 'L' 'B' 'R' 'L' 'L' 'B' 'R' 'R' 'L' 'L' 'R' 'R' 'R' 'L'\n",
      " 'L' 'L' 'L' 'L' 'L' 'L' 'L' 'L' 'L' 'L' 'L' 'L' 'L' 'L' 'L' 'L' 'L' 'B'\n",
      " 'R' 'L' 'L' 'L' 'R' 'R' 'L' 'L' 'L' 'L' 'L' 'L' 'L' 'L' 'L' 'L' 'L' 'L'\n",
      " 'L' 'L' 'L' 'L' 'L' 'L' 'L' 'B' 'L' 'L' 'L' 'B' 'R' 'L' 'L' 'L' 'L' 'B'\n",
      " 'L' 'L' 'R' 'R' 'R' 'L' 'R' 'R' 'R' 'R' 'L' 'R' 'R' 'R' 'R' 'B' 'R' 'R'\n",
      " 'R' 'R' 'L' 'L' 'L' 'L' 'L' 'L' 'L' 'L' 'L' 'B' 'L' 'L' 'L' 'R' 'R' 'L'\n",
      " 'L' 'R' 'R' 'R' 'L' 'B' 'R' 'R' 'R' 'L' 'L' 'L' 'L' 'L' 'L' 'L' 'L' 'L'\n",
      " 'L' 'L' 'L' 'L' 'L' 'B' 'L' 'L' 'L' 'R' 'R' 'L' 'L' 'B' 'R' 'R' 'L' 'L'\n",
      " 'L' 'L' 'L' 'L' 'L' 'L' 'L' 'L' 'L' 'L' 'L' 'L' 'L' 'L' 'L' 'L' 'L' 'B'\n",
      " 'L' 'L' 'L' 'B' 'R' 'L' 'L' 'L' 'L' 'L' 'L' 'L' 'L' 'L' 'L' 'L' 'L' 'L'\n",
      " 'L' 'L' 'L' 'L' 'L' 'L' 'L' 'L' 'L' 'L' 'L' 'B']\n",
      "[2 2 2 2 2 2 2 2 2 2 2 2 2 2 2 2 2 2 2 2 2 2 2 2 1 0 2 2 2 0 2 2 2 2 2 2 2\n",
      " 2 2 2 2 2 2 2 2 2 2 2 2 1 1 0 2 2 1 2 2 2 2 0 2 2 2 2 2 2 2 2 2 2 2 2 2 2\n",
      " 1 1 1 0 2 1 0 2 2 2 1 2 2 2 2 0 2 2 2 2 2 2 2 2 2 1 1 1 1 0 1 1 2 2 2 1 2\n",
      " 2 2 2 1 2 2 2 2 0 2 2 2 2 1 0 2 2 2 0 2 2 2 2 2 2 2 2 2 2 2 2 2 2 2 2 2 2\n",
      " 2 1 1 1 0 2 1 0 2 2 2 1 2 2 2 2 0 2 2 2 2 2 2 2 2 2 1 1 1 1 1 1 1 0 2 2 1\n",
      " 0 2 2 2 1 2 2 2 2 1 2 2 2 2 1 1 1 1 1 1 1 1 0 2 1 1 2 2 2 1 0 2 2 2 1 2 2\n",
      " 2 2 1 1 1 1 1 1 1 1 1 0 1 1 1 2 2 1 1 2 2 2 1 0 2 2 2 1 1 0 2 2 1 2 2 2 2\n",
      " 0 2 2 2 2 2 2 2 2 2 2 2 2 2 2 1 1 1 1 1 1 1 0 2 2 1 0 2 2 2 1 2 2 2 2 1 2\n",
      " 2 2 2 1 1 1 1 1 1 1 1 1 2 1 1 0 2 2 1 1 2 2 2 1 2 2 2 2 1 1 1 1 1 1 1 1 1\n",
      " 1 1 1 1 0 2 1 1 0 2 2 1 1 2 2 2 1 1 1 1 1 1 1 1 1 1 1 1 1 1 0 1 1 1 2 2 1\n",
      " 1 0 2 2 1 1 1 0 2 1 0 2 2 2 1 2 2 2 2 0 2 2 2 2 2 2 2 2 2 1 1 1 1 1 1 1 1\n",
      " 0 2 1 1 2 2 2 1 0 2 2 2 1 2 2 2 2 1 1 1 1 1 1 1 1 1 1 1 1 1 0 2 1 1 0 2 2\n",
      " 1 1 2 2 2 1 1 1 1 1 1 1 1 1 1 1 1 1 1 1 1 1 1 0 2 1 1 1 2 2 1 1 1 1 1 1 1\n",
      " 1 1 1 1 1 1 1 1 1 1 1 1 0 1 1 1 0 2 1 1 1 1 0 1 1 2 2 2 1 2 2 2 2 1 2 2 2\n",
      " 2 0 2 2 2 2 1 1 1 1 1 1 1 1 1 0 1 1 1 2 2 1 1 2 2 2 1 0 2 2 2 1 1 1 1 1 1\n",
      " 1 1 1 1 1 1 1 1 0 1 1 1 2 2 1 1 0 2 2 1 1 1 1 1 1 1 1 1 1 1 1 1 1 1 1 1 1\n",
      " 1 0 1 1 1 0 2 1 1 1 1 1 1 1 1 1 1 1 1 1 1 1 1 1 1 1 1 1 1 1 1 0]\n"
     ]
    },
    {
     "ename": "NameError",
     "evalue": "name 'model' is not defined",
     "output_type": "error",
     "traceback": [
      "\u001b[1;31m---------------------------------------------------------------------------\u001b[0m",
      "\u001b[1;31mNameError\u001b[0m                                 Traceback (most recent call last)",
      "Cell \u001b[1;32mIn[52], line 3\u001b[0m\n\u001b[0;32m      1\u001b[0m \u001b[38;5;28mprint\u001b[39m(Y)\n\u001b[0;32m      2\u001b[0m \u001b[38;5;28mprint\u001b[39m(Y2)\n\u001b[1;32m----> 3\u001b[0m \u001b[38;5;28mprint\u001b[39m(model\u001b[38;5;241m.\u001b[39mlabels_)\n",
      "\u001b[1;31mNameError\u001b[0m: name 'model' is not defined"
     ]
    }
   ],
   "source": [
    "print(Y)\n",
    "print(Y2)\n",
    "print(model.labels_)"
   ]
  },
  {
   "cell_type": "code",
   "execution_count": 54,
   "metadata": {},
   "outputs": [
    {
     "name": "stdout",
     "output_type": "stream",
     "text": [
      "euclidean ward\n"
     ]
    },
    {
     "ename": "TypeError",
     "evalue": "AgglomerativeClustering.__init__() got an unexpected keyword argument 'affinity'",
     "output_type": "error",
     "traceback": [
      "\u001b[1;31m---------------------------------------------------------------------------\u001b[0m",
      "\u001b[1;31mTypeError\u001b[0m                                 Traceback (most recent call last)",
      "Cell \u001b[1;32mIn[54], line 19\u001b[0m\n\u001b[0;32m     17\u001b[0m \u001b[38;5;28;01melse\u001b[39;00m:\n\u001b[0;32m     18\u001b[0m     \u001b[38;5;28mprint\u001b[39m(a,l)\n\u001b[1;32m---> 19\u001b[0m     model \u001b[38;5;241m=\u001b[39m cluster\u001b[38;5;241m.\u001b[39mAgglomerativeClustering(n_clusters\u001b[38;5;241m=\u001b[39mn_digits, linkage\u001b[38;5;241m=\u001b[39ml, affinity\u001b[38;5;241m=\u001b[39ma)\n\u001b[0;32m     20\u001b[0m     model\u001b[38;5;241m.\u001b[39mfit(scaled_data)\n\u001b[0;32m     21\u001b[0m     \u001b[38;5;28mprint\u001b[39m(\u001b[38;5;124m\"\u001b[39m\u001b[38;5;124msilhouette_score = \u001b[39m\u001b[38;5;124m\"\u001b[39m, metrics\u001b[38;5;241m.\u001b[39msilhouette_score(scaled_data, model\u001b[38;5;241m.\u001b[39mlabels_))\n",
      "\u001b[1;31mTypeError\u001b[0m: AgglomerativeClustering.__init__() got an unexpected keyword argument 'affinity'"
     ]
    }
   ],
   "source": [
    "# What are the impact of different distance and affinity measures on the silhouette score, homogeneity and \n",
    "# completeness for these clusters \n",
    "# (options available at http://scikit-learn.org/stable/modules/generated/sklearn.cluster.AgglomerativeClustering.html)? \n",
    "# What is the best combination?\n",
    "\n",
    "#from sklearn import cluster\n",
    "#from sklearn.preprocessing import LabelEncoder\n",
    "n_samples, n_features = scaled_data.shape\n",
    "n_digits = len(np.unique(Y))\n",
    "Y2 = LabelEncoder().fit_transform(Y)\n",
    "aff = [\"euclidean\", \"l1\", \"l2\", \"manhattan\", \"cosine\"]\n",
    "link = [\"ward\", \"complete\", \"average\"] \n",
    "for a in aff:\n",
    "    for l in link:\n",
    "        if(l==\"ward\" and a!=\"euclidean\"):\n",
    "           continue\n",
    "        else:\n",
    "            print(a,l)\n",
    "            model = cluster.AgglomerativeClustering(n_clusters=n_digits, linkage=l, affinity=a)\n",
    "            model.fit(scaled_data)\n",
    "            print(\"silhouette_score = \", metrics.silhouette_score(scaled_data, model.labels_))\n",
    "            print(\"completeness_score = \", metrics.completeness_score(Y2, model.labels_))\n",
    "            print(\"homogeneity_score = \", metrics.homogeneity_score(Y2, model.labels_))"
   ]
  },
  {
   "cell_type": "code",
   "execution_count": 56,
   "metadata": {
    "scrolled": true
   },
   "outputs": [
    {
     "ename": "TypeError",
     "evalue": "AgglomerativeClustering.__init__() got an unexpected keyword argument 'affinity'",
     "output_type": "error",
     "traceback": [
      "\u001b[1;31m---------------------------------------------------------------------------\u001b[0m",
      "\u001b[1;31mTypeError\u001b[0m                                 Traceback (most recent call last)",
      "Cell \u001b[1;32mIn[56], line 20\u001b[0m\n\u001b[0;32m     18\u001b[0m    \u001b[38;5;28;01mcontinue\u001b[39;00m\n\u001b[0;32m     19\u001b[0m \u001b[38;5;28;01melse\u001b[39;00m:\n\u001b[1;32m---> 20\u001b[0m     model \u001b[38;5;241m=\u001b[39m cluster\u001b[38;5;241m.\u001b[39mAgglomerativeClustering(n_clusters\u001b[38;5;241m=\u001b[39mn_digits, linkage\u001b[38;5;241m=\u001b[39ml, affinity\u001b[38;5;241m=\u001b[39ma)\n\u001b[0;32m     21\u001b[0m     model\u001b[38;5;241m.\u001b[39mfit(scaled_data)\n\u001b[0;32m     22\u001b[0m     result\u001b[38;5;241m.\u001b[39mappend([a,l,metrics\u001b[38;5;241m.\u001b[39msilhouette_score(scaled_data, model\u001b[38;5;241m.\u001b[39mlabels_),metrics\u001b[38;5;241m.\u001b[39mcompleteness_score(Y2, model\u001b[38;5;241m.\u001b[39mlabels_),metrics\u001b[38;5;241m.\u001b[39mhomogeneity_score(Y2, model\u001b[38;5;241m.\u001b[39mlabels_)])\n",
      "\u001b[1;31mTypeError\u001b[0m: AgglomerativeClustering.__init__() got an unexpected keyword argument 'affinity'"
     ]
    }
   ],
   "source": [
    "# What are the impact of different distance and affinity measures on the silhouette score, homogeneity and \n",
    "# completeness for these clusters \n",
    "# (options available at http://scikit-learn.org/stable/modules/generated/sklearn.cluster.AgglomerativeClustering.html)? \n",
    "# What is the best combination?\n",
    "\n",
    "#from sklearn import cluster\n",
    "#from sklearn.preprocessing import LabelEncoder\n",
    "\n",
    "n_samples, n_features = scaled_data.shape\n",
    "n_digits = len(np.unique(Y))\n",
    "Y2 = LabelEncoder().fit_transform(Y)\n",
    "aff = [\"euclidean\", \"l1\", \"l2\", \"manhattan\", \"cosine\"]\n",
    "link = [\"ward\", \"complete\", \"average\"] \n",
    "result = []\n",
    "for a in aff:\n",
    "    for l in link:\n",
    "        if(l==\"ward\" and a!=\"euclidean\"):\n",
    "           continue\n",
    "        else:\n",
    "            model = cluster.AgglomerativeClustering(n_clusters=n_digits, linkage=l, affinity=a)\n",
    "            model.fit(scaled_data)\n",
    "            result.append([a,l,metrics.silhouette_score(scaled_data, model.labels_),metrics.completeness_score(Y2, model.labels_),metrics.homogeneity_score(Y2, model.labels_)])\n",
    "maxI = -1\n",
    "maxV = 0\n",
    "for i in range(0,len(result)):\n",
    "  print(result[i])\n",
    "  if(result[i][2]>maxV):\n",
    "    maxV = result[i][2]\n",
    "    maxI = i\n",
    "print(\"Max silhouette_score: \", result[maxI])\n",
    "maxI = -1\n",
    "maxV = 0\n",
    "for i in range(0,len(result)):\n",
    "  #print(result[i])\n",
    "  if(result[i][3]>maxV):\n",
    "    maxV = result[i][3]\n",
    "    maxI = i\n",
    "print(\"Max completeness_score: \", result[maxI])\n",
    "maxI = -1\n",
    "maxV = 0\n",
    "for i in range(0,len(result)):\n",
    "  #print(result[i])\n",
    "  if(result[i][4]>maxV):\n",
    "    maxV = result[i][4]\n",
    "    maxI = i\n",
    "print(\"Max homogeneity_score: \", result[maxI])"
   ]
  },
  {
   "cell_type": "code",
   "execution_count": 58,
   "metadata": {
    "scrolled": true
   },
   "outputs": [
    {
     "ename": "TypeError",
     "evalue": "AgglomerativeClustering.__init__() got an unexpected keyword argument 'affinity'",
     "output_type": "error",
     "traceback": [
      "\u001b[1;31m---------------------------------------------------------------------------\u001b[0m",
      "\u001b[1;31mTypeError\u001b[0m                                 Traceback (most recent call last)",
      "Cell \u001b[1;32mIn[58], line 21\u001b[0m\n\u001b[0;32m     19\u001b[0m    \u001b[38;5;28;01mcontinue\u001b[39;00m\n\u001b[0;32m     20\u001b[0m \u001b[38;5;28;01melse\u001b[39;00m:\n\u001b[1;32m---> 21\u001b[0m     model \u001b[38;5;241m=\u001b[39m cluster\u001b[38;5;241m.\u001b[39mAgglomerativeClustering(n_clusters\u001b[38;5;241m=\u001b[39mi, linkage\u001b[38;5;241m=\u001b[39ml, affinity\u001b[38;5;241m=\u001b[39ma)\n\u001b[0;32m     22\u001b[0m     model\u001b[38;5;241m.\u001b[39mfit(scaled_data)\n\u001b[0;32m     23\u001b[0m     result\u001b[38;5;241m.\u001b[39mappend([a,l,i,metrics\u001b[38;5;241m.\u001b[39msilhouette_score(scaled_data, model\u001b[38;5;241m.\u001b[39mlabels_),metrics\u001b[38;5;241m.\u001b[39mcompleteness_score(Y2, model\u001b[38;5;241m.\u001b[39mlabels_),metrics\u001b[38;5;241m.\u001b[39mhomogeneity_score(Y2, model\u001b[38;5;241m.\u001b[39mlabels_)])\n",
      "\u001b[1;31mTypeError\u001b[0m: AgglomerativeClustering.__init__() got an unexpected keyword argument 'affinity'"
     ]
    }
   ],
   "source": [
    "# What are the impact of different distance and affinity measures on the silhouette score, homogeneity and \n",
    "# completeness for these clusters \n",
    "# (options available at http://scikit-learn.org/stable/modules/generated/sklearn.cluster.AgglomerativeClustering.html)? \n",
    "# What is the best combination?\n",
    "\n",
    "#from sklearn import cluster\n",
    "#from sklearn.preprocessing import LabelEncoder\n",
    "\n",
    "n_samples, n_features = scaled_data.shape\n",
    "n_digits = len(np.unique(Y))\n",
    "Y2 = LabelEncoder().fit_transform(Y)\n",
    "aff = [\"euclidean\", \"l1\", \"l2\", \"manhattan\", \"cosine\"]\n",
    "link = [\"ward\", \"complete\", \"average\"]\n",
    "result = []\n",
    "for a in aff:\n",
    "    for l in link:\n",
    "      for i in range(2,10):\n",
    "        if(l==\"ward\" and a!=\"euclidean\"):\n",
    "           continue\n",
    "        else:\n",
    "            model = cluster.AgglomerativeClustering(n_clusters=i, linkage=l, affinity=a)\n",
    "            model.fit(scaled_data)\n",
    "            result.append([a,l,i,metrics.silhouette_score(scaled_data, model.labels_),metrics.completeness_score(Y2, model.labels_),metrics.homogeneity_score(Y2, model.labels_)])\n",
    "maxI = -1\n",
    "maxV = 0\n",
    "for i in range(0,len(result)):\n",
    "  #print(result[i])\n",
    "  if(result[i][3]>maxV):\n",
    "    maxV = result[i][3]\n",
    "    maxI = i\n",
    "print(\"Max silhouette_score: \", result[maxI])"
   ]
  },
  {
   "cell_type": "code",
   "execution_count": 60,
   "metadata": {},
   "outputs": [
    {
     "name": "stdout",
     "output_type": "stream",
     "text": [
      "2\n",
      "silhouette_score =  0.18116503259926883\n",
      "completeness_score =  0.08038704725069093\n",
      "homogeneity_score =  0.061146122156766396\n",
      "3\n",
      "silhouette_score =  0.1744663216486939\n",
      "completeness_score =  0.10837069818225858\n",
      "homogeneity_score =  0.1294045181811919\n",
      "4\n",
      "silhouette_score =  0.19094694881223143\n",
      "completeness_score =  0.10431759351112316\n",
      "homogeneity_score =  0.15873055347711487\n"
     ]
    },
    {
     "name": "stderr",
     "output_type": "stream",
     "text": [
      "C:\\Users\\User\\anaconda3\\Lib\\site-packages\\sklearn\\cluster\\_kmeans.py:1429: UserWarning: KMeans is known to have a memory leak on Windows with MKL, when there are less chunks than available threads. You can avoid it by setting the environment variable OMP_NUM_THREADS=3.\n",
      "  warnings.warn(\n",
      "C:\\Users\\User\\anaconda3\\Lib\\site-packages\\sklearn\\cluster\\_kmeans.py:1429: UserWarning: KMeans is known to have a memory leak on Windows with MKL, when there are less chunks than available threads. You can avoid it by setting the environment variable OMP_NUM_THREADS=3.\n",
      "  warnings.warn(\n",
      "C:\\Users\\User\\anaconda3\\Lib\\site-packages\\sklearn\\cluster\\_kmeans.py:1429: UserWarning: KMeans is known to have a memory leak on Windows with MKL, when there are less chunks than available threads. You can avoid it by setting the environment variable OMP_NUM_THREADS=3.\n",
      "  warnings.warn(\n"
     ]
    }
   ],
   "source": [
    "# What are the silhouette score, homogeneity and completeness for different numbers of clusters created using KMeans?\n",
    "#from sklearn import cluster\n",
    "#from sklearn.preprocessing import LabelEncoder\n",
    "n_samples, n_features = scaled_data.shape\n",
    "n_digits = len(np.unique(Y))\n",
    "Y2 = LabelEncoder().fit_transform(Y)\n",
    "for k in range(2, 5):\n",
    "    kmeans = cluster.KMeans(n_clusters=k)\n",
    "    kmeans.fit(scaled_data)\n",
    "    print(k)\n",
    "    print(\"silhouette_score = \", metrics.silhouette_score(scaled_data, kmeans.labels_))\n",
    "    print(\"completeness_score = \", metrics.completeness_score(Y2, kmeans.labels_))\n",
    "    print(\"homogeneity_score = \", metrics.homogeneity_score(Y2, kmeans.labels_))"
   ]
  },
  {
   "cell_type": "code",
   "execution_count": 62,
   "metadata": {},
   "outputs": [
    {
     "data": {
      "image/png": "[encoded data removed]",
      "text/plain": [
       "<Figure size 1000x500 with 1 Axes>"
      ]
     },
     "metadata": {},
     "output_type": "display_data"
    }
   ],
   "source": [
    "# dendrogram\n",
    "from scipy.cluster import hierarchy\n",
    "import matplotlib.pyplot as plt\n",
    "Z = hierarchy.linkage(X[0:20], 'complete')\n",
    "plt.figure(figsize=(10,5))\n",
    "dn = hierarchy.dendrogram(Z)\n",
    "plt.show()"
   ]
  },
  {
   "cell_type": "code",
   "execution_count": null,
   "metadata": {},
   "outputs": [],
   "source": []
  }
 ],
 "metadata": {
  "kernelspec": {
   "display_name": "Python 3 (ipykernel)",
   "language": "python",
   "name": "python3"
  },
  "language_info": {
   "codemirror_mode": {
    "name": "ipython",
    "version": 3
   },
   "file_extension": ".py",
   "mimetype": "text/x-python",
   "name": "python",
   "nbconvert_exporter": "python",
   "pygments_lexer": "ipython3",
   "version": "3.12.7"
  }
 },
 "nbformat": 4,
 "nbformat_minor": 4
}

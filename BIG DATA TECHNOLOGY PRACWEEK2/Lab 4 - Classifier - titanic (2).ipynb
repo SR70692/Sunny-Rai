{
 "cells": [
  {
   "cell_type": "code",
   "execution_count": null,
   "metadata": {},
   "outputs": [],
   "source": [
    "# import libraries\n",
    "import pandas as pd\n",
    "import sklearn\n",
    "assert sklearn.__version__ >= \".20\""
   ]
  },
  {
   "cell_type": "code",
   "execution_count": null,
   "metadata": {},
   "outputs": [],
   "source": [
    "# read dataset\n",
    "titanicDataset = pd.read_csv(\"train.csv\")"
   ]
  },
  {
   "cell_type": "code",
   "execution_count": null,
   "metadata": {},
   "outputs": [],
   "source": [
    "titanicDataset"
   ]
  },
  {
   "cell_type": "code",
   "execution_count": null,
   "metadata": {},
   "outputs": [],
   "source": [
    "# Drop categorical columns and drop NA\n",
    "titanicDatasetUpdated = titanicDataset.drop(['PassengerId','Name','Ticket','Cabin','Embarked'],axis=1)\n",
    "titanicDatasetUpdated['Sex'] = titanicDatasetUpdated['Sex'].replace(['male','female'],[0,1])\n",
    "titanicDatasetUpdated = titanicDatasetUpdated.dropna()\n",
    "print(titanicDatasetUpdated)"
   ]
  },
  {
   "cell_type": "code",
   "execution_count": null,
   "metadata": {},
   "outputs": [],
   "source": [
    "# segment dataset\n",
    "data = titanicDatasetUpdated.values[:,1:7]\n",
    "print(data)"
   ]
  },
  {
   "cell_type": "code",
   "execution_count": null,
   "metadata": {},
   "outputs": [],
   "source": [
    "# segment dataset\n",
    "target = titanicDatasetUpdated.values[:,0]\n",
    "print(target)"
   ]
  },
  {
   "cell_type": "code",
   "execution_count": null,
   "metadata": {},
   "outputs": [],
   "source": [
    "from sklearn.linear_model import LogisticRegression\n",
    "X_train, X_test, Y_train, Y_test = sklearn.model_selection.train_test_split(data, target, test_size=0.30)\n",
    "lm = LogisticRegression()\n",
    "lm.fit(X_train, Y_train)\n",
    "lm.predict_proba(X_test)\n",
    "predicted = lm.predict(X_test)"
   ]
  },
  {
   "cell_type": "code",
   "execution_count": null,
   "metadata": {},
   "outputs": [],
   "source": [
    "# Print Confusion Matrix\n",
    "from sklearn import metrics\n",
    "confusionMatrix = metrics.confusion_matrix(Y_test, predicted)\n",
    "print(confusionMatrix)"
   ]
  },
  {
   "cell_type": "code",
   "execution_count": null,
   "metadata": {},
   "outputs": [],
   "source": [
    "import seaborn as sns\n",
    "import matplotlib.pyplot as plt # for data visualization\n",
    "# Print Confusion Matrix with seaborn\n",
    "ax = sns.heatmap(confusionMatrix, annot=True, fmt='.0f')\n",
    "plt.title('Confusion Matrix', fontsize = 20) # title with fontsize 20\n",
    "plt.xlabel('Predicted values', fontsize = 15) # x-axis label with fontsize 15\n",
    "plt.ylabel('True values', fontsize = 15) # y-axis label with fontsize 15\n",
    "plt.show()"
   ]
  },
  {
   "cell_type": "code",
   "execution_count": null,
   "metadata": {},
   "outputs": [],
   "source": [
    "# Print Confusion Matrix with seaborn\n",
    "import numpy as np\n",
    "ax = sns.heatmap(confusionMatrix / np.sum(confusionMatrix), annot=True, fmt='.2%', cmap='Blues')\n",
    "plt.title('Confusion Matrix', fontsize = 20) # title with fontsize 20\n",
    "plt.xlabel('Predicted values', fontsize = 15) # x-axis label with fontsize 15\n",
    "plt.ylabel('True values', fontsize = 15) # y-axis label with fontsize 15\n",
    "plt.show()"
   ]
  },
  {
   "cell_type": "code",
   "execution_count": null,
   "metadata": {},
   "outputs": [],
   "source": [
    "# Print Classification Report\n",
    "print(metrics.classification_report(Y_test, predicted))"
   ]
  },
  {
   "cell_type": "code",
   "execution_count": null,
   "metadata": {},
   "outputs": [],
   "source": []
  }
 ],
 "metadata": {
  "anaconda-cloud": {},
  "kernelspec": {
   "display_name": "Python 3 (ipykernel)",
   "language": "python",
   "name": "python3"
  },
  "language_info": {
   "codemirror_mode": {
    "name": "ipython",
    "version": 3
   },
   "file_extension": ".py",
   "mimetype": "text/x-python",
   "name": "python",
   "nbconvert_exporter": "python",
   "pygments_lexer": "ipython3",
   "version": "3.9.7"
  }
 },
 "nbformat": 4,
 "nbformat_minor": 1
}

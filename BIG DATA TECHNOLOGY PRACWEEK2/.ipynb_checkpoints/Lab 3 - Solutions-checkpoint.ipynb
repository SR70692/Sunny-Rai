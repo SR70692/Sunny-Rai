{
 "cells": [
  {
   "cell_type": "code",
   "execution_count": null,
   "metadata": {},
   "outputs": [],
   "source": [
    "# Import the necessary libraries (numpy, pandas, matplotlib and seaborn)\n",
    "import pandas as pd\n",
    "import numpy as np\n",
    "import seaborn as sns\n",
    "import matplotlib.pyplot as plt"
   ]
  },
  {
   "cell_type": "code",
   "execution_count": null,
   "metadata": {},
   "outputs": [],
   "source": [
    "# Import the Titanic dataset available at https://www.kaggle.com/c/titanic/data (it is train.csv that you want)\n",
    "titanic = pd.read_csv(\"train.csv\") #in the folder datasets located in the same folder as the python .ipynb "
   ]
  },
  {
   "cell_type": "code",
   "execution_count": null,
   "metadata": {},
   "outputs": [],
   "source": [
    "titanic"
   ]
  },
  {
   "cell_type": "code",
   "execution_count": null,
   "metadata": {},
   "outputs": [],
   "source": [
    "temp = titanic[['Survived','Name']]\n",
    "temp"
   ]
  },
  {
   "cell_type": "code",
   "execution_count": null,
   "metadata": {},
   "outputs": [],
   "source": [
    "# Produce some box plots for numeric values in the dataset: outliers, min, 25%,50% - median, 75%, max, outliers\n",
    "titanic.PassengerId.plot(kind='box')\n",
    "plt.show()"
   ]
  },
  {
   "cell_type": "code",
   "execution_count": null,
   "metadata": {},
   "outputs": [],
   "source": [
    "titanic.Age.plot(kind='box', grid='True')\n",
    "plt.show()"
   ]
  },
  {
   "cell_type": "code",
   "execution_count": null,
   "metadata": {},
   "outputs": [],
   "source": [
    "# Produce some box plots for numeric values in the dataset: outliers, min, 25%,50% - median, 75%, max, outliers\n",
    "titanic.plot(kind='box', grid='True', figsize=(10, 7))\n",
    "plt.show()"
   ]
  },
  {
   "cell_type": "code",
   "execution_count": null,
   "metadata": {},
   "outputs": [],
   "source": [
    "# Produce some box plots for numeric values in the dataset: outliers, min, 25%,50% - median, 75%, max, outliers\n",
    "titanic.plot(kind='box', subplots=True, grid='True', figsize=(15, 7))\n",
    "plt.show()"
   ]
  },
  {
   "cell_type": "code",
   "execution_count": null,
   "metadata": {},
   "outputs": [],
   "source": [
    "# Produce some box plots for numeric values in the dataset: outliers, min, 25%,50% - median, 75%, max, outliers\n",
    "titanic.plot(kind='box', subplots=True, layout=(3,3), grid='True', figsize=(15, 10))\n",
    "plt.show()"
   ]
  },
  {
   "cell_type": "code",
   "execution_count": null,
   "metadata": {},
   "outputs": [],
   "source": [
    "titanic.SibSp.value_counts()"
   ]
  },
  {
   "cell_type": "code",
   "execution_count": null,
   "metadata": {},
   "outputs": [],
   "source": [
    "# Plot a bar chart showing the number of survivors and fatalities. Include a title on the chart. 0 and 1??\n",
    "titanic['Survived'].value_counts().plot(kind='bar', title=\"Titanic survivor vs fatalities\")\n",
    "plt.show()"
   ]
  },
  {
   "cell_type": "code",
   "execution_count": null,
   "metadata": {},
   "outputs": [],
   "source": [
    "# Replace Values in DataFrame\n",
    "titanic['Survived'] = titanic['Survived'].replace([0,1],['No','Yes'])\n",
    "\n",
    "# you can also revert the values back to [0, 1] as below\n",
    "#titanic['Survived'] = titanic['Survived'].replace(['No','Yes'],[0,1])"
   ]
  },
  {
   "cell_type": "code",
   "execution_count": null,
   "metadata": {},
   "outputs": [],
   "source": [
    "# Plot a bar chart showing the number of survivors and fatalities. Include a title on the chart. 0 and 1??\n",
    "titanic['Survived'].value_counts().plot(kind='bar', title=\"Titanic survivor vs fatalities\")\n",
    "plt.show()"
   ]
  },
  {
   "cell_type": "code",
   "execution_count": null,
   "metadata": {},
   "outputs": [],
   "source": [
    "# Produce a horizontal bar chart showing all passenger classes, ordered with smallest number at top and largest at bottom\n",
    "ttt = titanic['Pclass'].value_counts().sort_values(ascending=True).plot.barh()\n",
    "plt.title('Passenger classes')\n",
    "plt.show()"
   ]
  },
  {
   "cell_type": "code",
   "execution_count": null,
   "metadata": {},
   "outputs": [],
   "source": [
    "# Produce a density plot for number of siblings (SibSp)\n",
    "# A Density Plot visualises the distribution of data over a continuous interval or time period. \n",
    "# It will allow for smoother distributions by smoothing out the noise. \n",
    "# The peaks of a Density Plot help display where values are concentrated over the interval.\n",
    "# https://towardsdatascience.com/histograms-and-density-plots-in-python-f6bda88f5ac0\n",
    "titanic['SibSp'].plot.density(figsize=(10, 5))\n",
    "plt.show()"
   ]
  },
  {
   "cell_type": "code",
   "execution_count": null,
   "metadata": {},
   "outputs": [],
   "source": [
    "# Produce a stacked bar chart showing the number of each gender in each passenger class\n",
    "titanic.groupby(['Pclass','Sex']).size().unstack().plot(kind='bar')\n",
    "plt.show()"
   ]
  },
  {
   "cell_type": "code",
   "execution_count": null,
   "metadata": {},
   "outputs": [],
   "source": [
    "# Produce a stacked bar chart showing the number of each gender in each passenger class\n",
    "titanic.groupby(['Pclass','Sex']).size().unstack().plot(kind='bar', stacked=True, grid=True)\n",
    "\n",
    "# to annotate the graph, we can add the values manually, but we will have to do it for each part of the graph (annoying a bit)\n",
    "plt.text(0,50,'94', ha='center', va='center')\n",
    "plt.text(0,160,'120', ha='center', va='center')\n",
    "plt.show()"
   ]
  },
  {
   "cell_type": "code",
   "execution_count": null,
   "metadata": {},
   "outputs": [],
   "source": [
    "# Save the chart that's drawn\n",
    "testChart = titanic.groupby(['Pclass','Sex']).size().unstack().plot(kind='bar', stacked=True, figsize=(10, 5))\n",
    "# .patches is everything inside of the chart, lines and rectangles and circles and stuff. In this case we only have rectangles!\n",
    "for rect in testChart.patches:\n",
    "    # Find where everything is located\n",
    "    height = rect.get_height()\n",
    "    width = rect.get_width()\n",
    "    x = rect.get_x()\n",
    "    y = rect.get_y()\n",
    "\n",
    "    # The Height of the bar is also not pixels, it's the count. So we can use it as the label!\n",
    "    label_text = height\n",
    "    \n",
    "    # ax.text(x, y, text)\n",
    "    label_x = x + width / 2\n",
    "    label_y = y + height / 2\n",
    "    testChart.text(label_x, label_y, label_text, ha='center', va='center')\n",
    "plt.show()"
   ]
  },
  {
   "cell_type": "code",
   "execution_count": null,
   "metadata": {},
   "outputs": [],
   "source": [
    "# We can write the annotation process in a function and call it later whenever needed\n",
    "def addLabels(chartUsed):\n",
    "    for rect in chartUsed.patches:\n",
    "        # Find where everything is located\n",
    "        height = rect.get_height()\n",
    "        width = rect.get_width()\n",
    "        x = rect.get_x()\n",
    "        y = rect.get_y()\n",
    "\n",
    "        # The Height of the bar is also not pixels, it's the count. So we can use it as the label!\n",
    "        label_text = height\n",
    "\n",
    "        # ax.text(x, y, text)\n",
    "        label_x = x + width / 2\n",
    "        label_y = y + height / 2\n",
    "        chartUsed.text(label_x, label_y, label_text, ha='center', va='center')"
   ]
  },
  {
   "cell_type": "code",
   "execution_count": null,
   "metadata": {},
   "outputs": [],
   "source": [
    "# Plot a bar chart showing the number of survivors and fatalities. Include a title on the chart. 0 and 1??\n",
    "tempGraph = titanic.Survived.value_counts().plot.bar(title=\"Titanic survivor vs fatalities\")\n",
    "addLabels(tempGraph) # this function can help adding labels on the plot, however you need to run the function first\n",
    "# this function is defined later on in this notebook\n",
    "plt.show()"
   ]
  },
  {
   "cell_type": "code",
   "execution_count": null,
   "metadata": {},
   "outputs": [],
   "source": [
    "# Plot a bar chart showing the number of survivors and fatalities. Include a title on the chart. 0 and 1??\n",
    "#titanic['Survived'].value_counts().plot(kind='bar', title=\"Titanic survivor vs fatalities\")\n",
    "tempGraph = titanic.Survived.value_counts().plot.bar(title=\"Titanic survivor vs fatalities\")\n",
    "addLabels(tempGraph) # this function can help adding labels on the plot, however you need to run the function first\n",
    "# this function is defined later on in this notebook\n",
    "plt.show()"
   ]
  },
  {
   "cell_type": "code",
   "execution_count": null,
   "metadata": {},
   "outputs": [],
   "source": [
    "# you can also add label for horizontal charts\n",
    "def addLabelsH(chartUsed):\n",
    "    for rect in chartUsed.patches:\n",
    "        # Find where everything is located\n",
    "        height = rect.get_height()\n",
    "        width = rect.get_width()\n",
    "        x = rect.get_x()\n",
    "        y = rect.get_y()\n",
    "\n",
    "        # The Height of the bar is also not pixels, it's the count. So we can use it as the label!\n",
    "        label_text = width\n",
    "\n",
    "        # ax.text(x, y, text)\n",
    "        label_x = x + width / 2\n",
    "        label_y = y + height / 2\n",
    "        chartUsed.text(label_x, label_y, label_text, ha='center', va='center')"
   ]
  },
  {
   "cell_type": "code",
   "execution_count": null,
   "metadata": {},
   "outputs": [],
   "source": [
    "# Produce a horizontal bar chart showing all passenger classes, ordered with smallest number at top and largest at bottom\n",
    "tempGraph = titanic['Pclass'].value_counts().sort_values(ascending=True).plot.barh()\n",
    "addLabelsH(tempGraph) # make sure to use the correct function, in this case the bars are horizontals so we need to use addLabelsH\n",
    "plt.title('Passenger classes')\n",
    "plt.show()"
   ]
  },
  {
   "cell_type": "code",
   "execution_count": null,
   "metadata": {},
   "outputs": [],
   "source": [
    "# Produce a heatmap showing the correlation between each numerical variable. What shows a strong correlation?\n",
    "corr = titanic.corr(numeric_only = True)\n",
    "sns.heatmap(corr)\n",
    "plt.show()"
   ]
  },
  {
   "cell_type": "code",
   "execution_count": null,
   "metadata": {},
   "outputs": [],
   "source": [
    "# Produce a single scatter plot showing age and passenger class as well as age and number of siblings, \n",
    "# different symbols should be used to represent the two different comparisons \n",
    "# filled_markers = ('o', 'v', '^', '<', '>', '8', 's', 'p', '*', 'h', 'H', 'D', 'd', 'P', 'X')\n",
    "# https://matplotlib.org/3.1.1/api/_as_gen/matplotlib.markers.MarkerStyle.html#matplotlib.markers.MarkerStyle\n",
    "fig, ax = plt.subplots(figsize=(10, 5))\n",
    "ax.scatter(titanic[\"Age\"], titanic[\"Pclass\"], color='g', marker='^')\n",
    "ax.scatter(titanic[\"Age\"], titanic[\"SibSp\"], color='y', marker = '*')\n",
    "plt.show()"
   ]
  },
  {
   "cell_type": "code",
   "execution_count": null,
   "metadata": {},
   "outputs": [],
   "source": []
  }
 ],
 "metadata": {
  "kernelspec": {
   "display_name": "Python 3 (ipykernel)",
   "language": "python",
   "name": "python3"
  },
  "language_info": {
   "codemirror_mode": {
    "name": "ipython",
    "version": 3
   },
   "file_extension": ".py",
   "mimetype": "text/x-python",
   "name": "python",
   "nbconvert_exporter": "python",
   "pygments_lexer": "ipython3",
   "version": "3.11.7"
  }
 },
 "nbformat": 4,
 "nbformat_minor": 4
}

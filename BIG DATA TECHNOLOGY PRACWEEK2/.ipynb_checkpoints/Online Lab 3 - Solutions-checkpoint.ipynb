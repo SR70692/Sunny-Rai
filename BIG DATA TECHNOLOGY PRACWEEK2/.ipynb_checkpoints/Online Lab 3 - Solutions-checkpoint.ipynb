{
 "cells": [
  {
   "cell_type": "code",
   "execution_count": null,
   "metadata": {},
   "outputs": [],
   "source": [
    "# 1.\tImport the necessary libraries (numpy, pandas, matplotlib and seaborn)\n",
    "import pandas as pd\n",
    "import numpy as np\n",
    "import seaborn as sns\n",
    "import matplotlib.pyplot as plt"
   ]
  },
  {
   "cell_type": "code",
   "execution_count": null,
   "metadata": {},
   "outputs": [],
   "source": [
    "# 2.\tImport the Titanic dataset available at https://www.kaggle.com/c/titanic/data (it is train.csv that you want)\n",
    "titanic = pd.read_csv(\"Datasets\\\\train.csv\") #in the folder datasets located in the same folder as the python .ipynb "
   ]
  },
  {
   "cell_type": "code",
   "execution_count": null,
   "metadata": {},
   "outputs": [],
   "source": [
    "titanic.dtypes"
   ]
  },
  {
   "cell_type": "code",
   "execution_count": null,
   "metadata": {},
   "outputs": [],
   "source": [
    "# 3.\tProduce some box plots for numeric values in the dataset: outliers, min, 25%,50% - median, 75%, max, outliers\n",
    "titanic.PassengerId.plot(kind='box')\n",
    "#titanic.PassengerId.plot(kind='box', grid='True')\n",
    "plt.show()"
   ]
  },
  {
   "cell_type": "code",
   "execution_count": null,
   "metadata": {},
   "outputs": [],
   "source": [
    "# 3.\tProduce some box plots for numeric values in the dataset: outliers, min, 25%,50% - median, 75%, max, outliers\n",
    "titanic.plot(kind='box', grid='True')\n",
    "plt.show()"
   ]
  },
  {
   "cell_type": "code",
   "execution_count": null,
   "metadata": {},
   "outputs": [],
   "source": [
    "# 3.\tProduce some box plots for numeric values in the dataset: outliers, min, 25%,50% - median, 75%, max, outliers\n",
    "titanic.plot(kind='box', subplots=True, grid='True')\n",
    "#titanic.plot(kind='box', subplots=True, layout=(3,3), grid='True', figsize=(15, 10))\n",
    "plt.show()"
   ]
  },
  {
   "cell_type": "code",
   "execution_count": null,
   "metadata": {},
   "outputs": [],
   "source": [
    "titanic.Age.value_counts()"
   ]
  },
  {
   "cell_type": "code",
   "execution_count": null,
   "metadata": {},
   "outputs": [],
   "source": [
    "# 4.\tPlot a bar chart showing the number of survivors and fatalities. Include a title on the chart. 0 and 1??\n",
    "#titanic['Survived'].value_counts().plot(kind='bar', title=\"Titanic survivor vs fatalities\")\n",
    "titanic['Survived'].value_counts().plot.bar()\n",
    "plt.title('Titanic survivor vs fatalities')\n",
    "plt.show()"
   ]
  },
  {
   "cell_type": "code",
   "execution_count": null,
   "metadata": {},
   "outputs": [],
   "source": [
    "# Replace Values in DataFrame\n",
    "titanic['Survived'] = titanic['Survived'].replace([0,1],['No','Yes'])\n",
    "#titanic['Survived'] = titanic['Survived'].replace(['No','Yes'],[0,1])"
   ]
  },
  {
   "cell_type": "code",
   "execution_count": null,
   "metadata": {},
   "outputs": [],
   "source": [
    "# 5.\tProduce a horizontal bar chart showing all passenger classes, ordered with smallest number at top and largest at bottom\n",
    "testChart = titanic['Pclass'].value_counts().sort_values(ascending=False).plot.barh()\n",
    "# .patches is everything inside of the chart, lines and rectangles and circles and stuff. In this case we only have rectangles!\n",
    "for rect in testChart.patches:\n",
    "    # Find where everything is located\n",
    "    height = rect.get_height()\n",
    "    width = rect.get_width()\n",
    "    x = rect.get_x()\n",
    "    y = rect.get_y()\n",
    "\n",
    "    # The width of the bar is also not pixels, it's the count. So we can use it as the label!\n",
    "    label_text = width\n",
    "    \n",
    "    # ax.text(x, y, text)\n",
    "    label_x = x + width / 2\n",
    "    label_y = y + height / 2\n",
    "    testChart.text(label_x, label_y, label_text, ha='center', va='center')\n",
    "plt.title('Passenger classes')\n",
    "plt.show()"
   ]
  },
  {
   "cell_type": "code",
   "execution_count": null,
   "metadata": {},
   "outputs": [],
   "source": [
    "# 6.\tProduce a density plot for number of siblings (SibSp)\n",
    "# A Density Plot visualises the distribution of data over a continuous interval or time period. \n",
    "# It will allow for smoother distributions by smoothing out the noise. \n",
    "# The peaks of a Density Plot help display where values are concentrated over the interval.\n",
    "# https://towardsdatascience.com/histograms-and-density-plots-in-python-f6bda88f5ac0\n",
    "titanic['SibSp'].plot.density(figsize=(10, 5))\n",
    "plt.show()"
   ]
  },
  {
   "cell_type": "code",
   "execution_count": null,
   "metadata": {},
   "outputs": [],
   "source": [
    "# 7.\tProduce a stacked bar chart showing the number of each gender in each passenger class\n",
    "titanic.groupby(['Pclass','Sex']).size().unstack().plot(kind='bar')\n",
    "plt.show()"
   ]
  },
  {
   "cell_type": "code",
   "execution_count": null,
   "metadata": {},
   "outputs": [],
   "source": [
    "# 7.\tProduce a stacked bar chart showing the number of each gender in each passenger class\n",
    "titanic.groupby(['Pclass','Sex']).size().unstack().plot(kind='bar', stacked=True)\n",
    "#plt.text(0,50,'94', ha='center', va='center')\n",
    "plt.show()"
   ]
  },
  {
   "cell_type": "code",
   "execution_count": null,
   "metadata": {},
   "outputs": [],
   "source": [
    "# Save the chart that's drawn\n",
    "testChart = titanic.groupby(['Pclass','Sex']).size().unstack().plot(kind='bar', stacked=True, figsize=(10, 5))\n",
    "# .patches is everything inside of the chart, lines and rectangles and circles and stuff. In this case we only have rectangles!\n",
    "for rect in testChart.patches:\n",
    "    # Find where everything is located\n",
    "    height = rect.get_height()\n",
    "    width = rect.get_width()\n",
    "    x = rect.get_x()\n",
    "    y = rect.get_y()\n",
    "\n",
    "    # The width of the bar is also not pixels, it's the count. So we can use it as the label!\n",
    "    label_text = height\n",
    "    \n",
    "    # ax.text(x, y, text)\n",
    "    label_x = x + width / 2\n",
    "    label_y = y + height / 2\n",
    "    testChart.text(label_x, label_y, label_text, ha='center', va='center')\n",
    "plt.show()"
   ]
  },
  {
   "cell_type": "code",
   "execution_count": null,
   "metadata": {},
   "outputs": [],
   "source": [
    "# 8.\tProduce a heatmap showing the correlation between each numerical variable. What shows a strong correlation?\n",
    "corr = titanic.corr()\n",
    "sns.heatmap(corr)\n",
    "plt.show()"
   ]
  },
  {
   "cell_type": "code",
   "execution_count": null,
   "metadata": {},
   "outputs": [],
   "source": [
    "# 9.\tProduce a single scatter plot showing age and passenger class as well as age and number of siblings, \n",
    "# different symbols should be used to represent the two different comparisons \n",
    "# filled_markers = ('o', 'v', '^', '<', '>', '8', 's', 'p', '*', 'h', 'H', 'D', 'd', 'P', 'X')\n",
    "# https://matplotlib.org/3.1.1/api/_as_gen/matplotlib.markers.MarkerStyle.html#matplotlib.markers.MarkerStyle\n",
    "fig, ax = plt.subplots(figsize=(10, 5))\n",
    "ax.scatter(titanic[\"Age\"], titanic[\"Pclass\"], color='g', marker='^')\n",
    "ax.scatter(titanic[\"Age\"], titanic[\"SibSp\"], color='y', marker = '*')\n",
    "plt.show()"
   ]
  },
  {
   "cell_type": "code",
   "execution_count": null,
   "metadata": {},
   "outputs": [],
   "source": []
  }
 ],
 "metadata": {
  "kernelspec": {
   "display_name": "Python 3",
   "language": "python",
   "name": "python3"
  },
  "language_info": {
   "codemirror_mode": {
    "name": "ipython",
    "version": 3
   },
   "file_extension": ".py",
   "mimetype": "text/x-python",
   "name": "python",
   "nbconvert_exporter": "python",
   "pygments_lexer": "ipython3",
   "version": "3.8.3"
  }
 },
 "nbformat": 4,
 "nbformat_minor": 4
}

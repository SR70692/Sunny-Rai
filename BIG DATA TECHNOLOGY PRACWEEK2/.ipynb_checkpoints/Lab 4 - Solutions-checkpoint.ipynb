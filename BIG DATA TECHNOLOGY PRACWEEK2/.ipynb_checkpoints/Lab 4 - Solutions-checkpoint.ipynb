{
 "cells": [
  {
   "cell_type": "code",
   "execution_count": null,
   "metadata": {},
   "outputs": [],
   "source": [
    "# Import the necessary libraries (numpy, pandas, scikit-learn packages metrics to start)\n",
    "import numpy as np\n",
    "import pandas as pd\n",
    "from sklearn import metrics"
   ]
  },
  {
   "cell_type": "code",
   "execution_count": null,
   "metadata": {},
   "outputs": [],
   "source": [
    "# Import the wine dataset available at https://archive.ics.uci.edu/ml/datasets/Wine\n",
    "wine = pd.read_csv(\"Datasets\\\\wine.data\", header=None) # in the folder datasets located in the same folder as the python .ipynb\n",
    "# header = none is used as the dataset doesn't have a header in the wine.data\n",
    "# of course more information about the columns are available online at https://archive.ics.uci.edu/ml/datasets/Wine"
   ]
  },
  {
   "cell_type": "code",
   "execution_count": null,
   "metadata": {},
   "outputs": [],
   "source": [
    "#wine vs. wine.values\n",
    "wine\n",
    "#wine.values"
   ]
  },
  {
   "cell_type": "code",
   "execution_count": null,
   "metadata": {},
   "outputs": [],
   "source": [
    "# Perform an exploratory data analysis (EDA) on the dataset to better understand its underlying structure and key features. \n",
    "# Typical steps in EDA include examining the data’s shape and structure, checking for missing values, \n",
    "# visualizing distributions, and identifying relationships between variables through basic statistical summaries and \n",
    "# visualizations like histograms, box plots, and scatter plots."
   ]
  },
  {
   "cell_type": "code",
   "execution_count": null,
   "metadata": {},
   "outputs": [],
   "source": [
    "# Segment the class of wine (first column) and remaining data (attributes) so we can use the attributes in our classifiers\n",
    "# Segment the outcome (first column) and remaining data (attributes) so we can use the attributes for clustering\n",
    "wineData = wine.values[:, 1:14] # remember that the last column 14 is actually excluded so only 1 to 13 will be selected\n",
    "wineTarget = wine.values[:,0] # we know that the true target is in the first column for this dataset"
   ]
  },
  {
   "cell_type": "code",
   "execution_count": null,
   "metadata": {},
   "outputs": [],
   "source": [
    "# once segmented, now we can print the data to check it\n",
    "print(wineData)\n",
    "\n",
    "# we can also print the target or the true values if needed\n",
    "print(wineTarget)\n",
    "\n",
    "# we can also print the unique values of the target\n",
    "# print(np.unique(wineTarget))"
   ]
  },
  {
   "cell_type": "code",
   "execution_count": null,
   "metadata": {},
   "outputs": [],
   "source": [
    "# split the dataset into two subsets: training and test set\n",
    "from sklearn import model_selection\n",
    "X_train, X_test, Y_train, Y_test = model_selection.train_test_split(wineData, wineTarget, test_size = 0.3)"
   ]
  },
  {
   "cell_type": "code",
   "execution_count": null,
   "metadata": {},
   "outputs": [],
   "source": [
    "# X_train, X_test, Y_train, Y_test\n",
    "print(X_train)\n",
    "#print(X_test)\n",
    "print(Y_train)\n",
    "#print(Y_test)"
   ]
  },
  {
   "cell_type": "code",
   "execution_count": null,
   "metadata": {
    "scrolled": true
   },
   "outputs": [],
   "source": [
    "# Create the following classifiers to predict the class of wine\n",
    "# i. Logistic regression\n",
    "# https://scikit-learn.org/stable/modules/generated/sklearn.linear_model.LogisticRegression.html\n",
    "# precision (also called positive predictive value) is the fraction of relevant instances among the retrieved instances\n",
    "# recall (also known as sensitivity) is the fraction of the total amount of relevant instances that were actually retrieved\n",
    "print(\"LOGISTIC REGRESSION\")\n",
    "print(\"**************************************\")\n",
    "from sklearn.linear_model import LogisticRegression\n",
    "lm = LogisticRegression()\n",
    "lm.fit(X_train, Y_train)\n",
    "predicted = lm.predict(X_test)\n",
    "print(metrics.classification_report(Y_test, predicted))\n",
    "print(metrics.confusion_matrix(Y_test, predicted))"
   ]
  },
  {
   "cell_type": "code",
   "execution_count": null,
   "metadata": {},
   "outputs": [],
   "source": [
    "# Create the following classifiers to predict the class of wine\n",
    "# K nearest neighbours\n",
    "print(\"\\n\\n K nearest neighbours\")\n",
    "print(\"**************************************\")\n",
    "from sklearn.neighbors import KNeighborsClassifier\n",
    "model = KNeighborsClassifier()\n",
    "model.fit(X_train, Y_train)\n",
    "print(model)\n",
    "predicted = model.predict(X_test)\n",
    "print(metrics.classification_report(Y_test, predicted))\n",
    "print(metrics.confusion_matrix(Y_test, predicted))"
   ]
  },
  {
   "cell_type": "code",
   "execution_count": null,
   "metadata": {},
   "outputs": [],
   "source": [
    "# Create the following classifiers to predict the class of wine\n",
    "# K nearest neighbours, with different parameters if needed\n",
    "print(\"\\n\\n K nearest neighbours - weights: distance\")\n",
    "print(\"**************************************\")\n",
    "from sklearn.neighbors import KNeighborsClassifier\n",
    "model = KNeighborsClassifier(weights='distance')\n",
    "model.fit(X_train, Y_train)\n",
    "print(model)\n",
    "predicted = model.predict(X_test)\n",
    "print(metrics.classification_report(Y_test, predicted))\n",
    "print(metrics.confusion_matrix(Y_test, predicted))"
   ]
  },
  {
   "cell_type": "code",
   "execution_count": null,
   "metadata": {},
   "outputs": [],
   "source": [
    "# Create the following classifiers to predict the class of wine\n",
    "# Decision tree\n",
    "# https://scikit-learn.org/stable/modules/generated/sklearn.tree.DecisionTreeClassifier.html\n",
    "print(\"\\nDecision Tree\")\n",
    "print(\"**************************************\")\n",
    "from sklearn.tree import DecisionTreeClassifier\n",
    "model = DecisionTreeClassifier()\n",
    "#model = DecisionTreeClassifier(criterion='entropy')\n",
    "model.fit(X_train, Y_train)\n",
    "print(model)\n",
    "predicted = model.predict(X_test)\n",
    "print(metrics.classification_report(Y_test, predicted))\n",
    "print(metrics.confusion_matrix(Y_test, predicted))"
   ]
  },
  {
   "cell_type": "code",
   "execution_count": null,
   "metadata": {},
   "outputs": [],
   "source": [
    "# 5. Create the following classifiers to predict the class of wine\n",
    "# iv. Naïve Bayes\n",
    "# https://scikit-learn.org/stable/modules/generated/sklearn.naive_bayes.GaussianNB.html\n",
    "print(\"\\nNaive Bayes\")\n",
    "print(\"**************************************\")\n",
    "from sklearn.naive_bayes import GaussianNB\n",
    "model = GaussianNB()\n",
    "model.fit(X_train, Y_train)\n",
    "print(model)\n",
    "predicted = model.predict(X_test)\n",
    "print(metrics.classification_report(Y_test, predicted))\n",
    "print(metrics.confusion_matrix(Y_test, predicted))"
   ]
  },
  {
   "cell_type": "code",
   "execution_count": null,
   "metadata": {},
   "outputs": [],
   "source": [
    "# once we have created the models, we can try to predict new cases using the models created\n",
    "newCases = [[14,2,2,15,110,2,2,0.5,1.5,4.8,1.2,4,1015],[13,1,1.5,14,120,3,1,0.3,1.3,4.1,1.7,5,1030]]\n",
    "predictedNewCases = model.predict(newCases)\n",
    "print(predictedNewCases)"
   ]
  },
  {
   "cell_type": "code",
   "execution_count": null,
   "metadata": {},
   "outputs": [],
   "source": [
    "newCases = [[14,2,2,15,110,2,2,0.5,1.5,4.8,1.2,4,1015],[13,1,1.5,14,120,3,1,0.3,1.3,4.1,1.7,5,1030]]\n",
    "Y_newCases = [1,1]\n",
    "predictedNewCases = model.predict(newCases)\n",
    "print(metrics.classification_report(Y_newCases, predictedNewCases))\n",
    "print(metrics.confusion_matrix(Y_newCases, predictedNewCases))"
   ]
  },
  {
   "cell_type": "code",
   "execution_count": null,
   "metadata": {},
   "outputs": [],
   "source": [
    "# The following is an example on how we can use KFold\n",
    "# https://scikit-learn.org/stable/modules/generated/sklearn.model_selection.KFold.html\n",
    "import numpy as np\n",
    "from sklearn.model_selection import KFold\n",
    "X = np.array([[1, 2], [3, 4], [1, 2], [3, 4],[1, 2], [3, 4], [1, 2], [3, 4]])\n",
    "y = np.array([1, 2, 1, 2, 1, 2, 1, 2])\n",
    "kf = KFold(n_splits=4)\n",
    "kf.get_n_splits(X)\n",
    "print(kf)\n",
    "#KFold(n_splits=2, random_state=None, shuffle=False)\n",
    "for train_index, test_index in kf.split(X):\n",
    "    print(\"TRAIN:\", train_index, \"TEST:\", test_index)\n",
    "    X_train, X_test = X[train_index], X[test_index]\n",
    "    y_train, y_test = y[train_index], y[test_index]"
   ]
  },
  {
   "cell_type": "code",
   "execution_count": null,
   "metadata": {},
   "outputs": [],
   "source": [
    "for train_index, test_index in kf.split(X):\n",
    "    X_train, X_test = X[train_index], X[test_index]\n",
    "    print(X_train)\n",
    "    y_train, y_test = y[train_index], y[test_index]\n",
    "    print(y_train)"
   ]
  },
  {
   "cell_type": "code",
   "execution_count": null,
   "metadata": {},
   "outputs": [],
   "source": [
    "# 4. Segment the data in a training and test set with a random KFold split\n",
    "from sklearn import model_selection\n",
    "#X_train, X_test, Y_train, Y_test = model_selection.train_test_split(wineData, wineTarget, test_size = 0.30)\n",
    "kf = KFold(n_splits=4)\n",
    "kf.get_n_splits(wineData)\n",
    "print(\"\\n\\n Naive Bayes\")\n",
    "print(\"**************************************\")\n",
    "from sklearn.naive_bayes import GaussianNB\n",
    "model = GaussianNB()\n",
    "uniqueTargets = np.unique(wineTarget)\n",
    "for train_index, test_index in kf.split(wineData):\n",
    "    #print(\"TRAIN:\", train_index, \"TEST:\", test_index)\n",
    "    X_train, X_test = wineData[train_index], wineData[test_index]\n",
    "    Y_train, Y_test = wineTarget[train_index], wineTarget[test_index]\n",
    "    model.partial_fit(X_train, Y_train, uniqueTargets)\n",
    "predicted = model.predict(wineData)\n",
    "print(metrics.classification_report(wineTarget, predicted))\n",
    "print(metrics.confusion_matrix(wineTarget, predicted))"
   ]
  },
  {
   "cell_type": "code",
   "execution_count": null,
   "metadata": {},
   "outputs": [],
   "source": []
  }
 ],
 "metadata": {
  "kernelspec": {
   "display_name": "Python 3 (ipykernel)",
   "language": "python",
   "name": "python3"
  },
  "language_info": {
   "codemirror_mode": {
    "name": "ipython",
    "version": 3
   },
   "file_extension": ".py",
   "mimetype": "text/x-python",
   "name": "python",
   "nbconvert_exporter": "python",
   "pygments_lexer": "ipython3",
   "version": "3.9.7"
  },
  "widgets": {
   "application/vnd.jupyter.widget-state+json": {
    "state": {},
    "version_major": 2,
    "version_minor": 0
   }
  }
 },
 "nbformat": 4,
 "nbformat_minor": 4
}

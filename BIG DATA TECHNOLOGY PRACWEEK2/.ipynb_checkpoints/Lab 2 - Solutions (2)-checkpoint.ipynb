{
 "cells": [
  {
   "cell_type": "code",
   "execution_count": null,
   "metadata": {},
   "outputs": [],
   "source": [
    "#Part 1: import libraries and display data\n",
    "# Import the necessary libraries (numpy and pandas)\n",
    "import numpy as np\n",
    "import pandas as pd"
   ]
  },
  {
   "cell_type": "code",
   "execution_count": null,
   "metadata": {},
   "outputs": [],
   "source": [
    "# Import the Pokemon dataset available at https://www.kaggle.com/alopez247/pokemon\n",
    "# first you need to download the dataset from the link and save in the same folder as the notebook\n",
    "pokemon = pd.read_csv(\"pokemon_alopez247.csv\") #in the same folder as the python .ipynb file\n",
    "# pokemon = pd.read_csv(\"Datasets\\\\pokemon_alopez247.csv\") #in the folder datasets located in the same folder as the python .ipynb file"
   ]
  },
  {
   "cell_type": "code",
   "execution_count": null,
   "metadata": {},
   "outputs": [],
   "source": [
    "# Print the variable pokemon\n",
    "pokemon"
   ]
  },
  {
   "cell_type": "code",
   "execution_count": null,
   "metadata": {},
   "outputs": [],
   "source": [
    "# Print the first 10 entries\n",
    "pokemon.head(10)\n",
    "# you can also print the last 10 entries\n",
    "#pokemon.tail(10)"
   ]
  },
  {
   "cell_type": "code",
   "execution_count": null,
   "metadata": {},
   "outputs": [],
   "source": [
    "# How many observations (row/index) and columns are there?\n",
    "datasetShapeO, datasetShapeR = pokemon.shape #tuple\n",
    "print(\"number of observations: \", datasetShapeO)\n",
    "print(\"number of columns: \", datasetShapeR)"
   ]
  },
  {
   "cell_type": "code",
   "execution_count": null,
   "metadata": {},
   "outputs": [],
   "source": [
    "# Print the names of all of the columns\n",
    "# this will print the list of columns\n",
    "pokemon.columns\n",
    "# this will also print the list of columns, but with their type\n",
    "# pokemon.dtypes"
   ]
  },
  {
   "cell_type": "code",
   "execution_count": null,
   "metadata": {},
   "outputs": [],
   "source": [
    "#Part 2: sort / groupby / agg / etc.\n",
    "# Import the necessary libraries (numpy and pandas)\n",
    "import numpy as np\n",
    "import pandas as pd"
   ]
  },
  {
   "cell_type": "code",
   "execution_count": null,
   "metadata": {},
   "outputs": [],
   "source": [
    "# Import the Pokemon dataset available at https://www.kaggle.com/alopez247/pokemon\n",
    "# first you need to download the dataset from the link and save in the same folder as the notebook\n",
    "pokemon = pd.read_csv(\"pokemon_alopez247.csv\") #in the same folder as the python .ipynb file\n",
    "# pokemon = pd.read_csv(\"Datasets\\\\pokemon_alopez247.csv\") #in the folder datasets located in the same folder as the python .ipynb file"
   ]
  },
  {
   "cell_type": "code",
   "execution_count": null,
   "metadata": {},
   "outputs": [],
   "source": [
    "# Print the variable pokemon\n",
    "pokemon"
   ]
  },
  {
   "cell_type": "code",
   "execution_count": null,
   "metadata": {},
   "outputs": [],
   "source": [
    "# Sort by attack power from high to low, descending\n",
    "# this will only show the feature Attack\n",
    "pokemon.Attack.sort_values(ascending=False)\n",
    "# pokemon[\"Attack\"].sort_values(ascending=False)"
   ]
  },
  {
   "cell_type": "code",
   "execution_count": null,
   "metadata": {},
   "outputs": [],
   "source": [
    "# This will display all the dataset but sorted according to the feature Attack\n",
    "pokemon.sort_values(['Attack'],ascending=True)"
   ]
  },
  {
   "cell_type": "code",
   "execution_count": null,
   "metadata": {},
   "outputs": [],
   "source": [
    "# Describe the dataset\n",
    "pokemon.describe()"
   ]
  },
  {
   "cell_type": "code",
   "execution_count": null,
   "metadata": {},
   "outputs": [],
   "source": [
    "# Describe the defence power for each Pokemon type_1\n",
    "pokemon.groupby('Type_1').Defense.describe()"
   ]
  },
  {
   "cell_type": "code",
   "execution_count": null,
   "metadata": {},
   "outputs": [],
   "source": [
    "# Describe the defence power for each Pokemon type_2\n",
    "pokemon.groupby('Type_2').Defense.describe()"
   ]
  },
  {
   "cell_type": "code",
   "execution_count": null,
   "metadata": {},
   "outputs": [],
   "source": [
    "# Describe the defence power for both types\n",
    "pokemon.groupby(['Type_1','Type_2']).Defense.describe()"
   ]
  },
  {
   "cell_type": "code",
   "execution_count": null,
   "metadata": {},
   "outputs": [],
   "source": [
    "# What are the mean, median, max and minimum of the total column for each Pokemon type?\n",
    "# this instruction will calculate the max only for each Type_1\n",
    "pokemon.groupby('Type_1').Total.max()"
   ]
  },
  {
   "cell_type": "code",
   "execution_count": null,
   "metadata": {},
   "outputs": [],
   "source": [
    "# What are the mean, median, max and minimum of the total column for each Pokemon type?\n",
    "# this will calculate all the values for mean, min, max and median\n",
    "pokemon.groupby('Type_1').Total.agg([\"mean\", \"min\", \"max\", \"median\"])"
   ]
  },
  {
   "cell_type": "code",
   "execution_count": null,
   "metadata": {},
   "outputs": [],
   "source": [
    "# What are the mean, median, max and minimum of the total column for each Pokemon type?\n",
    "# we can do the same for both types\n",
    "pokemon.groupby(['Type_1','Type_2']).Total.agg([\"mean\", \"min\", \"max\", \"median\"])"
   ]
  },
  {
   "cell_type": "code",
   "execution_count": null,
   "metadata": {},
   "outputs": [],
   "source": [
    "# What is the most common Pokemon type?\n",
    "pokemon[\"Type_1\"].mode()"
   ]
  },
  {
   "cell_type": "code",
   "execution_count": null,
   "metadata": {},
   "outputs": [],
   "source": [
    "# What is the most common Pokemon type?\n",
    "Type_1_count = pokemon[\"Type_1\"].value_counts().sort_values()\n",
    "Type_1_count.head(2)"
   ]
  },
  {
   "cell_type": "code",
   "execution_count": null,
   "metadata": {},
   "outputs": [],
   "source": [
    "# What is the most common Pokemon type?\n",
    "p = pokemon.groupby(\"Type_1\").size().reset_index(name='counts')\n",
    "p = p.sort_values(['counts'], ascending=False)\n",
    "p.head(5)"
   ]
  },
  {
   "cell_type": "code",
   "execution_count": null,
   "metadata": {},
   "outputs": [],
   "source": [
    "# What is the most common Pokemon type?\n",
    "p = pokemon.groupby(['Type_1','Type_2']).size().reset_index(name='counts')\n",
    "p = p.sort_values(['counts'], ascending=False)\n",
    "p.head(4)"
   ]
  },
  {
   "cell_type": "code",
   "execution_count": null,
   "metadata": {},
   "outputs": [],
   "source": [
    "pokemon.groupby(['Type_1','Type_2']).size()"
   ]
  },
  {
   "cell_type": "code",
   "execution_count": null,
   "metadata": {},
   "outputs": [],
   "source": [
    "pokemon.loc[pokemon['Type_1'] == 'Normal'].groupby(['Type_1','Type_2']).size().reset_index(name='counts')\n",
    "#pokemon.loc[pokemon['Type_1'] == 'Water'].isnull().sum()"
   ]
  },
  {
   "cell_type": "code",
   "execution_count": null,
   "metadata": {},
   "outputs": [],
   "source": [
    "#Part 3: dealing with Null / missing values\n",
    "# Import the necessary libraries (numpy and pandas)\n",
    "import numpy as np\n",
    "import pandas as pd"
   ]
  },
  {
   "cell_type": "code",
   "execution_count": null,
   "metadata": {},
   "outputs": [],
   "source": [
    "# Import the Pokemon dataset available at https://www.kaggle.com/alopez247/pokemon\n",
    "# first you need to download the dataset from the link and save in the same folder as the notebook\n",
    "pokemon = pd.read_csv(\"pokemon_alopez247.csv\") #in the same folder as the python .ipynb file\n",
    "# pokemon = pd.read_csv(\"Datasets\\\\pokemon_alopez247.csv\") #in the folder datasets located in the same folder as the python .ipynb file"
   ]
  },
  {
   "cell_type": "code",
   "execution_count": null,
   "metadata": {},
   "outputs": [],
   "source": [
    "# Check if there are missing values\n",
    "pokemon.isnull()"
   ]
  },
  {
   "cell_type": "code",
   "execution_count": null,
   "metadata": {},
   "outputs": [],
   "source": [
    "# Check if there are missing values in any column\n",
    "pokemon.isnull().any()"
   ]
  },
  {
   "cell_type": "code",
   "execution_count": null,
   "metadata": {},
   "outputs": [],
   "source": [
    "# Check if there are missing values in all dataset #Null\n",
    "pokemon.isnull().any().any()"
   ]
  },
  {
   "cell_type": "code",
   "execution_count": null,
   "metadata": {},
   "outputs": [],
   "source": [
    "# Check and count missing values per columun\n",
    "pokemon.isnull().sum()"
   ]
  },
  {
   "cell_type": "code",
   "execution_count": null,
   "metadata": {},
   "outputs": [],
   "source": [
    "# Remove the Type_2 and Egg_Group_2 columns\n",
    "pokemon = pokemon.drop(\"Type_2\", axis=1)\n",
    "pokemon = pokemon.drop(\"Egg_Group_2\", axis=1)\n",
    "pokemon"
   ]
  },
  {
   "cell_type": "code",
   "execution_count": null,
   "metadata": {},
   "outputs": [],
   "source": [
    "# Drop any rows that have null values\n",
    "pokemon = pokemon.dropna()\n",
    "pokemon"
   ]
  },
  {
   "cell_type": "code",
   "execution_count": null,
   "metadata": {},
   "outputs": [],
   "source": []
  }
 ],
 "metadata": {
  "kernelspec": {
   "display_name": "Python 3 (ipykernel)",
   "language": "python",
   "name": "python3"
  },
  "language_info": {
   "codemirror_mode": {
    "name": "ipython",
    "version": 3
   },
   "file_extension": ".py",
   "mimetype": "text/x-python",
   "name": "python",
   "nbconvert_exporter": "python",
   "pygments_lexer": "ipython3",
   "version": "3.11.7"
  }
 },
 "nbformat": 4,
 "nbformat_minor": 4
}

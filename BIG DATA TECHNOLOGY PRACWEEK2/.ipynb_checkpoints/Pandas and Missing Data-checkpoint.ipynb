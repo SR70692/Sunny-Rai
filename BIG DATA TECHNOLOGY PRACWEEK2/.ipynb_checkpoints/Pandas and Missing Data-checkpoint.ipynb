{
 "cells": [
  {
   "cell_type": "code",
   "execution_count": null,
   "metadata": {},
   "outputs": [],
   "source": [
    "# sometimes we can write more than one instruction in one cell, as below\n",
    "\n",
    "# this instruction is used to import the library pandas so we can use it later\n",
    "# \"as pd\" means that we can use the term pd to use the library instead of typing pandas\n",
    "import pandas as pd\n",
    "\n",
    "# .read_csv is an input method used to read csv files (datasets)\n",
    "# remember we use pd instead of pandas \n",
    "# Also make sure that both files (the notebook and the dataset) are in the same folder\n",
    "# otherwise, you will need to provide the full path instead of just the name of the dataset\n",
    "salaries = pd.read_csv(\"Salaries.csv\", low_memory=False)\n",
    "\n",
    "# this will allow to create a new subdataset, but with a limited number of instances\n",
    "# for example, here we are selecting all instance where the salary has been recorded in 2014\n",
    "# .Year == 2014\n",
    "Salaries_2014 = salaries[salaries.Year == 2014]\n",
    "Salaries_2014.head()"
   ]
  },
  {
   "cell_type": "code",
   "execution_count": null,
   "metadata": {
    "pycharm": {
     "name": "#%%\n"
    }
   },
   "outputs": [],
   "source": [
    "# .isnull allows to check the null values in the dataset\n",
    "# but it will display this for each and every value, which might not be very useful\n",
    "Salaries_2014.isnull()"
   ]
  },
  {
   "cell_type": "code",
   "execution_count": null,
   "metadata": {
    "pycharm": {
     "name": "#%%\n"
    }
   },
   "outputs": [],
   "source": [
    "# isnull().any() will display this for each feature\n",
    "Salaries_2014.isnull().any()"
   ]
  },
  {
   "cell_type": "code",
   "execution_count": null,
   "metadata": {
    "pycharm": {
     "name": "#%%\n"
    }
   },
   "outputs": [],
   "source": [
    "# .isnull().any().any() will display this for all the dataset\n",
    "Salaries_2014.isnull().any().any()"
   ]
  },
  {
   "cell_type": "code",
   "execution_count": null,
   "metadata": {
    "pycharm": {
     "name": "#%%\n"
    }
   },
   "outputs": [],
   "source": [
    "# sometimes, we might not be only interested in the presence or not of the null values\n",
    "# but we need to know how many null values we have, so we can calculate the sum\n",
    "Salaries_2014.isnull().sum()"
   ]
  },
  {
   "cell_type": "code",
   "execution_count": null,
   "metadata": {
    "pycharm": {
     "name": "#%%\n"
    }
   },
   "outputs": [],
   "source": [
    "# If a feature is not important for any reason (either not useful, or contains only null values, etc.)\n",
    "# we can simply drop the feature itself\n",
    "Salaries_2014 = Salaries_2014.drop(\"Notes\", axis=1)\n",
    "Salaries_2014"
   ]
  },
  {
   "cell_type": "code",
   "execution_count": null,
   "metadata": {
    "pycharm": {
     "name": "#%%\n"
    }
   },
   "outputs": [],
   "source": [
    "# Also we drop instances that has null values using the method .dropna()\n",
    "Salaries_2014 = Salaries_2014.dropna()\n",
    "Salaries_2014"
   ]
  },
  {
   "cell_type": "code",
   "execution_count": null,
   "metadata": {},
   "outputs": [],
   "source": []
  }
 ],
 "metadata": {
  "kernelspec": {
   "display_name": "Python 3 (ipykernel)",
   "language": "python",
   "name": "python3"
  },
  "language_info": {
   "codemirror_mode": {
    "name": "ipython",
    "version": 3
   },
   "file_extension": ".py",
   "mimetype": "text/x-python",
   "name": "python",
   "nbconvert_exporter": "python",
   "pygments_lexer": "ipython3",
   "version": "3.9.7"
  }
 },
 "nbformat": 4,
 "nbformat_minor": 1
}

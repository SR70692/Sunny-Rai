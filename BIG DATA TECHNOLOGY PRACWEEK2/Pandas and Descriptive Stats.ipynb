{
 "cells": [
  {
   "cell_type": "code",
   "execution_count": null,
   "metadata": {},
   "outputs": [],
   "source": [
    "# this instruction is used to import the library pandas so we can use it later\n",
    "# \"as pd\" means that we can use the term pd to use the library instead of typing pandas\n",
    "import pandas as pd"
   ]
  },
  {
   "cell_type": "code",
   "execution_count": null,
   "metadata": {},
   "outputs": [],
   "source": [
    "# .read_csv is an input method used to read csv files (datasets)\n",
    "# remember we use pd instead of pandas \n",
    "# Also make sure that both files (the notebook and the dataset) are in the same folder\n",
    "# otherwise, you will need to provide the full path instead of just the name of the dataset\n",
    "salaries = pd.read_csv(\"Salaries.csv\", low_memory=False)"
   ]
  },
  {
   "cell_type": "code",
   "execution_count": null,
   "metadata": {
    "pycharm": {
     "name": "#%%\n"
    }
   },
   "outputs": [],
   "source": [
    "# this will allow to create a new subdataset, but with a limited number of instances\n",
    "# for example, here we are selecting all instance where the salary has been recorded in 2014\n",
    "# .Year == 2014\n",
    "Salaries_2014 = salaries[salaries.Year == 2014]"
   ]
  },
  {
   "cell_type": "code",
   "execution_count": null,
   "metadata": {},
   "outputs": [],
   "source": [
    "# of course we can call the method .describe() for this new subdataset\n",
    "Salaries_2014.describe()"
   ]
  },
  {
   "cell_type": "code",
   "execution_count": null,
   "metadata": {
    "pycharm": {
     "name": "#%%\n"
    }
   },
   "outputs": [],
   "source": [
    "# we can print the mean and max for the newly created dataset Salaries_2014\n",
    "print(\"Mean: %f\" % Salaries_2014[\"TotalPay\"].mean())\n",
    "print(\"Max: %f\" % Salaries_2014[\"TotalPay\"].max())"
   ]
  },
  {
   "cell_type": "code",
   "execution_count": null,
   "metadata": {
    "pycharm": {
     "name": "#%%\n"
    }
   },
   "outputs": [],
   "source": [
    "# .sort_values is used to create the values in specific order\n",
    "# The following will make a selection on TotalPay and then sort the values in ascending order\n",
    "Salaries_2014.TotalPay.sort_values()"
   ]
  },
  {
   "cell_type": "code",
   "execution_count": null,
   "metadata": {
    "pycharm": {
     "name": "#%%\n"
    }
   },
   "outputs": [],
   "source": [
    "# we can also sort them in descending order\n",
    "# more information on .sort_values can be found on the followingn link\n",
    "# https://pandas.pydata.org/docs/reference/api/pandas.DataFrame.sort_values.html\n",
    "Salaries_2014.TotalPay.sort_values(ascending=False)"
   ]
  },
  {
   "cell_type": "code",
   "execution_count": null,
   "metadata": {
    "pycharm": {
     "name": "#%%\n"
    }
   },
   "outputs": [],
   "source": [
    "# we can also group the data by a specific attribute\n",
    "# more information on .groupby can be found on the followingn link\n",
    "# https://pandas.pydata.org/pandas-docs/stable/reference/api/pandas.DataFrame.groupby.html\n",
    "role=salaries.groupby(\"JobTitle\")\n",
    "# and then we can display the mean for each group\n",
    "role.mean()"
   ]
  },
  {
   "cell_type": "code",
   "execution_count": null,
   "metadata": {
    "pycharm": {
     "name": "#%%\n"
    }
   },
   "outputs": [],
   "source": [
    "# again, if needed, we can describe the newly created dataset\n",
    "role.TotalPay.describe()"
   ]
  },
  {
   "cell_type": "code",
   "execution_count": null,
   "metadata": {
    "pycharm": {
     "name": "#%%\n"
    }
   },
   "outputs": [],
   "source": [
    "# but we can also describe a specific attribute in a dataset\n",
    "role.TotalPay.describe()"
   ]
  },
  {
   "cell_type": "code",
   "execution_count": null,
   "metadata": {},
   "outputs": [],
   "source": [
    "# if we don't want to use describe, but we are interested in more than one function\n",
    "# we can use the agg to aggregate using one or more operations over the specified axis\n",
    "Salaries_2014.groupby('JobTitle').TotalPay.agg([\"mean\", \"min\", \"max\", \"median\"])"
   ]
  },
  {
   "cell_type": "code",
   "execution_count": null,
   "metadata": {},
   "outputs": [],
   "source": []
  }
 ],
 "metadata": {
  "kernelspec": {
   "display_name": "Python 3 (ipykernel)",
   "language": "python",
   "name": "python3"
  },
  "language_info": {
   "codemirror_mode": {
    "name": "ipython",
    "version": 3
   },
   "file_extension": ".py",
   "mimetype": "text/x-python",
   "name": "python",
   "nbconvert_exporter": "python",
   "pygments_lexer": "ipython3",
   "version": "3.9.20"
  }
 },
 "nbformat": 4,
 "nbformat_minor": 4
}
